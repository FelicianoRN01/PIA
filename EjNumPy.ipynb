{
 "cells": [
  {
   "cell_type": "markdown",
   "metadata": {},
   "source": [
    "### Ejercicio 1\n",
    "\n",
    "Crea una array de numpy con los siguiente números primos: 2, 3, 5, 7, 11, 13, 17, 19, 23, 29\n",
    "\n",
    "- Muestra el último elemento. Y debes hacerlo sin saber su longitud.\n",
    "- Muestra el 3º elemento\n",
    "- Muestra el último y 3º elemento.\n",
    "- Muestra del 2º al 5º elemento.\n",
    "- Muestra el último y el penúltimo elemento. Y debes hacerlo sin saber su longitud.\n"
   ]
  },
  {
   "cell_type": "code",
   "execution_count": 66,
   "metadata": {},
   "outputs": [],
   "source": [
    "import numpy as np\n",
    "a = ([2, 3, 5, 7, 11, 13, 17, 19, 23, 29])"
   ]
  },
  {
   "cell_type": "markdown",
   "metadata": {},
   "source": [
    "- Muestra el último elemento. Y debes hacerlo sin saber su longitud."
   ]
  },
  {
   "cell_type": "code",
   "execution_count": 67,
   "metadata": {},
   "outputs": [
    {
     "name": "stdout",
     "output_type": "stream",
     "text": [
      "29\n"
     ]
    }
   ],
   "source": [
    "ult_primo = a[-1]\n",
    "print(ult_primo)"
   ]
  },
  {
   "cell_type": "markdown",
   "metadata": {},
   "source": [
    "- Muestra el 3º elemento"
   ]
  },
  {
   "cell_type": "code",
   "execution_count": 68,
   "metadata": {},
   "outputs": [
    {
     "name": "stdout",
     "output_type": "stream",
     "text": [
      "5\n"
     ]
    }
   ],
   "source": [
    "tercer_elemento = a[2]\n",
    "print(tercer_elemento)"
   ]
  },
  {
   "cell_type": "markdown",
   "metadata": {},
   "source": [
    "- Muestra el último y 3º elemento."
   ]
  },
  {
   "cell_type": "code",
   "execution_count": 69,
   "metadata": {},
   "outputs": [
    {
     "name": "stdout",
     "output_type": "stream",
     "text": [
      "3º elemento: 5\n",
      "Último elemento: 29\n"
     ]
    }
   ],
   "source": [
    "ult_elem = a[-1]\n",
    "\n",
    "tercer_elemento = a[2]\n",
    "print(\"3º elemento:\", tercer_elemento)\n",
    "print(\"Último elemento:\", ult_elem)"
   ]
  },
  {
   "cell_type": "markdown",
   "metadata": {},
   "source": [
    "- Muestra del 2º al 5º elemento."
   ]
  },
  {
   "cell_type": "code",
   "execution_count": 70,
   "metadata": {},
   "outputs": [
    {
     "name": "stdout",
     "output_type": "stream",
     "text": [
      "Segundo elemento: 3\n",
      "Quinto elemento: 11\n"
     ]
    }
   ],
   "source": [
    "seg_elem = a[1]\n",
    "\n",
    "quinto_elemento = a[4]\n",
    "print(\"Segundo elemento:\", seg_elem)\n",
    "print(\"Quinto elemento:\", quinto_elemento)"
   ]
  },
  {
   "cell_type": "markdown",
   "metadata": {},
   "source": [
    "- Muestra el último y el penúltimo elemento. Y debes hacerlo sin saber su longitud.\n"
   ]
  },
  {
   "cell_type": "code",
   "execution_count": 71,
   "metadata": {},
   "outputs": [
    {
     "name": "stdout",
     "output_type": "stream",
     "text": [
      "[23, 29]\n"
     ]
    }
   ],
   "source": [
    "ultimos_elementos = a[-2:]\n",
    "print(ultimos_elementos)"
   ]
  },
  {
   "cell_type": "markdown",
   "metadata": {},
   "source": [
    "### Ejercicio 2 \n",
    "- Crea una array de numpy con los siguiente números primos: 2, 3, 5, 7, 11, 13, 17, 19, 23, 29 pero que el array sea de tipo \"float\" de 32 bits.\n",
    "\n",
    "- Usando la función arange de numpy crea un array con los números del 100 al 200 pero sin incluir el 200. Muestra el resultado.\n",
    "\n",
    "- Usando la función range estándar de Python crea un array con los números del 100 al 200 pero sin incluir el 200. Muestra el resultado. ¿Qué diferencia hay con arange?\n"
   ]
  },
  {
   "cell_type": "markdown",
   "metadata": {},
   "source": [
    "- Crea una array de numpy con los siguiente números primos: 2, 3, 5, 7, 11, 13, 17, 19, 23, 29 pero que el array sea de tipo \"float\" de 32 bits.\n"
   ]
  },
  {
   "cell_type": "code",
   "execution_count": 72,
   "metadata": {},
   "outputs": [
    {
     "name": "stdout",
     "output_type": "stream",
     "text": [
      "[2, 3, 5, 7, 11, 13, 17, 19, 23, 29]\n"
     ]
    }
   ],
   "source": [
    "a = ([2, 3, 5, 7, 11, 13, 17, 19, 23, 29])\n",
    "print(a)"
   ]
  },
  {
   "cell_type": "markdown",
   "metadata": {},
   "source": [
    "- Usando la función arange de numpy crea un array con los números del 100 al 200 pero sin incluir el 200. Muestra el resultado.\n"
   ]
  },
  {
   "cell_type": "code",
   "execution_count": 73,
   "metadata": {},
   "outputs": [
    {
     "name": "stdout",
     "output_type": "stream",
     "text": [
      "[100 101 102 103 104 105 106 107 108 109 110 111 112 113 114 115 116 117\n",
      " 118 119 120 121 122 123 124 125 126 127 128 129 130 131 132 133 134 135\n",
      " 136 137 138 139 140 141 142 143 144 145 146 147 148 149 150 151 152 153\n",
      " 154 155 156 157 158 159 160 161 162 163 164 165 166 167 168 169 170 171\n",
      " 172 173 174 175 176 177 178 179 180 181 182 183 184 185 186 187 188 189\n",
      " 190 191 192 193 194 195 196 197 198 199]\n"
     ]
    }
   ],
   "source": [
    "narr = np.arange(100,200)\n",
    "\n",
    "print(narr)"
   ]
  },
  {
   "cell_type": "markdown",
   "metadata": {},
   "source": [
    "- Usando la función range estándar de Python crea un array con los números del 100 al 200 pero sin incluir el 200. Muestra el resultado. ¿Qué diferencia hay con arange?\n"
   ]
  },
  {
   "cell_type": "code",
   "execution_count": 74,
   "metadata": {},
   "outputs": [
    {
     "name": "stdout",
     "output_type": "stream",
     "text": [
      "[100, 101, 102, 103, 104, 105, 106, 107, 108, 109, 110, 111, 112, 113, 114, 115, 116, 117, 118, 119, 120, 121, 122, 123, 124, 125, 126, 127, 128, 129, 130, 131, 132, 133, 134, 135, 136, 137, 138, 139, 140, 141, 142, 143, 144, 145, 146, 147, 148, 149, 150, 151, 152, 153, 154, 155, 156, 157, 158, 159, 160, 161, 162, 163, 164, 165, 166, 167, 168, 169, 170, 171, 172, 173, 174, 175, 176, 177, 178, 179, 180, 181, 182, 183, 184, 185, 186, 187, 188, 189, 190, 191, 192, 193, 194, 195, 196, 197, 198, 199]\n"
     ]
    }
   ],
   "source": [
    "n2arr = list(range(100,200))\n",
    "print(n2arr)"
   ]
  },
  {
   "cell_type": "markdown",
   "metadata": {},
   "source": [
    "### Ejercicio 3\n",
    "Crea la siguiente matriz:\n",
    "\n",
    "- Muestra el elemento de la fila 2º y la columna 3º. Es el valor del 7.\n",
    "- Muestra la 3º Fila\n",
    "- Muestra la 2º Columna\n",
    "- Muestra la 2º y 3º Columna\n",
    "- Muestra la 2º y 3º Fila\n",
    "- Muestra la última columna. Debe funcionar independientemente del número de columnas.\n",
    "- Muestra la 2º y 4º Columna y la 1º y 3º fila\n",
    "- Muestra de la 2º a la 3º Columna y de la 1º a la 3º fila\n",
    "- Muestra todas las columnas excepto la primera y la última. Debe funcionar independientemente del número de columnas.\n",
    "- Muestra todas las filas excepto la primera y la última. Debe funcionar independientemente del número de filas.\n",
    "- Muestra todas las columnas excepto la primera y la última y todas las filas excepto la primera y la última. Debe funcionar independientemente del número de filas y columnas.\n",
    "- Imprime la matriz y haz que las cabeceras de cada columna sean A, B , C y D\n"
   ]
  },
  {
   "cell_type": "code",
   "execution_count": 75,
   "metadata": {},
   "outputs": [
    {
     "name": "stdout",
     "output_type": "stream",
     "text": [
      "Matriz:\n",
      "[[1 4 6 5]\n",
      " [4 1 7 3]\n",
      " [2 9 1 2]\n",
      " [6 3 1 1]]\n"
     ]
    }
   ],
   "source": [
    "arrayej3 = np.array([\n",
    "    [1, 4, 6, 5],\n",
    "    [4, 1, 7, 3],\n",
    "    [2, 9, 1, 2],\n",
    "    [6, 3, 1, 1]\n",
    "])\n",
    "print(\"Matriz:\")\n",
    "print(arrayej3)"
   ]
  },
  {
   "cell_type": "markdown",
   "metadata": {},
   "source": [
    "- Muestra el elemento de la fila 2º y la columna 3º. Es el valor del 7."
   ]
  },
  {
   "cell_type": "code",
   "execution_count": 76,
   "metadata": {},
   "outputs": [
    {
     "name": "stdout",
     "output_type": "stream",
     "text": [
      "Valor de la 2ª fila y 3ª columna: 7\n"
     ]
    }
   ],
   "source": [
    "valor_2fila_3columna = arrayej3[1, 2]\n",
    "print(\"Valor de la 2ª fila y 3ª columna:\", valor_2fila_3columna)"
   ]
  },
  {
   "cell_type": "markdown",
   "metadata": {},
   "source": [
    "- Muestra la 3º Fila"
   ]
  },
  {
   "cell_type": "code",
   "execution_count": 77,
   "metadata": {},
   "outputs": [
    {
     "name": "stdout",
     "output_type": "stream",
     "text": [
      "Valores de la 3ª fila: [2 9 1 2]\n"
     ]
    }
   ],
   "source": [
    "valor_3fila = arrayej3[2]\n",
    "print(\"Valores de la 3ª fila:\", valor_3fila)"
   ]
  },
  {
   "cell_type": "markdown",
   "metadata": {},
   "source": [
    "- Muestra la 2º Columna\n"
   ]
  },
  {
   "cell_type": "code",
   "execution_count": 78,
   "metadata": {},
   "outputs": [
    {
     "name": "stdout",
     "output_type": "stream",
     "text": [
      "Valores de la 2ª columna: [4 1 9 3]\n"
     ]
    }
   ],
   "source": [
    "valor_2col = arrayej3[:,1]\n",
    "print(\"Valores de la 2ª columna:\", valor_2col)"
   ]
  },
  {
   "cell_type": "markdown",
   "metadata": {},
   "source": [
    "-  Muestra la 2º y 3º Columna"
   ]
  },
  {
   "cell_type": "code",
   "execution_count": 79,
   "metadata": {},
   "outputs": [
    {
     "name": "stdout",
     "output_type": "stream",
     "text": [
      "Valores de la 2ª y 3ª columna:\n",
      " [[4 6]\n",
      " [1 7]\n",
      " [9 1]\n",
      " [3 1]]\n"
     ]
    }
   ],
   "source": [
    "valor_2col_3col = arrayej3[:,1:3]\n",
    "print(\"Valores de la 2ª y 3ª columna:\\n\", valor_2col_3col)"
   ]
  },
  {
   "cell_type": "markdown",
   "metadata": {},
   "source": [
    "- Muestra la 2º y 3º Fila\n"
   ]
  },
  {
   "cell_type": "code",
   "execution_count": 80,
   "metadata": {},
   "outputs": [
    {
     "name": "stdout",
     "output_type": "stream",
     "text": [
      "Valores de la 2ª y 3ª fila:\n",
      " [[4 1 7 3]\n",
      " [2 9 1 2]]\n"
     ]
    }
   ],
   "source": [
    "valor_2fil_3fil = arrayej3[1:3,:]\n",
    "print(\"Valores de la 2ª y 3ª fila:\\n\", valor_2fil_3fil)"
   ]
  },
  {
   "cell_type": "markdown",
   "metadata": {},
   "source": [
    "- Muestra la última columna. Debe funcionar independientemente del número de columnas."
   ]
  },
  {
   "cell_type": "code",
   "execution_count": 81,
   "metadata": {},
   "outputs": [
    {
     "name": "stdout",
     "output_type": "stream",
     "text": [
      "Valores de la última fila:\n",
      " [5 3 2 1]\n"
     ]
    }
   ],
   "source": [
    "valor_ult_col = arrayej3[:, -1]\n",
    "print(\"Valores de la última fila:\\n\", valor_ult_col)"
   ]
  },
  {
   "cell_type": "markdown",
   "metadata": {},
   "source": [
    "- Muestra la 2º y 4º Columna y la 1º y 3º fila"
   ]
  },
  {
   "cell_type": "code",
   "execution_count": 82,
   "metadata": {},
   "outputs": [
    {
     "name": "stdout",
     "output_type": "stream",
     "text": [
      "Valores de la 2ª y 4ª columna y 1ª y 3ª fila:\n",
      " [[4 5]\n",
      " [9 2]]\n"
     ]
    }
   ],
   "source": [
    "valor2_4col_1_3fil = arrayej3[[0, 2], :][:, [1, 3]]\n",
    "print(\"Valores de la 2ª y 4ª columna y 1ª y 3ª fila:\\n\", valor2_4col_1_3fil)"
   ]
  },
  {
   "cell_type": "markdown",
   "metadata": {},
   "source": [
    "- Muestra de la 2º a la 3º Columna y de la 1º a la 3º fila"
   ]
  },
  {
   "cell_type": "code",
   "execution_count": 83,
   "metadata": {},
   "outputs": [
    {
     "name": "stdout",
     "output_type": "stream",
     "text": [
      "Valores de la 2ª y 4ª columna y 1ª y 3ª fila:\n",
      " [[4 6 5]\n",
      " [1 7 3]\n",
      " [9 1 2]]\n"
     ]
    }
   ],
   "source": [
    "valorde2_4col_1_3fil = arrayej3[:3,1:4]\n",
    "print(\"Valores de la 2ª y 4ª columna y 1ª y 3ª fila:\\n\", valorde2_4col_1_3fil)"
   ]
  },
  {
   "cell_type": "markdown",
   "metadata": {},
   "source": [
    "- Muestra todas las columnas excepto la primera y la última. Debe funcionar independientemente del número de columnas"
   ]
  },
  {
   "cell_type": "code",
   "execution_count": 84,
   "metadata": {},
   "outputs": [
    {
     "name": "stdout",
     "output_type": "stream",
     "text": [
      "Valores de todas las columnas:\n",
      " [[4 6]\n",
      " [1 7]\n",
      " [9 1]\n",
      " [3 1]]\n"
     ]
    }
   ],
   "source": [
    "valor_allcol = arrayej3[:, 1:-1]\n",
    "print(\"Valores de todas las columnas:\\n\", valor_allcol)"
   ]
  },
  {
   "cell_type": "markdown",
   "metadata": {},
   "source": [
    "- Muestra todas las filas excepto la primera y la última. Debe funcionar independientemente del número de filas."
   ]
  },
  {
   "cell_type": "code",
   "execution_count": 85,
   "metadata": {},
   "outputs": [
    {
     "name": "stdout",
     "output_type": "stream",
     "text": [
      "Valores de todas las filas:\n",
      " [[4 1 7 3]\n",
      " [2 9 1 2]]\n"
     ]
    }
   ],
   "source": [
    "valor_allfil = arrayej3[1:-1, :]\n",
    "print(\"Valores de todas las filas:\\n\", valor_allfil)"
   ]
  },
  {
   "cell_type": "markdown",
   "metadata": {},
   "source": [
    "- Muestra todas las columnas excepto la primera y la última y todas las filas excepto la primera y la última. Debe funcionar independientemente del número de filas y columnas.\n"
   ]
  },
  {
   "cell_type": "code",
   "execution_count": 86,
   "metadata": {},
   "outputs": [
    {
     "name": "stdout",
     "output_type": "stream",
     "text": [
      "Valores de todas las filas y columnas excepto la primera y la última:\n",
      " [[1 7]\n",
      " [9 1]]\n"
     ]
    }
   ],
   "source": [
    "valor_all_excep = arrayej3[1:-1, 1:-1]\n",
    "print(\"Valores de todas las filas y columnas excepto la primera y la última:\\n\", valor_all_excep)"
   ]
  },
  {
   "cell_type": "markdown",
   "metadata": {},
   "source": [
    "- Imprime la matriz y haz que las cabeceras de cada columna sean A, B , C y D\n"
   ]
  },
  {
   "cell_type": "code",
   "execution_count": 87,
   "metadata": {},
   "outputs": [
    {
     "name": "stdout",
     "output_type": "stream",
     "text": [
      "   A  B  C  D\n",
      "0  1  4  6  5\n",
      "1  4  1  7  3\n",
      "2  2  9  1  2\n",
      "3  6  3  1  1\n"
     ]
    }
   ],
   "source": [
    "import pandas as pd\n",
    "df = pd.DataFrame(arrayej3, columns=['A', 'B', 'C', 'D'])\n",
    "\n",
    "print(df)"
   ]
  },
  {
   "cell_type": "markdown",
   "metadata": {},
   "source": [
    "### Ejercicio 4\n",
    "El siguiente array contiene las temperaturas medias que ha hecho en Valencia en cada mes [10.2, 10.7, 13.3, 15.8, 19.3, 23.6, 26, 25.9, 22.8, 19.1, 13.9, 10.8 ]\n",
    "- Muestra las temperaturas cuyo valor sea mayor que 20\n",
    "- Muestra las temperaturas cuyo valor sea menor que 11\n",
    "- Muestra las temperaturas cuyo valor sea mayor que 20 o menor que 11\n"
   ]
  },
  {
   "cell_type": "code",
   "execution_count": 88,
   "metadata": {},
   "outputs": [
    {
     "name": "stdout",
     "output_type": "stream",
     "text": [
      "[10.2 10.7 13.3 15.8 19.3 23.6 26.  25.9 22.8 19.1 13.9 10.8]\n"
     ]
    }
   ],
   "source": [
    "arrayej4 = np.array([10.2, 10.7, 13.3, 15.8, 19.3, 23.6, 26, 25.9, 22.8, 19.1, 13.9, 10.8 ])\n",
    "print(arrayej4)"
   ]
  },
  {
   "cell_type": "markdown",
   "metadata": {},
   "source": [
    "- Muestra las temperaturas cuyo valor sea mayor que 20"
   ]
  },
  {
   "cell_type": "code",
   "execution_count": 89,
   "metadata": {},
   "outputs": [
    {
     "name": "stdout",
     "output_type": "stream",
     "text": [
      "Temperaturas mayores de 20: [23.6 26.  25.9 22.8]\n"
     ]
    }
   ],
   "source": [
    "temperaturas_mayores_20 = arrayej4[arrayej4 > 20]\n",
    "print(\"Temperaturas mayores de 20:\", temperaturas_mayores_20)"
   ]
  },
  {
   "cell_type": "markdown",
   "metadata": {},
   "source": [
    "- Muestra las temperaturas cuyo valor sea menor que 11\n"
   ]
  },
  {
   "cell_type": "code",
   "execution_count": 90,
   "metadata": {},
   "outputs": [
    {
     "name": "stdout",
     "output_type": "stream",
     "text": [
      "Temperaturas menores de 11: [10.2 10.7 10.8]\n"
     ]
    }
   ],
   "source": [
    "temperaturas_menor_11 = arrayej4[arrayej4 < 11]\n",
    "print(\"Temperaturas menores de 11:\", temperaturas_menor_11)"
   ]
  },
  {
   "cell_type": "markdown",
   "metadata": {},
   "source": [
    "- Muestra las temperaturas cuyo valor sea mayor que 20 o menor que 11\n"
   ]
  },
  {
   "cell_type": "code",
   "execution_count": 91,
   "metadata": {},
   "outputs": [
    {
     "name": "stdout",
     "output_type": "stream",
     "text": [
      "Temperaturas menores de 11 o mayores de 20: [10.2 10.7 23.6 26.  25.9 22.8 10.8]\n"
     ]
    }
   ],
   "source": [
    "temp_menor11_mayor20 = arrayej4[(arrayej4 < 11) | (arrayej4 > 20)]\n",
    "print(\"Temperaturas menores de 11 o mayores de 20:\", temp_menor11_mayor20)"
   ]
  },
  {
   "cell_type": "markdown",
   "metadata": {},
   "source": [
    "### Ejercicio 5\n",
    "Carga los datos de un dataset muy utilizado en la ciencia de datos con con el siguiente código:\n",
    "__from sklearn.datasets import load_iris\n",
    "datos=load_iris().data\n",
    "resultado=load_iris().target__\n",
    "- Crea un array llamado sepal_length con las 99 primeras filas y la 1º columna de la matriz datos\n",
    "- Crea un array llamado petal_length con las 99 primeras filas y la 3º columna de la matriz datos\n",
    "- Crea un array llamado x juntando las 2 columnas sepal_length y petal_length\n",
    "- Crea un array llamado y con las 99 primeras filas del vector resultado\n",
    "- Crea un array llamado x con las 99 primeras filas , la 1º columna y la 3º columna de la matriz datos.\n",
    "\n",
    "\n"
   ]
  },
  {
   "cell_type": "code",
   "execution_count": 92,
   "metadata": {},
   "outputs": [
    {
     "name": "stdout",
     "output_type": "stream",
     "text": [
      "[[5.1 3.5 1.4 0.2]\n",
      " [4.9 3.  1.4 0.2]\n",
      " [4.7 3.2 1.3 0.2]\n",
      " [4.6 3.1 1.5 0.2]\n",
      " [5.  3.6 1.4 0.2]\n",
      " [5.4 3.9 1.7 0.4]\n",
      " [4.6 3.4 1.4 0.3]\n",
      " [5.  3.4 1.5 0.2]\n",
      " [4.4 2.9 1.4 0.2]\n",
      " [4.9 3.1 1.5 0.1]\n",
      " [5.4 3.7 1.5 0.2]\n",
      " [4.8 3.4 1.6 0.2]\n",
      " [4.8 3.  1.4 0.1]\n",
      " [4.3 3.  1.1 0.1]\n",
      " [5.8 4.  1.2 0.2]\n",
      " [5.7 4.4 1.5 0.4]\n",
      " [5.4 3.9 1.3 0.4]\n",
      " [5.1 3.5 1.4 0.3]\n",
      " [5.7 3.8 1.7 0.3]\n",
      " [5.1 3.8 1.5 0.3]\n",
      " [5.4 3.4 1.7 0.2]\n",
      " [5.1 3.7 1.5 0.4]\n",
      " [4.6 3.6 1.  0.2]\n",
      " [5.1 3.3 1.7 0.5]\n",
      " [4.8 3.4 1.9 0.2]\n",
      " [5.  3.  1.6 0.2]\n",
      " [5.  3.4 1.6 0.4]\n",
      " [5.2 3.5 1.5 0.2]\n",
      " [5.2 3.4 1.4 0.2]\n",
      " [4.7 3.2 1.6 0.2]\n",
      " [4.8 3.1 1.6 0.2]\n",
      " [5.4 3.4 1.5 0.4]\n",
      " [5.2 4.1 1.5 0.1]\n",
      " [5.5 4.2 1.4 0.2]\n",
      " [4.9 3.1 1.5 0.2]\n",
      " [5.  3.2 1.2 0.2]\n",
      " [5.5 3.5 1.3 0.2]\n",
      " [4.9 3.6 1.4 0.1]\n",
      " [4.4 3.  1.3 0.2]\n",
      " [5.1 3.4 1.5 0.2]\n",
      " [5.  3.5 1.3 0.3]\n",
      " [4.5 2.3 1.3 0.3]\n",
      " [4.4 3.2 1.3 0.2]\n",
      " [5.  3.5 1.6 0.6]\n",
      " [5.1 3.8 1.9 0.4]\n",
      " [4.8 3.  1.4 0.3]\n",
      " [5.1 3.8 1.6 0.2]\n",
      " [4.6 3.2 1.4 0.2]\n",
      " [5.3 3.7 1.5 0.2]\n",
      " [5.  3.3 1.4 0.2]\n",
      " [7.  3.2 4.7 1.4]\n",
      " [6.4 3.2 4.5 1.5]\n",
      " [6.9 3.1 4.9 1.5]\n",
      " [5.5 2.3 4.  1.3]\n",
      " [6.5 2.8 4.6 1.5]\n",
      " [5.7 2.8 4.5 1.3]\n",
      " [6.3 3.3 4.7 1.6]\n",
      " [4.9 2.4 3.3 1. ]\n",
      " [6.6 2.9 4.6 1.3]\n",
      " [5.2 2.7 3.9 1.4]\n",
      " [5.  2.  3.5 1. ]\n",
      " [5.9 3.  4.2 1.5]\n",
      " [6.  2.2 4.  1. ]\n",
      " [6.1 2.9 4.7 1.4]\n",
      " [5.6 2.9 3.6 1.3]\n",
      " [6.7 3.1 4.4 1.4]\n",
      " [5.6 3.  4.5 1.5]\n",
      " [5.8 2.7 4.1 1. ]\n",
      " [6.2 2.2 4.5 1.5]\n",
      " [5.6 2.5 3.9 1.1]\n",
      " [5.9 3.2 4.8 1.8]\n",
      " [6.1 2.8 4.  1.3]\n",
      " [6.3 2.5 4.9 1.5]\n",
      " [6.1 2.8 4.7 1.2]\n",
      " [6.4 2.9 4.3 1.3]\n",
      " [6.6 3.  4.4 1.4]\n",
      " [6.8 2.8 4.8 1.4]\n",
      " [6.7 3.  5.  1.7]\n",
      " [6.  2.9 4.5 1.5]\n",
      " [5.7 2.6 3.5 1. ]\n",
      " [5.5 2.4 3.8 1.1]\n",
      " [5.5 2.4 3.7 1. ]\n",
      " [5.8 2.7 3.9 1.2]\n",
      " [6.  2.7 5.1 1.6]\n",
      " [5.4 3.  4.5 1.5]\n",
      " [6.  3.4 4.5 1.6]\n",
      " [6.7 3.1 4.7 1.5]\n",
      " [6.3 2.3 4.4 1.3]\n",
      " [5.6 3.  4.1 1.3]\n",
      " [5.5 2.5 4.  1.3]\n",
      " [5.5 2.6 4.4 1.2]\n",
      " [6.1 3.  4.6 1.4]\n",
      " [5.8 2.6 4.  1.2]\n",
      " [5.  2.3 3.3 1. ]\n",
      " [5.6 2.7 4.2 1.3]\n",
      " [5.7 3.  4.2 1.2]\n",
      " [5.7 2.9 4.2 1.3]\n",
      " [6.2 2.9 4.3 1.3]\n",
      " [5.1 2.5 3.  1.1]\n",
      " [5.7 2.8 4.1 1.3]\n",
      " [6.3 3.3 6.  2.5]\n",
      " [5.8 2.7 5.1 1.9]\n",
      " [7.1 3.  5.9 2.1]\n",
      " [6.3 2.9 5.6 1.8]\n",
      " [6.5 3.  5.8 2.2]\n",
      " [7.6 3.  6.6 2.1]\n",
      " [4.9 2.5 4.5 1.7]\n",
      " [7.3 2.9 6.3 1.8]\n",
      " [6.7 2.5 5.8 1.8]\n",
      " [7.2 3.6 6.1 2.5]\n",
      " [6.5 3.2 5.1 2. ]\n",
      " [6.4 2.7 5.3 1.9]\n",
      " [6.8 3.  5.5 2.1]\n",
      " [5.7 2.5 5.  2. ]\n",
      " [5.8 2.8 5.1 2.4]\n",
      " [6.4 3.2 5.3 2.3]\n",
      " [6.5 3.  5.5 1.8]\n",
      " [7.7 3.8 6.7 2.2]\n",
      " [7.7 2.6 6.9 2.3]\n",
      " [6.  2.2 5.  1.5]\n",
      " [6.9 3.2 5.7 2.3]\n",
      " [5.6 2.8 4.9 2. ]\n",
      " [7.7 2.8 6.7 2. ]\n",
      " [6.3 2.7 4.9 1.8]\n",
      " [6.7 3.3 5.7 2.1]\n",
      " [7.2 3.2 6.  1.8]\n",
      " [6.2 2.8 4.8 1.8]\n",
      " [6.1 3.  4.9 1.8]\n",
      " [6.4 2.8 5.6 2.1]\n",
      " [7.2 3.  5.8 1.6]\n",
      " [7.4 2.8 6.1 1.9]\n",
      " [7.9 3.8 6.4 2. ]\n",
      " [6.4 2.8 5.6 2.2]\n",
      " [6.3 2.8 5.1 1.5]\n",
      " [6.1 2.6 5.6 1.4]\n",
      " [7.7 3.  6.1 2.3]\n",
      " [6.3 3.4 5.6 2.4]\n",
      " [6.4 3.1 5.5 1.8]\n",
      " [6.  3.  4.8 1.8]\n",
      " [6.9 3.1 5.4 2.1]\n",
      " [6.7 3.1 5.6 2.4]\n",
      " [6.9 3.1 5.1 2.3]\n",
      " [5.8 2.7 5.1 1.9]\n",
      " [6.8 3.2 5.9 2.3]\n",
      " [6.7 3.3 5.7 2.5]\n",
      " [6.7 3.  5.2 2.3]\n",
      " [6.3 2.5 5.  1.9]\n",
      " [6.5 3.  5.2 2. ]\n",
      " [6.2 3.4 5.4 2.3]\n",
      " [5.9 3.  5.1 1.8]]\n"
     ]
    }
   ],
   "source": [
    "from sklearn.datasets import load_iris\n",
    "datos=load_iris().data\n",
    "resultado=load_iris().target\n",
    "print(datos)"
   ]
  },
  {
   "cell_type": "markdown",
   "metadata": {},
   "source": [
    "- Crea un array llamado sepal_length con las 99 primeras filas y la 1º columna de la matriz datos"
   ]
  },
  {
   "cell_type": "code",
   "execution_count": 93,
   "metadata": {},
   "outputs": [
    {
     "name": "stdout",
     "output_type": "stream",
     "text": [
      "Muestra de los datos:\n",
      " [5.1 4.9 4.7 4.6 5.  5.4 4.6 5.  4.4 4.9 5.4 4.8 4.8 4.3 5.8 5.7 5.4 5.1\n",
      " 5.7 5.1 5.4 5.1 4.6 5.1 4.8 5.  5.  5.2 5.2 4.7 4.8 5.4 5.2 5.5 4.9 5.\n",
      " 5.5 4.9 4.4 5.1 5.  4.5 4.4 5.  5.1 4.8 5.1 4.6 5.3 5.  7.  6.4 6.9 5.5\n",
      " 6.5 5.7 6.3 4.9 6.6 5.2 5.  5.9 6.  6.1 5.6 6.7 5.6 5.8 6.2 5.6 5.9 6.1\n",
      " 6.3 6.1 6.4 6.6 6.8 6.7 6.  5.7 5.5 5.5 5.8 6.  5.4 6.  6.7 6.3 5.6 5.5\n",
      " 5.5 6.1 5.8 5.  5.6 5.7 5.7 6.2 5.1]\n"
     ]
    }
   ],
   "source": [
    "sepal_length = datos[:99, 0]\n",
    "print(\"Muestra de los datos:\\n\", sepal_length)"
   ]
  },
  {
   "cell_type": "markdown",
   "metadata": {},
   "source": [
    "- Crea un array llamado petal_length con las 99 primeras filas y la 3º columna de la matriz datos"
   ]
  },
  {
   "cell_type": "code",
   "execution_count": 94,
   "metadata": {},
   "outputs": [
    {
     "name": "stdout",
     "output_type": "stream",
     "text": [
      "Muestra de los datos:\n",
      " [1.4 1.4 1.3 1.5 1.4 1.7 1.4 1.5 1.4 1.5 1.5 1.6 1.4 1.1 1.2 1.5 1.3 1.4\n",
      " 1.7 1.5 1.7 1.5 1.  1.7 1.9 1.6 1.6 1.5 1.4 1.6 1.6 1.5 1.5 1.4 1.5 1.2\n",
      " 1.3 1.4 1.3 1.5 1.3 1.3 1.3 1.6 1.9 1.4 1.6 1.4 1.5 1.4 4.7 4.5 4.9 4.\n",
      " 4.6 4.5 4.7 3.3 4.6 3.9 3.5 4.2 4.  4.7 3.6 4.4 4.5 4.1 4.5 3.9 4.8 4.\n",
      " 4.9 4.7 4.3 4.4 4.8 5.  4.5 3.5 3.8 3.7 3.9 5.1 4.5 4.5 4.7 4.4 4.1 4.\n",
      " 4.4 4.6 4.  3.3 4.2 4.2 4.2 4.3 3. ]\n"
     ]
    }
   ],
   "source": [
    "petal_length = datos[:99, 2]\n",
    "print(\"Muestra de los datos:\\n\", petal_length)"
   ]
  },
  {
   "cell_type": "markdown",
   "metadata": {},
   "source": [
    "- Crea un array llamado x juntando las 2 columnas sepal_length y petal_length\n"
   ]
  },
  {
   "cell_type": "code",
   "execution_count": 95,
   "metadata": {},
   "outputs": [
    {
     "name": "stdout",
     "output_type": "stream",
     "text": [
      "Array x juntando sepal_length y petal_length:\n",
      "[[5.1 1.4]\n",
      " [4.9 1.4]\n",
      " [4.7 1.3]\n",
      " [4.6 1.5]\n",
      " [5.  1.4]\n",
      " [5.4 1.7]\n",
      " [4.6 1.4]\n",
      " [5.  1.5]\n",
      " [4.4 1.4]\n",
      " [4.9 1.5]\n",
      " [5.4 1.5]\n",
      " [4.8 1.6]\n",
      " [4.8 1.4]\n",
      " [4.3 1.1]\n",
      " [5.8 1.2]\n",
      " [5.7 1.5]\n",
      " [5.4 1.3]\n",
      " [5.1 1.4]\n",
      " [5.7 1.7]\n",
      " [5.1 1.5]\n",
      " [5.4 1.7]\n",
      " [5.1 1.5]\n",
      " [4.6 1. ]\n",
      " [5.1 1.7]\n",
      " [4.8 1.9]\n",
      " [5.  1.6]\n",
      " [5.  1.6]\n",
      " [5.2 1.5]\n",
      " [5.2 1.4]\n",
      " [4.7 1.6]\n",
      " [4.8 1.6]\n",
      " [5.4 1.5]\n",
      " [5.2 1.5]\n",
      " [5.5 1.4]\n",
      " [4.9 1.5]\n",
      " [5.  1.2]\n",
      " [5.5 1.3]\n",
      " [4.9 1.4]\n",
      " [4.4 1.3]\n",
      " [5.1 1.5]\n",
      " [5.  1.3]\n",
      " [4.5 1.3]\n",
      " [4.4 1.3]\n",
      " [5.  1.6]\n",
      " [5.1 1.9]\n",
      " [4.8 1.4]\n",
      " [5.1 1.6]\n",
      " [4.6 1.4]\n",
      " [5.3 1.5]\n",
      " [5.  1.4]\n",
      " [7.  4.7]\n",
      " [6.4 4.5]\n",
      " [6.9 4.9]\n",
      " [5.5 4. ]\n",
      " [6.5 4.6]\n",
      " [5.7 4.5]\n",
      " [6.3 4.7]\n",
      " [4.9 3.3]\n",
      " [6.6 4.6]\n",
      " [5.2 3.9]\n",
      " [5.  3.5]\n",
      " [5.9 4.2]\n",
      " [6.  4. ]\n",
      " [6.1 4.7]\n",
      " [5.6 3.6]\n",
      " [6.7 4.4]\n",
      " [5.6 4.5]\n",
      " [5.8 4.1]\n",
      " [6.2 4.5]\n",
      " [5.6 3.9]\n",
      " [5.9 4.8]\n",
      " [6.1 4. ]\n",
      " [6.3 4.9]\n",
      " [6.1 4.7]\n",
      " [6.4 4.3]\n",
      " [6.6 4.4]\n",
      " [6.8 4.8]\n",
      " [6.7 5. ]\n",
      " [6.  4.5]\n",
      " [5.7 3.5]\n",
      " [5.5 3.8]\n",
      " [5.5 3.7]\n",
      " [5.8 3.9]\n",
      " [6.  5.1]\n",
      " [5.4 4.5]\n",
      " [6.  4.5]\n",
      " [6.7 4.7]\n",
      " [6.3 4.4]\n",
      " [5.6 4.1]\n",
      " [5.5 4. ]\n",
      " [5.5 4.4]\n",
      " [6.1 4.6]\n",
      " [5.8 4. ]\n",
      " [5.  3.3]\n",
      " [5.6 4.2]\n",
      " [5.7 4.2]\n",
      " [5.7 4.2]\n",
      " [6.2 4.3]\n",
      " [5.1 3. ]]\n"
     ]
    }
   ],
   "source": [
    "x = np.column_stack((sepal_length, petal_length))\n",
    "\n",
    "print(\"Array x juntando sepal_length y petal_length:\")\n",
    "print(x)"
   ]
  },
  {
   "cell_type": "markdown",
   "metadata": {},
   "source": [
    "- Crea un array llamado y con las 99 primeras filas del vector resultado\n"
   ]
  },
  {
   "cell_type": "code",
   "execution_count": 96,
   "metadata": {},
   "outputs": [
    {
     "name": "stdout",
     "output_type": "stream",
     "text": [
      "Array y: [0 0 0 0 0 0 0 0 0 0 0 0 0 0 0 0 0 0 0 0 0 0 0 0 0 0 0 0 0 0 0 0 0 0 0 0 0\n",
      " 0 0 0 0 0 0 0 0 0 0 0 0 0 1 1 1 1 1 1 1 1 1 1 1 1 1 1 1 1 1 1 1 1 1 1 1 1\n",
      " 1 1 1 1 1 1 1 1 1 1 1 1 1 1 1 1 1 1 1 1 1 1 1 1 1]\n"
     ]
    }
   ],
   "source": [
    "y = resultado[:99]\n",
    "print(\"Array y:\", y)"
   ]
  },
  {
   "cell_type": "markdown",
   "metadata": {},
   "source": [
    "- Crea un array llamado x con las 99 primeras filas , la 1º columna y la 3º columna de la matriz datos"
   ]
  },
  {
   "cell_type": "code",
   "execution_count": 97,
   "metadata": {},
   "outputs": [
    {
     "name": "stdout",
     "output_type": "stream",
     "text": [
      "Array x2:\n",
      " [[5.1 1.4]\n",
      " [4.9 1.4]\n",
      " [4.7 1.3]\n",
      " [4.6 1.5]\n",
      " [5.  1.4]\n",
      " [5.4 1.7]\n",
      " [4.6 1.4]\n",
      " [5.  1.5]\n",
      " [4.4 1.4]\n",
      " [4.9 1.5]\n",
      " [5.4 1.5]\n",
      " [4.8 1.6]\n",
      " [4.8 1.4]\n",
      " [4.3 1.1]\n",
      " [5.8 1.2]\n",
      " [5.7 1.5]\n",
      " [5.4 1.3]\n",
      " [5.1 1.4]\n",
      " [5.7 1.7]\n",
      " [5.1 1.5]\n",
      " [5.4 1.7]\n",
      " [5.1 1.5]\n",
      " [4.6 1. ]\n",
      " [5.1 1.7]\n",
      " [4.8 1.9]\n",
      " [5.  1.6]\n",
      " [5.  1.6]\n",
      " [5.2 1.5]\n",
      " [5.2 1.4]\n",
      " [4.7 1.6]\n",
      " [4.8 1.6]\n",
      " [5.4 1.5]\n",
      " [5.2 1.5]\n",
      " [5.5 1.4]\n",
      " [4.9 1.5]\n",
      " [5.  1.2]\n",
      " [5.5 1.3]\n",
      " [4.9 1.4]\n",
      " [4.4 1.3]\n",
      " [5.1 1.5]\n",
      " [5.  1.3]\n",
      " [4.5 1.3]\n",
      " [4.4 1.3]\n",
      " [5.  1.6]\n",
      " [5.1 1.9]\n",
      " [4.8 1.4]\n",
      " [5.1 1.6]\n",
      " [4.6 1.4]\n",
      " [5.3 1.5]\n",
      " [5.  1.4]\n",
      " [7.  4.7]\n",
      " [6.4 4.5]\n",
      " [6.9 4.9]\n",
      " [5.5 4. ]\n",
      " [6.5 4.6]\n",
      " [5.7 4.5]\n",
      " [6.3 4.7]\n",
      " [4.9 3.3]\n",
      " [6.6 4.6]\n",
      " [5.2 3.9]\n",
      " [5.  3.5]\n",
      " [5.9 4.2]\n",
      " [6.  4. ]\n",
      " [6.1 4.7]\n",
      " [5.6 3.6]\n",
      " [6.7 4.4]\n",
      " [5.6 4.5]\n",
      " [5.8 4.1]\n",
      " [6.2 4.5]\n",
      " [5.6 3.9]\n",
      " [5.9 4.8]\n",
      " [6.1 4. ]\n",
      " [6.3 4.9]\n",
      " [6.1 4.7]\n",
      " [6.4 4.3]\n",
      " [6.6 4.4]\n",
      " [6.8 4.8]\n",
      " [6.7 5. ]\n",
      " [6.  4.5]\n",
      " [5.7 3.5]\n",
      " [5.5 3.8]\n",
      " [5.5 3.7]\n",
      " [5.8 3.9]\n",
      " [6.  5.1]\n",
      " [5.4 4.5]\n",
      " [6.  4.5]\n",
      " [6.7 4.7]\n",
      " [6.3 4.4]\n",
      " [5.6 4.1]\n",
      " [5.5 4. ]\n",
      " [5.5 4.4]\n",
      " [6.1 4.6]\n",
      " [5.8 4. ]\n",
      " [5.  3.3]\n",
      " [5.6 4.2]\n",
      " [5.7 4.2]\n",
      " [5.7 4.2]\n",
      " [6.2 4.3]\n",
      " [5.1 3. ]]\n"
     ]
    }
   ],
   "source": [
    "x2 = np.column_stack((datos[:99, 0], datos[:99, 2]))\n",
    "print(\"Array x2:\\n\", x2)"
   ]
  },
  {
   "cell_type": "markdown",
   "metadata": {},
   "source": [
    "### Ejercicio 6\n",
    "Selecciona las celdas en rojo oscuro de la siguiente matriz:\n"
   ]
  },
  {
   "cell_type": "code",
   "execution_count": 98,
   "metadata": {},
   "outputs": [
    {
     "name": "stdout",
     "output_type": "stream",
     "text": [
      "Array de 7x8:\n",
      "[[ 1  2  3  4  5  6  7  8]\n",
      " [ 9 10 11 12 13 14 15 16]\n",
      " [17 18 19 20 21 22 23 24]\n",
      " [25 26 27 28 29 30 31 32]\n",
      " [33 34 35 36 37 38 39 40]\n",
      " [41 42 43 44 45 46 47 48]\n",
      " [49 50 51 52 53 54 55 56]]\n"
     ]
    }
   ],
   "source": [
    "array_7x8 = np.arange(1, 57).reshape(7, 8)\n",
    "print(\"Array de 7x8:\")\n",
    "print(array_7x8)"
   ]
  },
  {
   "cell_type": "markdown",
   "metadata": {},
   "source": [
    "- Selecciona las celdas en rojo oscuro de la siguiente matriz:\n"
   ]
  },
  {
   "cell_type": "code",
   "execution_count": 99,
   "metadata": {},
   "outputs": [
    {
     "name": "stdout",
     "output_type": "stream",
     "text": [
      "Valores centrales:\n",
      " [[19 20 21 22]\n",
      " [27 28 29 30]\n",
      " [35 36 37 38]]\n"
     ]
    }
   ],
   "source": [
    "valor_centrales = array_7x8[2:5, 2:6]\n",
    "print(\"Valores centrales:\\n\", valor_centrales)"
   ]
  },
  {
   "cell_type": "markdown",
   "metadata": {},
   "source": [
    "### Ejercicio 7\n",
    "Selecciona las celdas en rojo oscuro de la siguiente matriz:\n"
   ]
  },
  {
   "cell_type": "code",
   "execution_count": 100,
   "metadata": {},
   "outputs": [
    {
     "name": "stdout",
     "output_type": "stream",
     "text": [
      "Array tridimensional:\n",
      "[[[  1   2   3   4   5   6   7   8]\n",
      "  [  9  10  11  12  13  14  15  16]\n",
      "  [ 17  18  19  20  21  22  23  24]\n",
      "  [ 25  26  27  28  29  30  31  32]\n",
      "  [ 33  34  35  36  37  38  39  40]\n",
      "  [ 41  42  43  44  45  46  47  48]\n",
      "  [ 49  50  51  52  53  54  55  56]]\n",
      "\n",
      " [[ 57  58  59  60  61  62  63  64]\n",
      "  [ 65  66  67  68  69  70  71  72]\n",
      "  [ 73  74  75  76  77  78  79  80]\n",
      "  [ 81  82  83  84  85  86  87  88]\n",
      "  [ 89  90  91  92  93  94  95  96]\n",
      "  [ 97  98  99 100 101 102 103 104]\n",
      "  [105 106 107 108 109 110 111 112]]\n",
      "\n",
      " [[113 114 115 116 117 118 119 120]\n",
      "  [121 122 123 124 125 126 127 128]\n",
      "  [129 130 131 132 133 134 135 136]\n",
      "  [137 138 139 140 141 142 143 144]\n",
      "  [145 146 147 148 149 150 151 152]\n",
      "  [153 154 155 156 157 158 159 160]\n",
      "  [161 162 163 164 165 166 167 168]]]\n"
     ]
    }
   ],
   "source": [
    "array_unidimensional = np.arange(1, 169)\n",
    "\n",
    "array_tridimensional = array_unidimensional.reshape(3, 7, 8)\n",
    "\n",
    "print(\"Array tridimensional:\")\n",
    "print(array_tridimensional)"
   ]
  },
  {
   "cell_type": "markdown",
   "metadata": {},
   "source": [
    "- Selecciona las celdas en rojo oscuro de la siguiente matriz:\n"
   ]
  },
  {
   "cell_type": "code",
   "execution_count": 101,
   "metadata": {},
   "outputs": [
    {
     "name": "stdout",
     "output_type": "stream",
     "text": [
      "Valores centrales rojo oscuro:\n",
      " [[19 20 21 22]\n",
      " [27 28 29 30]\n",
      " [35 36 37 38]]\n"
     ]
    }
   ],
   "source": [
    "valor_centrales_ej7 = array_tridimensional[0, 2:5, 2:6]\n",
    "print(\"Valores centrales rojo oscuro:\\n\", valor_centrales_ej7)"
   ]
  },
  {
   "cell_type": "markdown",
   "metadata": {},
   "source": [
    "- Ahora selecciona las celdas en rojo oscuro pero también las verdes y azules que hay por detrás de las rojo oscuro.\n"
   ]
  },
  {
   "cell_type": "code",
   "execution_count": 102,
   "metadata": {},
   "outputs": [
    {
     "name": "stdout",
     "output_type": "stream",
     "text": [
      "Valores centrales rojo oscuro:\n",
      " [[[ 19  20  21  22]\n",
      "  [ 27  28  29  30]\n",
      "  [ 35  36  37  38]]\n",
      "\n",
      " [[ 75  76  77  78]\n",
      "  [ 83  84  85  86]\n",
      "  [ 91  92  93  94]]\n",
      "\n",
      " [[131 132 133 134]\n",
      "  [139 140 141 142]\n",
      "  [147 148 149 150]]]\n"
     ]
    }
   ],
   "source": [
    "valor_centralesall_ej7 = array_tridimensional[0:3, 2:5, 2:6]\n",
    "print(\"Valores centrales rojo oscuro:\\n\", valor_centralesall_ej7)"
   ]
  },
  {
   "cell_type": "markdown",
   "metadata": {},
   "source": [
    "### Ejercicio 8\n",
    "Crea al siguiente matriz\n",
    "- A todos los elementos de la matriz sumale un 10. Usando las funciones de numpy\n",
    "- A todos los elementos de la matriz sumale un 10 y divídelos entre 2. Usando las funciones de numpy\n",
    "- A todos los elementos de la matriz sumale un 10. Usando operadores\n",
    "- A todos los elementos de la matriz sumale un 10 y divídelos entre 2. Usando operadores\n"
   ]
  },
  {
   "cell_type": "code",
   "execution_count": 103,
   "metadata": {},
   "outputs": [
    {
     "name": "stdout",
     "output_type": "stream",
     "text": [
      "[[1 4 6 5]\n",
      " [4 1 7 3]\n",
      " [2 9 1 2]\n",
      " [6 3 1 1]]\n"
     ]
    }
   ],
   "source": [
    "matrizej8 = np.array([[1,4,6,5], [4,1,7,3], [2,9,1,2], [6,3,1,1]])\n",
    "print(matrizej8)"
   ]
  },
  {
   "cell_type": "markdown",
   "metadata": {},
   "source": [
    "- A todos los elementos de la matriz sumale un 10. Usando las funciones de numpy"
   ]
  },
  {
   "cell_type": "code",
   "execution_count": 104,
   "metadata": {},
   "outputs": [
    {
     "name": "stdout",
     "output_type": "stream",
     "text": [
      "[[11 14 16 15]\n",
      " [14 11 17 13]\n",
      " [12 19 11 12]\n",
      " [16 13 11 11]]\n"
     ]
    }
   ],
   "source": [
    "matrizej8_sum10f = np.add(matrizej8, 10)\n",
    "print(matrizej8_sum10f)"
   ]
  },
  {
   "cell_type": "markdown",
   "metadata": {},
   "source": [
    "- A todos los elementos de la matriz sumale un 10 y divídelos entre 2. Usando las funciones de numpy"
   ]
  },
  {
   "cell_type": "code",
   "execution_count": 105,
   "metadata": {},
   "outputs": [
    {
     "name": "stdout",
     "output_type": "stream",
     "text": [
      "[[5.5 7.  8.  7.5]\n",
      " [7.  5.5 8.5 6.5]\n",
      " [6.  9.5 5.5 6. ]\n",
      " [8.  6.5 5.5 5.5]]\n"
     ]
    }
   ],
   "source": [
    "matrizej8_sum10_div2f = np.divide(np.add(matrizej8, 10), 2)\n",
    "print(matrizej8_sum10_div2f)"
   ]
  },
  {
   "cell_type": "markdown",
   "metadata": {},
   "source": [
    "- A todos los elementos de la matriz sumale un 10. Usando operadores\n"
   ]
  },
  {
   "cell_type": "code",
   "execution_count": 106,
   "metadata": {},
   "outputs": [
    {
     "name": "stdout",
     "output_type": "stream",
     "text": [
      "[[11 14 16 15]\n",
      " [14 11 17 13]\n",
      " [12 19 11 12]\n",
      " [16 13 11 11]]\n"
     ]
    }
   ],
   "source": [
    "matrizej8_sum10 = matrizej8 + 10\n",
    "print(matrizej8_sum10)"
   ]
  },
  {
   "cell_type": "markdown",
   "metadata": {},
   "source": [
    "- A todos los elementos de la matriz sumale un 10 y divídelos entre 2. Usando operadores"
   ]
  },
  {
   "cell_type": "code",
   "execution_count": 107,
   "metadata": {},
   "outputs": [
    {
     "name": "stdout",
     "output_type": "stream",
     "text": [
      "[[5.5 7.  8.  7.5]\n",
      " [7.  5.5 8.5 6.5]\n",
      " [6.  9.5 5.5 6. ]\n",
      " [8.  6.5 5.5 5.5]]\n"
     ]
    }
   ],
   "source": [
    "matrizej8_sum10_div2 = (matrizej8 + 10) / 2\n",
    "print(matrizej8_sum10_div2)"
   ]
  },
  {
   "cell_type": "markdown",
   "metadata": {},
   "source": [
    "### Ejercicio 9\n",
    "- Multiplica cada elemento de la matriz por sí mismo\n",
    "- Multiplica la matriz por sí misma\n"
   ]
  },
  {
   "cell_type": "code",
   "execution_count": 108,
   "metadata": {},
   "outputs": [
    {
     "name": "stdout",
     "output_type": "stream",
     "text": [
      "[[1 2 3]\n",
      " [4 5 6]\n",
      " [7 8 9]]\n"
     ]
    }
   ],
   "source": [
    "matrizej9 = np.array([[1,2,3], [4,5,6], [7,8,9]])\n",
    "print(matrizej9)"
   ]
  },
  {
   "cell_type": "markdown",
   "metadata": {},
   "source": [
    "- Multiplica cada elemento de la matriz por sí mismo"
   ]
  },
  {
   "cell_type": "code",
   "execution_count": 109,
   "metadata": {},
   "outputs": [
    {
     "name": "stdout",
     "output_type": "stream",
     "text": [
      "[[ 1  4  9]\n",
      " [16 25 36]\n",
      " [49 64 81]]\n"
     ]
    }
   ],
   "source": [
    "matrizej9_mult = np.multiply(matrizej9, matrizej9)\n",
    "print(matrizej9_mult)"
   ]
  },
  {
   "cell_type": "markdown",
   "metadata": {},
   "source": [
    "- Multiplica la matriz por sí misma\n"
   ]
  },
  {
   "cell_type": "code",
   "execution_count": 110,
   "metadata": {},
   "outputs": [
    {
     "name": "stdout",
     "output_type": "stream",
     "text": [
      "[[ 30  36  42]\n",
      " [ 66  81  96]\n",
      " [102 126 150]]\n"
     ]
    }
   ],
   "source": [
    "matrizej9_mult_self = np.dot(matrizej9, matrizej9)\n",
    "print(matrizej9_mult_self)"
   ]
  },
  {
   "cell_type": "markdown",
   "metadata": {},
   "source": [
    "### Ejercicio 10\n",
    "Crea una función llamada f que acepte como parámetro el número y que retorne el valor multiplicado por 2 y además que se le sume 1.\n",
    "Crea ahora el vector de numpy [1,5,4,7,3,9,8,6] y aplícale la función f\n"
   ]
  },
  {
   "cell_type": "markdown",
   "metadata": {},
   "source": [
    "- Crea una función llamada f que acepte como parámetro el número y que retorne el valor multiplicado por 2 y además que se le sume 1."
   ]
  },
  {
   "cell_type": "code",
   "execution_count": 111,
   "metadata": {},
   "outputs": [
    {
     "name": "stdout",
     "output_type": "stream",
     "text": [
      "El resultado es: 3\n"
     ]
    }
   ],
   "source": [
    "def fej10(numero):\n",
    "    return (numero * 2) + 1\n",
    "\n",
    "numero_usuario = int(input(\"Introduce un número: \"))\n",
    "resultado = fej10(numero_usuario)\n",
    "\n",
    "print(\"El resultado es:\", resultado)"
   ]
  },
  {
   "cell_type": "markdown",
   "metadata": {},
   "source": [
    "- Crea ahora el vector de numpy [1,5,4,7,3,9,8,6] y aplícale la función f"
   ]
  },
  {
   "cell_type": "code",
   "execution_count": 112,
   "metadata": {},
   "outputs": [
    {
     "name": "stdout",
     "output_type": "stream",
     "text": [
      "Vector original: [1 5 4 7 3 9 8 6]\n",
      "Vector después de aplicar la función f: [ 3 11  9 15  7 19 17 13]\n"
     ]
    }
   ],
   "source": [
    "vector = np.array([1, 5, 4, 7, 3, 9, 8, 6])\n",
    "resultado_vector = np.array([fej10(x) for x in vector])\n",
    "print(\"Vector original:\", vector)\n",
    "print(\"Vector después de aplicar la función f:\", resultado_vector)"
   ]
  },
  {
   "cell_type": "markdown",
   "metadata": {},
   "source": [
    "### Ejercicio 11\n",
    "Crea una función llamada f que acepte como parámetro el número y que retorne lo siguiente:\n",
    "- Si es valor está en el rango (-inf,3] que retorne 0\n",
    "- Si es valor está en el rango [3,5] que retorne 4\n",
    "- Si es valor está en el rango [5,6] que retorne 5\n",
    "- Si es valor está en el rango [6,7] que retorne 6\n",
    "- Si es valor está en el rango [7,9] que retorne 8\n",
    "- Si es valor está en el rango [9,+inf) que retorne 10"
   ]
  },
  {
   "cell_type": "code",
   "execution_count": 113,
   "metadata": {},
   "outputs": [
    {
     "name": "stdout",
     "output_type": "stream",
     "text": [
      "El resultado es: 0\n"
     ]
    }
   ],
   "source": [
    "def fej11(numero):\n",
    "    if numero <= 3:\n",
    "        return 0\n",
    "    elif 3 < numero <= 5:\n",
    "        return 4\n",
    "    elif 5 < numero <= 6:\n",
    "        return 5\n",
    "    elif 6 < numero <= 7:\n",
    "        return 6\n",
    "    elif 7 < numero <= 9:\n",
    "        return 8\n",
    "    else:\n",
    "        return 10\n",
    "\n",
    "numero_usuario = float(input(\"Introduce un número: \"))\n",
    "resultado = fej11(numero_usuario)\n",
    "print(\"El resultado es:\", resultado)"
   ]
  },
  {
   "cell_type": "markdown",
   "metadata": {},
   "source": [
    "- Crea ahora el vector de numpy [1,5,4,7,3,9,8,6] y aplícale la función f\n"
   ]
  },
  {
   "cell_type": "code",
   "execution_count": 114,
   "metadata": {},
   "outputs": [
    {
     "name": "stdout",
     "output_type": "stream",
     "text": [
      "Vector original: [1 5 4 7 3 9 8 6]\n",
      "Vector después de aplicar la función f: [0 4 4 6 0 8 8 5]\n"
     ]
    }
   ],
   "source": [
    "vector = np.array([1, 5, 4, 7, 3, 9, 8, 6])\n",
    "resultado_vector = np.array([fej11(x) for x in vector])\n",
    "print(\"Vector original:\", vector)\n",
    "print(\"Vector después de aplicar la función f:\", resultado_vector)"
   ]
  },
  {
   "cell_type": "markdown",
   "metadata": {},
   "source": [
    "### Ejercicio 12\n",
    "\n",
    "\n",
    "a=[2, 3, 5, 7, 11, 13, 17, 19, 23, 29, 31, 37]\n",
    "\n",
    "\n",
    "\n",
    "\n",
    "b=[[2, 3], [5, 7], [11, 13], [17, 19], [23, 29], [31, 37]]\n",
    "\n",
    "\n",
    "\n",
    "\n",
    "c=[[[2, 3], [5, 7]], [[11, 13], [17, 19]], [[23, 29], [31, 37]]]\n",
    "\n"
   ]
  },
  {
   "cell_type": "code",
   "execution_count": 115,
   "metadata": {},
   "outputs": [
    {
     "name": "stdout",
     "output_type": "stream",
     "text": [
      "Número de dimensiones del array a: 1\n",
      "Número de dimensiones del array b: 2\n",
      "Número de dimensiones del array c: 3\n"
     ]
    }
   ],
   "source": [
    "a = np.array([2, 3, 5, 7, 11, 13, 17, 19, 23, 29, 31, 37])\n",
    "\n",
    "b = np.array([[2, 3], [5, 7], [11, 13], [17, 19], [23, 29], [31, 37]])\n",
    "\n",
    "c = np.array([[[2, 3], [5, 7]], [[11, 13], [17, 19]], [[23, 29], [31, 37]]])\n",
    "print(\"Número de dimensiones del array a:\", a.ndim)\n",
    "print(\"Número de dimensiones del array b:\", b.ndim)\n",
    "print(\"Número de dimensiones del array c:\", c.ndim)"
   ]
  },
  {
   "cell_type": "markdown",
   "metadata": {},
   "source": [
    "### Ejercicio 13\n",
    "Crea una función llamada mostrar_tamanyo que le pasemos un array de numpy y nos imprima el tamaño de cada una de las dimensiones. \n",
    "Por ejemplo con el array [ [ [2, 3], [5, 7]], [ [11, 13], [17, 19]], [ [23, 29], [31, 37] ] ] deberá mostrar\n",
    "El nº de elementos de la dimension 0 es 3\n",
    "El nº de elementos de la dimension 1 es 2\n",
    "El nº de elementos de la dimension 2 es 2\n",
    "\n"
   ]
  },
  {
   "cell_type": "code",
   "execution_count": 116,
   "metadata": {},
   "outputs": [
    {
     "name": "stdout",
     "output_type": "stream",
     "text": [
      "El nº de elementos de la dimension 0 es 3\n",
      "El nº de elementos de la dimension 1 es 2\n",
      "El nº de elementos de la dimension 2 es 2\n"
     ]
    }
   ],
   "source": [
    "def mostrar_tamanyo(array):\n",
    "    for i, size in enumerate(array.shape):\n",
    "        print(f\"El nº de elementos de la dimension {i} es {size}\")\n",
    "\n",
    "# Ejemplo de uso\n",
    "array = np.array([[[2, 3], [5, 7]], [[11, 13], [17, 19]], [[23, 29], [31, 37]]])\n",
    "mostrar_tamanyo(array)"
   ]
  },
  {
   "cell_type": "markdown",
   "metadata": {},
   "source": [
    "Prueba también con los siguientes arrays\n",
    "\n",
    "\n",
    "a=[2, 3, 5, 7, 11, 13, 17, 19, 23, 29, 31, 37]\n",
    "\n",
    "\n",
    "\n",
    "\n",
    "b=[[2, 3], [5, 7], [11, 13], [17, 19], [23, 29], [31, 37]]\n",
    "\n",
    "\n",
    "\n",
    "\n",
    "c=[[[2, 3], [5, 7]], [[11, 13], [17, 19]], [[23, 29], [31, 37]]]\n",
    "\n"
   ]
  },
  {
   "cell_type": "code",
   "execution_count": 117,
   "metadata": {},
   "outputs": [
    {
     "name": "stdout",
     "output_type": "stream",
     "text": [
      "Array a:\n",
      "El nº de elementos de la dimension 0 es 12\n",
      "\n",
      "Array b:\n",
      "El nº de elementos de la dimension 0 es 6\n",
      "El nº de elementos de la dimension 1 es 2\n",
      "\n",
      "Array c:\n",
      "El nº de elementos de la dimension 0 es 3\n",
      "El nº de elementos de la dimension 1 es 2\n",
      "El nº de elementos de la dimension 2 es 2\n"
     ]
    }
   ],
   "source": [
    "def mostrar_tamanyo(array):\n",
    "    for i, size in enumerate(array.shape):\n",
    "        print(f\"El nº de elementos de la dimension {i} es {size}\")\n",
    "\n",
    "# Arrays de prueba\n",
    "a = np.array([2, 3, 5, 7, 11, 13, 17, 19, 23, 29, 31, 37])\n",
    "b = np.array([[2, 3], [5, 7], [11, 13], [17, 19], [23, 29], [31, 37]])\n",
    "c = np.array([[[2, 3], [5, 7]], [[11, 13], [17, 19]], [[23, 29], [31, 37]]])\n",
    "\n",
    "# Mostrar tamaños\n",
    "print(\"Array a:\")\n",
    "mostrar_tamanyo(a)\n",
    "print(\"\\nArray b:\")\n",
    "mostrar_tamanyo(b)\n",
    "print(\"\\nArray c:\")\n",
    "mostrar_tamanyo(c)"
   ]
  },
  {
   "cell_type": "markdown",
   "metadata": {},
   "source": [
    "### Ejercicio 14\n",
    "Muestra con numpy el tipo de datos de los siguientes arrays:\n",
    "\n",
    "\n",
    "a=[2, 3, 5]\n",
    "\n",
    "\n",
    "\n",
    "\n",
    "b=[2.4, 3.2, 5.6]\n",
    "\n",
    "\n",
    "\n",
    "\n",
    "c=[2, 3, 5.6]\n",
    "\n"
   ]
  },
  {
   "cell_type": "code",
   "execution_count": 118,
   "metadata": {},
   "outputs": [
    {
     "name": "stdout",
     "output_type": "stream",
     "text": [
      "El tipo de datos del array a es: int64\n",
      "El tipo de datos del array b es: float64\n",
      "El tipo de datos del array c es: float64\n"
     ]
    }
   ],
   "source": [
    "a = np.array([2, 3, 5])\n",
    "b = np.array([2.4, 3.2, 5.6])\n",
    "c = np.array([2, 3, 5.6])\n",
    "\n",
    "print(f\"El tipo de datos del array a es: {a.dtype}\")\n",
    "print(f\"El tipo de datos del array b es: {b.dtype}\")\n",
    "print(f\"El tipo de datos del array c es: {c.dtype}\")"
   ]
  },
  {
   "cell_type": "markdown",
   "metadata": {},
   "source": [
    "### Ejercicio 15\n",
    "Transforma el siguiente array en 8 bits sin signo y muestra cuánto ocupa en memoria\n",
    "\n",
    "\n",
    "a=np.array([1, -2, 3])\n",
    "\n"
   ]
  },
  {
   "cell_type": "code",
   "execution_count": 119,
   "metadata": {},
   "outputs": [
    {
     "name": "stdout",
     "output_type": "stream",
     "text": [
      "Array transformado: [  1 254   3]\n",
      "Tamaño en memoria: 3 bytes\n"
     ]
    }
   ],
   "source": [
    "a = np.array([1, -2, 3])\n",
    "\n",
    "a_8bits = a.astype(np.uint8)\n",
    "\n",
    "print(f\"Array transformado: {a_8bits}\")\n",
    "print(f\"Tamaño en memoria: {a_8bits.nbytes} bytes\")"
   ]
  },
  {
   "cell_type": "markdown",
   "metadata": {},
   "source": [
    "Transforma el siguiente array en 8 bits sin signo y muestra cuánto ocupa en memoria\n",
    "\n",
    "\n",
    "b=np.array([1,254,255])"
   ]
  },
  {
   "cell_type": "code",
   "execution_count": 120,
   "metadata": {},
   "outputs": [
    {
     "name": "stdout",
     "output_type": "stream",
     "text": [
      "Array transformado: [  1 254 255]\n",
      "Tamaño en memoria: 3 bytes\n"
     ]
    }
   ],
   "source": [
    "b1 = np.array([1, 254, 255])\n",
    "\n",
    "b1_8bits = b1.astype(np.uint8)\n",
    "\n",
    "print(f\"Array transformado: {b1_8bits}\")\n",
    "print(f\"Tamaño en memoria: {b1_8bits.nbytes} bytes\")"
   ]
  },
  {
   "cell_type": "markdown",
   "metadata": {},
   "source": [
    "Transforma el siguiente array en 8 bits con signo y muestra cuánto ocupa en memoria\n",
    "\n",
    "\n",
    "b=np.array([1,127,128])\n",
    "\n"
   ]
  },
  {
   "cell_type": "code",
   "execution_count": 121,
   "metadata": {},
   "outputs": [
    {
     "name": "stdout",
     "output_type": "stream",
     "text": [
      "Array transformado: [   1  127 -128]\n",
      "Tamaño en memoria: 3 bytes\n"
     ]
    }
   ],
   "source": [
    "b2 = np.array([1, 127, 128])\n",
    "\n",
    "b2_8bits = b2.astype(np.int8)\n",
    "\n",
    "print(f\"Array transformado: {b2_8bits}\")\n",
    "print(f\"Tamaño en memoria: {b2_8bits.nbytes} bytes\")"
   ]
  },
  {
   "cell_type": "markdown",
   "metadata": {},
   "source": [
    "Transforma el siguiente array en 8 bits con signo y muestra cuánto ocupa en memoria\n",
    "\n",
    "\n",
    "b=np.array([1,-128,-129])\n",
    "\n"
   ]
  },
  {
   "cell_type": "code",
   "execution_count": 122,
   "metadata": {},
   "outputs": [
    {
     "name": "stdout",
     "output_type": "stream",
     "text": [
      "Array transformado: [   1 -128  127]\n",
      "Tamaño en memoria: 3 bytes\n"
     ]
    }
   ],
   "source": [
    "b3 = np.array([1, -128, -129])\n",
    "\n",
    "b3_8bits = b3.astype(np.int8)\n",
    "\n",
    "print(f\"Array transformado: {b3_8bits}\")\n",
    "print(f\"Tamaño en memoria: {b3_8bits.nbytes} bytes\")"
   ]
  },
  {
   "cell_type": "markdown",
   "metadata": {},
   "source": [
    "Transforma el siguiente array en float32 y muestra cuánto ocupa en memoria\n",
    "\n",
    "\n",
    "b=np.array([1,2,3])\n",
    "\n"
   ]
  },
  {
   "cell_type": "code",
   "execution_count": 123,
   "metadata": {},
   "outputs": [
    {
     "name": "stdout",
     "output_type": "stream",
     "text": [
      "Array transformado: [1. 2. 3.]\n",
      "Tamaño en memoria: 12 bytes\n"
     ]
    }
   ],
   "source": [
    "b4 = np.array([1, 2, 3])\n",
    "\n",
    "b4_float32 = b4.astype(np.float32)\n",
    "\n",
    "print(f\"Array transformado: {b4_float32}\")\n",
    "print(f\"Tamaño en memoria: {b4_float32.nbytes} bytes\")"
   ]
  },
  {
   "cell_type": "markdown",
   "metadata": {},
   "source": [
    "Transforma el siguiente array en int32 y muestra cuánto ocupa en memoria\n",
    "\n",
    "\n",
    "b=np.array([1.9,2.01,3.51])\n",
    "\n"
   ]
  },
  {
   "cell_type": "code",
   "execution_count": 124,
   "metadata": {},
   "outputs": [
    {
     "name": "stdout",
     "output_type": "stream",
     "text": [
      "Array transformado: [1 2 3]\n",
      "Tamaño en memoria: 12 bytes\n"
     ]
    }
   ],
   "source": [
    "b5 = np.array([1.9, 2.01, 3.51])\n",
    "\n",
    "b5_int32 = b5.astype(np.int32)\n",
    "\n",
    "print(f\"Array transformado: {b5_int32}\")\n",
    "print(f\"Tamaño en memoria: {b5_int32.nbytes} bytes\")"
   ]
  },
  {
   "cell_type": "markdown",
   "metadata": {},
   "source": [
    "### Ejercicio 16\n",
    "En ejercicios anteriores obtuviste para el problema de las flores, una matriz x y un vector y.\n",
    "Une los datos en una nueva matriz de forma que cada fila de la nueva matriz contenga los datos de cada fila de la x y el dato correspondiente de la y"
   ]
  },
  {
   "cell_type": "code",
   "execution_count": 125,
   "metadata": {},
   "outputs": [
    {
     "name": "stdout",
     "output_type": "stream",
     "text": [
      "[[5.1 1.4 0. ]\n",
      " [4.9 1.4 0. ]\n",
      " [4.7 1.3 0. ]\n",
      " [4.6 1.5 0. ]\n",
      " [5.  1.4 0. ]\n",
      " [5.4 1.7 0. ]\n",
      " [4.6 1.4 0. ]\n",
      " [5.  1.5 0. ]\n",
      " [4.4 1.4 0. ]\n",
      " [4.9 1.5 0. ]\n",
      " [5.4 1.5 0. ]\n",
      " [4.8 1.6 0. ]\n",
      " [4.8 1.4 0. ]\n",
      " [4.3 1.1 0. ]\n",
      " [5.8 1.2 0. ]\n",
      " [5.7 1.5 0. ]\n",
      " [5.4 1.3 0. ]\n",
      " [5.1 1.4 0. ]\n",
      " [5.7 1.7 0. ]\n",
      " [5.1 1.5 0. ]\n",
      " [5.4 1.7 0. ]\n",
      " [5.1 1.5 0. ]\n",
      " [4.6 1.  0. ]\n",
      " [5.1 1.7 0. ]\n",
      " [4.8 1.9 0. ]\n",
      " [5.  1.6 0. ]\n",
      " [5.  1.6 0. ]\n",
      " [5.2 1.5 0. ]\n",
      " [5.2 1.4 0. ]\n",
      " [4.7 1.6 0. ]\n",
      " [4.8 1.6 0. ]\n",
      " [5.4 1.5 0. ]\n",
      " [5.2 1.5 0. ]\n",
      " [5.5 1.4 0. ]\n",
      " [4.9 1.5 0. ]\n",
      " [5.  1.2 0. ]\n",
      " [5.5 1.3 0. ]\n",
      " [4.9 1.4 0. ]\n",
      " [4.4 1.3 0. ]\n",
      " [5.1 1.5 0. ]\n",
      " [5.  1.3 0. ]\n",
      " [4.5 1.3 0. ]\n",
      " [4.4 1.3 0. ]\n",
      " [5.  1.6 0. ]\n",
      " [5.1 1.9 0. ]\n",
      " [4.8 1.4 0. ]\n",
      " [5.1 1.6 0. ]\n",
      " [4.6 1.4 0. ]\n",
      " [5.3 1.5 0. ]\n",
      " [5.  1.4 0. ]\n",
      " [7.  4.7 1. ]\n",
      " [6.4 4.5 1. ]\n",
      " [6.9 4.9 1. ]\n",
      " [5.5 4.  1. ]\n",
      " [6.5 4.6 1. ]\n",
      " [5.7 4.5 1. ]\n",
      " [6.3 4.7 1. ]\n",
      " [4.9 3.3 1. ]\n",
      " [6.6 4.6 1. ]\n",
      " [5.2 3.9 1. ]\n",
      " [5.  3.5 1. ]\n",
      " [5.9 4.2 1. ]\n",
      " [6.  4.  1. ]\n",
      " [6.1 4.7 1. ]\n",
      " [5.6 3.6 1. ]\n",
      " [6.7 4.4 1. ]\n",
      " [5.6 4.5 1. ]\n",
      " [5.8 4.1 1. ]\n",
      " [6.2 4.5 1. ]\n",
      " [5.6 3.9 1. ]\n",
      " [5.9 4.8 1. ]\n",
      " [6.1 4.  1. ]\n",
      " [6.3 4.9 1. ]\n",
      " [6.1 4.7 1. ]\n",
      " [6.4 4.3 1. ]\n",
      " [6.6 4.4 1. ]\n",
      " [6.8 4.8 1. ]\n",
      " [6.7 5.  1. ]\n",
      " [6.  4.5 1. ]\n",
      " [5.7 3.5 1. ]\n",
      " [5.5 3.8 1. ]\n",
      " [5.5 3.7 1. ]\n",
      " [5.8 3.9 1. ]\n",
      " [6.  5.1 1. ]\n",
      " [5.4 4.5 1. ]\n",
      " [6.  4.5 1. ]\n",
      " [6.7 4.7 1. ]\n",
      " [6.3 4.4 1. ]\n",
      " [5.6 4.1 1. ]\n",
      " [5.5 4.  1. ]\n",
      " [5.5 4.4 1. ]\n",
      " [6.1 4.6 1. ]\n",
      " [5.8 4.  1. ]\n",
      " [5.  3.3 1. ]\n",
      " [5.6 4.2 1. ]\n",
      " [5.7 4.2 1. ]\n",
      " [5.7 4.2 1. ]\n",
      " [6.2 4.3 1. ]\n",
      " [5.1 3.  1. ]]\n"
     ]
    }
   ],
   "source": [
    "matrizej16 = np.hstack((x, y.reshape(-1, 1)))\n",
    "\n",
    "print(matrizej16)"
   ]
  },
  {
   "cell_type": "markdown",
   "metadata": {},
   "source": [
    "### Ejercicio 17\n",
    "Dado el siguiente codigo de python"
   ]
  },
  {
   "cell_type": "code",
   "execution_count": 126,
   "metadata": {},
   "outputs": [
    {
     "ename": "TypeError",
     "evalue": "unsupported operand type(s) for -: 'int' and 'list'",
     "output_type": "error",
     "traceback": [
      "\u001b[0;31m---------------------------------------------------------------------------\u001b[0m",
      "\u001b[0;31mTypeError\u001b[0m                                 Traceback (most recent call last)",
      "Cell \u001b[0;32mIn[126], line 5\u001b[0m\n\u001b[1;32m      3\u001b[0m axes \u001b[38;5;241m=\u001b[39m figure\u001b[38;5;241m.\u001b[39madd_subplot()\n\u001b[1;32m      4\u001b[0m x\u001b[38;5;241m=\u001b[39m([\u001b[38;5;241m-\u001b[39m\u001b[38;5;241m3\u001b[39m,\u001b[38;5;241m-\u001b[39m\u001b[38;5;241m2\u001b[39m,\u001b[38;5;241m-\u001b[39m\u001b[38;5;241m1\u001b[39m,\u001b[38;5;241m0\u001b[39m,\u001b[38;5;241m1\u001b[39m,\u001b[38;5;241m2\u001b[39m,\u001b[38;5;241m3\u001b[39m])\n\u001b[0;32m----> 5\u001b[0m y \u001b[38;5;241m=\u001b[39m  \u001b[38;5;241m3\u001b[39m\u001b[38;5;241m*\u001b[39m(\u001b[38;5;241m1\u001b[39m \u001b[38;5;241m-\u001b[39m x)\u001b[38;5;241m*\u001b[39m\u001b[38;5;241m*\u001b[39m\u001b[38;5;241m2\u001b[39m \u001b[38;5;241m*\u001b[39m np\u001b[38;5;241m.\u001b[39mexp(\u001b[38;5;241m-\u001b[39mx\u001b[38;5;241m*\u001b[39m\u001b[38;5;241m*\u001b[39m\u001b[38;5;241m2\u001b[39m )  \u001b[38;5;241m-\u001b[39m \u001b[38;5;241m10\u001b[39m\u001b[38;5;241m*\u001b[39m(x\u001b[38;5;241m/\u001b[39m\u001b[38;5;241m5\u001b[39m \u001b[38;5;241m-\u001b[39m x\u001b[38;5;241m*\u001b[39m\u001b[38;5;241m*\u001b[39m\u001b[38;5;241m3\u001b[39m )\u001b[38;5;241m*\u001b[39mnp\u001b[38;5;241m.\u001b[39mexp(\u001b[38;5;241m-\u001b[39mx\u001b[38;5;241m*\u001b[39m\u001b[38;5;241m*\u001b[39m\u001b[38;5;241m2\u001b[39m ) \u001b[38;5;241m-\u001b[39m \u001b[38;5;241m1.\u001b[39m\u001b[38;5;241m/\u001b[39m\u001b[38;5;241m3\u001b[39m\u001b[38;5;241m*\u001b[39mnp\u001b[38;5;241m.\u001b[39mexp(\u001b[38;5;241m-\u001b[39m(x \u001b[38;5;241m+\u001b[39m \u001b[38;5;241m1\u001b[39m)\u001b[38;5;241m*\u001b[39m\u001b[38;5;241m*\u001b[39m\u001b[38;5;241m2\u001b[39m )\n\u001b[1;32m      6\u001b[0m axes\u001b[38;5;241m.\u001b[39mplot(x,y)\n",
      "\u001b[0;31mTypeError\u001b[0m: unsupported operand type(s) for -: 'int' and 'list'"
     ]
    },
    {
     "data": {
      "image/png": "[encoded data removed]",
      "text/plain": [
       "<Figure size 800x800 with 1 Axes>"
      ]
     },
     "metadata": {},
     "output_type": "display_data"
    }
   ],
   "source": [
    "\n",
    "import matplotlib.pyplot as plt\n",
    "figure=plt.figure(figsize=(8,8))\n",
    "axes = figure.add_subplot()\n",
    "x=([-3,-2,-1,0,1,2,3])\n",
    "y =  3*(1 - x)**2 * np.exp(-x**2 )  - 10*(x/5 - x**3 )*np.exp(-x**2 ) - 1./3*np.exp(-(x + 1)**2 )\n",
    "axes.plot(x,y)\n",
    "\n"
   ]
  },
  {
   "cell_type": "markdown",
   "metadata": {},
   "source": [
    "- Modifica el código que genera la variable x para que sea un array de numpy y de tipo float. Muestra la imagen\n"
   ]
  },
  {
   "cell_type": "code",
   "execution_count": null,
   "metadata": {},
   "outputs": [
    {
     "data": {
      "text/plain": [
       "[<matplotlib.lines.Line2D at 0x7fd32fb65f10>]"
      ]
     },
     "execution_count": 72,
     "metadata": {},
     "output_type": "execute_result"
    },
    {
     "data": {
      "image/png": "[encoded data removed]",
      "text/plain": [
       "<Figure size 800x800 with 1 Axes>"
      ]
     },
     "metadata": {},
     "output_type": "display_data"
    }
   ],
   "source": [
    "figure = plt.figure(figsize=(8, 8))\n",
    "axes = figure.add_subplot()\n",
    "\n",
    "x = np.array([-3, -2, -1, 0, 1, 2, 3], dtype=np.float32)\n",
    "\n",
    "y = 3 * (1 - x)**2 * np.exp(-x**2) - 10 * (x / 5 - x**3) * np.exp(-x**2) - 1./3 * np.exp(-(x + 1)**2)\n",
    "\n",
    "axes.plot(x, y)"
   ]
  },
  {
   "cell_type": "markdown",
   "metadata": {},
   "source": [
    "- Modifica el código que genera la variable x para que sean 10 valores entre el [-3,3]. Muestra la imagen"
   ]
  },
  {
   "cell_type": "code",
   "execution_count": null,
   "metadata": {},
   "outputs": [
    {
     "data": {
      "text/plain": [
       "[<matplotlib.lines.Line2D at 0x7fd32fab9850>]"
      ]
     },
     "execution_count": 75,
     "metadata": {},
     "output_type": "execute_result"
    },
    {
     "data": {
      "image/png": "[encoded data removed]",
      "text/plain": [
       "<Figure size 800x800 with 1 Axes>"
      ]
     },
     "metadata": {},
     "output_type": "display_data"
    }
   ],
   "source": [
    "figure = plt.figure(figsize=(8, 8))\n",
    "axes = figure.add_subplot()\n",
    "\n",
    "x = np.linspace(-3, 3, 10, dtype=np.float32)\n",
    "\n",
    "y = 3 * (1 - x)**2 * np.exp(-x**2) - 10 * (x / 5 - x**3) * np.exp(-x**2) - 1./3 * np.exp(-(x + 1)**2)\n",
    "\n",
    "axes.plot(x, y)"
   ]
  },
  {
   "cell_type": "markdown",
   "metadata": {},
   "source": [
    "- Modifica el código que genera la variable x para que sean 20 valores entre el [-3,3]. Muestra la imagen\n"
   ]
  },
  {
   "cell_type": "code",
   "execution_count": null,
   "metadata": {},
   "outputs": [
    {
     "data": {
      "text/plain": [
       "[<matplotlib.lines.Line2D at 0x7fd32fbef2c0>]"
      ]
     },
     "execution_count": 76,
     "metadata": {},
     "output_type": "execute_result"
    },
    {
     "data": {
      "image/png": "[encoded data removed]",
      "text/plain": [
       "<Figure size 800x800 with 1 Axes>"
      ]
     },
     "metadata": {},
     "output_type": "display_data"
    }
   ],
   "source": [
    "figure = plt.figure(figsize=(8, 8))\n",
    "axes = figure.add_subplot()\n",
    "\n",
    "x = np.linspace(-3, 3, 20, dtype=np.float32)\n",
    "\n",
    "y = 3 * (1 - x)**2 * np.exp(-x**2) - 10 * (x / 5 - x**3) * np.exp(-x**2) - 1./3 * np.exp(-(x + 1)**2)\n",
    "\n",
    "axes.plot(x, y)"
   ]
  },
  {
   "cell_type": "markdown",
   "metadata": {},
   "source": [
    "- Modifica el código que genera la variable x para que sean 40 valores entre el [-3,3]. Muestra la imagen\n"
   ]
  },
  {
   "cell_type": "code",
   "execution_count": null,
   "metadata": {},
   "outputs": [
    {
     "data": {
      "text/plain": [
       "[<matplotlib.lines.Line2D at 0x730b39913170>]"
      ]
     },
     "execution_count": 62,
     "metadata": {},
     "output_type": "execute_result"
    },
    {
     "data": {
      "image/png": "[encoded data removed]",
      "text/plain": [
       "<Figure size 800x800 with 1 Axes>"
      ]
     },
     "metadata": {},
     "output_type": "display_data"
    }
   ],
   "source": [
    "figure = plt.figure(figsize=(8, 8))\n",
    "axes = figure.add_subplot()\n",
    "\n",
    "x = np.linspace(-3, 3, 40, dtype=np.float32)\n",
    "\n",
    "y = 3 * (1 - x)**2 * np.exp(-x**2) - 10 * (x / 5 - x**3) * np.exp(-x**2) - 1./3 * np.exp(-(x + 1)**2)\n",
    "\n",
    "axes.plot(x, y)"
   ]
  },
  {
   "cell_type": "markdown",
   "metadata": {},
   "source": [
    "- Modifica el código que genera la variable x para que sean 60 valores entre el [-3,3]. Muestra la imagen\n"
   ]
  },
  {
   "cell_type": "code",
   "execution_count": null,
   "metadata": {},
   "outputs": [
    {
     "data": {
      "text/plain": [
       "[<matplotlib.lines.Line2D at 0x730b39917c50>]"
      ]
     },
     "execution_count": 63,
     "metadata": {},
     "output_type": "execute_result"
    },
    {
     "data": {
      "image/png": "[encoded data removed]",
      "text/plain": [
       "<Figure size 800x800 with 1 Axes>"
      ]
     },
     "metadata": {},
     "output_type": "display_data"
    }
   ],
   "source": [
    "figure = plt.figure(figsize=(8, 8))\n",
    "axes = figure.add_subplot()\n",
    "\n",
    "x = np.linspace(-3, 3, 60, dtype=np.float32)\n",
    "\n",
    "y = 3 * (1 - x)**2 * np.exp(-x**2) - 10 * (x / 5 - x**3) * np.exp(-x**2) - 1./3 * np.exp(-(x + 1)**2)\n",
    "\n",
    "axes.plot(x, y)"
   ]
  },
  {
   "cell_type": "markdown",
   "metadata": {},
   "source": [
    "- Modifica el código que genera la variable x para que sean 100 valores entre el [-3,3]. Muestra la imagen\n"
   ]
  },
  {
   "cell_type": "code",
   "execution_count": null,
   "metadata": {},
   "outputs": [
    {
     "data": {
      "text/plain": [
       "[<matplotlib.lines.Line2D at 0x730b3865bef0>]"
      ]
     },
     "execution_count": 64,
     "metadata": {},
     "output_type": "execute_result"
    },
    {
     "data": {
      "image/png": "[encoded data removed]",
      "text/plain": [
       "<Figure size 800x800 with 1 Axes>"
      ]
     },
     "metadata": {},
     "output_type": "display_data"
    }
   ],
   "source": [
    "figure = plt.figure(figsize=(8, 8))\n",
    "axes = figure.add_subplot()\n",
    "\n",
    "x = np.linspace(-3, 3, 100, dtype=np.float32)\n",
    "\n",
    "y = 3 * (1 - x)**2 * np.exp(-x**2) - 10 * (x / 5 - x**3) * np.exp(-x**2) - 1./3 * np.exp(-(x + 1)**2)\n",
    "\n",
    "axes.plot(x, y)"
   ]
  },
  {
   "cell_type": "markdown",
   "metadata": {},
   "source": [
    "### Ejercicio 18\n",
    "Carga con numpy el fichero wine.csv que contiene una matriz de números separados por coma.\n",
    "La matriz contiene una serie de columnas con características del vino y la última columna indica el tipo del vino.\n",
    "- Crea una función en python llamada imprimir_datos y tendrá como parámetro una matriz de numpy de forma que:\n",
    "    - Imprima cuantas características tenemos de cada tipo de vino.\n",
    "    - Imprima cuantas muestra de vino tenemos\n",
    "    - Imprima cuantos tipos distintos de vino tenemos y cuales son\n",
    "    - Imprima los valores máximos y mínimos de cada característica\n",
    "    - Retorna una nueva matriz llamada x solo con las características y un nuevo array llamado y solo con los tipos de vino\n",
    "- Llama a la función imprimir_datos con los datos de wine.csv\n"
   ]
  },
  {
   "cell_type": "code",
   "execution_count": null,
   "metadata": {},
   "outputs": [
    {
     "name": "stdout",
     "output_type": "stream",
     "text": [
      "[[  14.23    1.71    2.43 ...    3.92 1065.      0.  ]\n",
      " [  13.2     1.78    2.14 ...    3.4  1050.      0.  ]\n",
      " [  13.16    2.36    2.67 ...    3.17 1185.      0.  ]\n",
      " ...\n",
      " [  13.27    4.28    2.26 ...    1.56  835.      2.  ]\n",
      " [  13.17    2.59    2.37 ...    1.62  840.      2.  ]\n",
      " [  14.13    4.1     2.74 ...    1.6   560.      2.  ]]\n"
     ]
    }
   ],
   "source": [
    "data = np.loadtxt('wine.csv', delimiter=',')\n",
    "\n",
    "print(data)"
   ]
  },
  {
   "cell_type": "markdown",
   "metadata": {},
   "source": [
    "- Crea una función en python llamada imprimir_datos y tendrá como parámetro una matriz de numpy de forma que:\n",
    "    - Imprima cuantas características tenemos de cada tipo de vino.\n",
    "    - Imprima cuantas muestra de vino tenemos\n",
    "    - Imprima cuantos tipos distintos de vino tenemos y cuales son\n",
    "    - Imprima los valores máximos y mínimos de cada característica\n",
    "    - Retorna una nueva matriz llamada x solo con las características y un nuevo array llamado y solo con los tipos de vino\n",
    "- Llama a la función imprimir_datos con los datos de wine.csv\n"
   ]
  },
  {
   "cell_type": "code",
   "execution_count": null,
   "metadata": {},
   "outputs": [
    {
     "name": "stdout",
     "output_type": "stream",
     "text": [
      "Número de características: 13\n",
      "Número de muestras de vino: 178\n",
      "Número de tipos distintos de vino: 3\n",
      "Tipos de vino: [0. 1. 2.]\n",
      "Característica 1: Máximo = 14.83, Mínimo = 11.03\n",
      "Característica 2: Máximo = 5.8, Mínimo = 0.74\n",
      "Característica 3: Máximo = 3.23, Mínimo = 1.36\n",
      "Característica 4: Máximo = 30.0, Mínimo = 10.6\n",
      "Característica 5: Máximo = 162.0, Mínimo = 70.0\n",
      "Característica 6: Máximo = 3.88, Mínimo = 0.98\n",
      "Característica 7: Máximo = 5.08, Mínimo = 0.34\n",
      "Característica 8: Máximo = 0.66, Mínimo = 0.13\n",
      "Característica 9: Máximo = 3.58, Mínimo = 0.41\n",
      "Característica 10: Máximo = 13.0, Mínimo = 1.28\n",
      "Característica 11: Máximo = 1.71, Mínimo = 0.48\n",
      "Característica 12: Máximo = 4.0, Mínimo = 1.27\n",
      "Característica 13: Máximo = 1680.0, Mínimo = 278.0\n"
     ]
    }
   ],
   "source": [
    "def imprimir_datos(matriz):\n",
    "    características = matriz[:, :-1] \n",
    "    tipos_vino = matriz[:, -1]         \n",
    "\n",
    "    num_características = características.shape[1]\n",
    "    print(f\"Número de características: {num_características}\")\n",
    "\n",
    "    num_muestras = características.shape[0]\n",
    "    print(f\"Número de muestras de vino: {num_muestras}\")\n",
    "\n",
    "    tipos_distintos = np.unique(tipos_vino)\n",
    "    num_tipos_distintos = len(tipos_distintos)\n",
    "    print(f\"Número de tipos distintos de vino: {num_tipos_distintos}\")\n",
    "    print(f\"Tipos de vino: {tipos_distintos}\")\n",
    "\n",
    "    maximos = np.max(características, axis=0)\n",
    "    mínimos = np.min(características, axis=0)\n",
    "    for i in range(num_características):\n",
    "        print(f\"Característica {i + 1}: Máximo = {maximos[i]}, Mínimo = {mínimos[i]}\")\n",
    "\n",
    "    return características, tipos_vino\n",
    "\n",
    "x, y = imprimir_datos(data)"
   ]
  },
  {
   "cell_type": "markdown",
   "metadata": {},
   "source": [
    "### Ejercicio 19\n",
    "\n",
    "Tienes los datos de las ventas diarias de una tienda durante un año. Los datos incluyen ventas anormalmente altas debido a días festivos o promociones. El objetivo es limpiar los datos eliminando estos valores atípicos y analizar la tendencia general de ventas.\n",
    "\n",
    "- Detecta y elimina los valores atípicos (aquellos que están fuera de 3 desviaciones estándar del promedio).\n",
    "- Calcula el promedio, la mediana y la desviación estándar de las ventas después de limpiar los datos.\n",
    "- Genera una vista de las ventas de cada trimestre (3 primeros meses, 3 siguientes, etc.).\n",
    "- Encuentra los 5 días con las ventas más bajas después de la limpieza de los datos.\n"
   ]
  },
  {
   "cell_type": "code",
   "execution_count": null,
   "metadata": {},
   "outputs": [],
   "source": [
    "np.random.seed(0)\n",
    "# Ventas diarias simuladas con media 500 y desviación estándar 50\n",
    "sales_data = np.random.normal(500, 50, 365)  \n",
    "# Ventas atípicas por promociones\n",
    "sales_data[[50, 120, 180, 250, 300]] = [1500, 1400, 1600, 1700, 1800]"
   ]
  },
  {
   "cell_type": "markdown",
   "metadata": {},
   "source": [
    "- Detecta y elimina los valores atípicos (aquellos que están fuera de 3 desviaciones estándar del promedio).\n"
   ]
  },
  {
   "cell_type": "code",
   "execution_count": 129,
   "metadata": {},
   "outputs": [
    {
     "name": "stdout",
     "output_type": "stream",
     "text": [
      "Datos limpiados:\n",
      " [588.2026173  520.00786042 548.93689921 612.04465996 593.37789951\n",
      " 451.13610601 547.50442088 492.43213959 494.83905741 520.5299251\n",
      " 507.20217856 572.71367535 538.05188626 506.08375082 522.19316164\n",
      " 516.68371637 574.70395366 489.74208681 515.65338508 457.29521303\n",
      " 372.35050921 532.68092977 543.22180994 462.89174898 613.4877312\n",
      " 427.28171627 502.28792587 490.6408075  576.63896072 573.4679385\n",
      " 507.74737128 518.90812598 455.61071262 400.96017659 482.60439253\n",
      " 507.81744846 561.51453404 560.11899244 480.63365913 484.88486247\n",
      " 447.57235175 428.99910314 414.68649047 597.53876976 474.51739091\n",
      " 478.09628492 437.360232   538.87451779 419.30510762 489.36298599\n",
      " 519.34512489 474.45974312 440.96839079 498.59088858 521.41659353\n",
      " 503.32586112 515.12359489 468.28389532 481.8629417  466.37697761\n",
      " 482.02234192 459.3426859  413.68586988 508.87130711 479.91095319\n",
      " 418.49008265 523.13911278 454.63508178 502.59726979 536.45452811\n",
      " 506.44914554 556.97003423 438.25870898 520.11708206 465.75949545\n",
      " 456.46014254 471.05751676 484.42237339 502.80826711 441.74250796\n",
      " 545.04132435 523.28312199 423.18781569 574.41260969 594.7944588\n",
      " 558.93897856 491.00375821 446.46236892 552.72258635 479.84115265\n",
      " 561.12225352 510.4137489  548.83195182 517.81831986 535.32865841\n",
      " 500.52500104 589.2935247  506.34560464 520.09946817 594.15753485\n",
      " 432.61204694 436.47575008 548.46983541 441.34382974 597.18105928\n",
      " 479.31905096 462.62725943 596.14710132 574.02573957 593.37794802\n",
      " 545.30223291 456.93871575 595.50324765 486.59983145 540.12281979\n",
      " 547.36259839 492.24949535 530.70396852 546.11033358 445.02996047\n",
      " 514.91190871 566.31929483 465.27160701 492.51827298 478.24232241\n",
      " 592.46318642 533.61473785 520.37309181 461.50419628 526.96245956\n",
      " 466.28336697 501.59152791 468.20769608 533.82166475 528.82954083\n",
      " 489.58506222 519.80033563 445.34692456 425.43712036 521.96958506\n",
      " 508.33367477 531.75157184 619.15723874 547.22397435 454.35888873\n",
      " 555.8508144  434.20462947 476.92076976 496.58791973 585.66713608\n",
      " 462.7622589  458.67807307 495.07737378 466.82608568 556.33179611\n",
      " 446.00342458 442.62656738 478.10899776 475.09837747 596.47660269\n",
      " 547.47104035 504.37756207 438.72822406 542.21814882 449.98923263\n",
      " 422.76144516 559.40148962 515.8471306  546.04294119 515.93638265\n",
      " 542.8415306  467.44872033 448.28785791 534.07972591 459.82951679\n",
      " 465.52251111 477.22337482 500.87395795 431.25243533 467.81907986\n",
      " 388.82984239 531.26157255 419.89711722 444.78083303 502.60825396\n",
      " 463.02185018 577.15072977 435.35715451 513.35254347 498.03585909\n",
      " 441.59532511 526.16383303 491.42268344 538.58952756 541.1752077\n",
      " 608.16179746 566.82639747 481.5409081  488.03104112 554.98297979\n",
      " 532.76318654 532.0065763  419.15219778 498.78369378 463.09845454\n",
      " 513.99622995 495.09248052 545.5089454  515.86091076 539.31639811\n",
      " 476.67904516 452.7776872  479.49751534 499.14897931 518.95758678\n",
      " 612.96544753 497.88714242 452.20274998 482.70091122 476.82020127\n",
      " 524.07407369 422.96014928 503.16309971 507.8253269  511.60905181\n",
      " 470.13419655 488.10391351 428.79695455 475.33400583 472.8569262\n",
      " 520.80250231 442.19087841 539.05990509 574.72422722 396.50074875\n",
      " 521.31293654 533.84540175 468.12814872 480.13640928 493.35597112\n",
      " 485.11045603 484.54935155 416.19980968 557.61657824 553.9809296\n",
      " 459.33178704 426.67878361 471.21060151 507.09765817 484.03357914\n",
      " 534.57693755 534.73745718 463.72013108 430.83180223 420.85308013\n",
      " 530.51896896 440.55703711 474.65918229 470.18429808 497.37163519\n",
      " 403.18600971 509.43892984 526.19455119 504.42110435 484.45569142\n",
      " 504.87000831 519.95231728 361.37036218 597.79561541 519.50466613\n",
      " 467.37957088 480.45233124 524.68708887 494.19480305 398.46577661\n",
      " 603.22464307 494.47296714 551.00863559 465.39750761 576.81885271\n",
      " 514.31718444 530.44219172 447.73733169 560.55726448 534.49090823\n",
      " 565.09231148 468.59562202 475.94864408 615.19583488 446.99920886\n",
      " 493.20251497 556.84456813 504.88624839 529.14768399 480.02754854\n",
      " 518.50279439 582.90653398 494.09179774 465.9910898  533.3191541\n",
      " 476.96401063 433.28707643 432.66412471 534.68865763 492.02132809\n",
      " 493.31492202 553.8871903  443.65870956 463.46611236 480.75600954\n",
      " 504.71757947 497.89142744 485.65564038 496.9186799  494.63473619\n",
      " 464.01978057 459.35035057 513.72581789 455.45424585 442.13223704\n",
      " 484.38538744 492.11664919 612.83617486 464.76498621 547.16303625\n",
      " 537.35941671 440.55275224 538.66264887 440.80596799 367.0413881\n",
      " 530.31597622 412.20547083 522.54672309 465.79945511 582.97753981\n",
      " 553.42546997 477.33070981 465.60811945 439.29612985 477.95386839\n",
      " 485.98222524 481.76532278 507.83519276 528.92607489 517.48272285\n",
      " 461.7928038  428.11042631 568.22659241 465.52754077 467.38532\n",
      " 473.94053438 407.84652249 476.1012998  476.0172093  531.01791492\n",
      " 534.92285746 500.18854445 546.59241871 516.99824919 499.21589442]\n"
     ]
    }
   ],
   "source": [
    "mean_sales = np.mean(sales_data)\n",
    "std_sales = np.std(sales_data)\n",
    "\n",
    "outliers = (sales_data < mean_sales - 3 * std_sales) | (sales_data > mean_sales + 3 * std_sales)\n",
    "\n",
    "cleaned_sales_data = sales_data[~outliers]\n",
    "\n",
    "print(f\"Datos limpiados:\\n {cleaned_sales_data}\")"
   ]
  },
  {
   "cell_type": "markdown",
   "metadata": {},
   "source": [
    "- Calcula el promedio, la mediana y la desviación estándar de las ventas después de limpiar los datos.\n"
   ]
  },
  {
   "cell_type": "code",
   "execution_count": 130,
   "metadata": {},
   "outputs": [
    {
     "name": "stdout",
     "output_type": "stream",
     "text": [
      "Desviación estándar después de limpiar los datos: 49.581188263372624\n"
     ]
    }
   ],
   "source": [
    "mean_cleaned = np.mean(cleaned_sales_data)\n",
    "median_cleaned = np.median(cleaned_sales_data)\n",
    "std_cleaned = np.std(cleaned_sales_data)\n",
    "print(f\"Desviación estándar después de limpiar los datos: {std_cleaned}\")"
   ]
  },
  {
   "cell_type": "markdown",
   "metadata": {},
   "source": [
    "- Genera una vista de las ventas de cada trimestre (3 primeros meses, 3 siguientes, etc.)"
   ]
  },
  {
   "cell_type": "code",
   "execution_count": 132,
   "metadata": {},
   "outputs": [
    {
     "name": "stdout",
     "output_type": "stream",
     "text": [
      "Ventas del primer trimestre:\n",
      " [588.2026173  520.00786042 548.93689921 612.04465996 593.37789951\n",
      " 451.13610601 547.50442088 492.43213959 494.83905741 520.5299251\n",
      " 507.20217856 572.71367535 538.05188626 506.08375082 522.19316164\n",
      " 516.68371637 574.70395366 489.74208681 515.65338508 457.29521303\n",
      " 372.35050921 532.68092977 543.22180994 462.89174898 613.4877312\n",
      " 427.28171627 502.28792587 490.6408075  576.63896072 573.4679385\n",
      " 507.74737128 518.90812598 455.61071262 400.96017659 482.60439253\n",
      " 507.81744846 561.51453404 560.11899244 480.63365913 484.88486247\n",
      " 447.57235175 428.99910314 414.68649047 597.53876976 474.51739091\n",
      " 478.09628492 437.360232   538.87451779 419.30510762 489.36298599\n",
      " 519.34512489 474.45974312 440.96839079 498.59088858 521.41659353\n",
      " 503.32586112 515.12359489 468.28389532 481.8629417  466.37697761\n",
      " 482.02234192 459.3426859  413.68586988 508.87130711 479.91095319\n",
      " 418.49008265 523.13911278 454.63508178 502.59726979 536.45452811\n",
      " 506.44914554 556.97003423 438.25870898 520.11708206 465.75949545\n",
      " 456.46014254 471.05751676 484.42237339 502.80826711 441.74250796\n",
      " 545.04132435 523.28312199 423.18781569 574.41260969 594.7944588\n",
      " 558.93897856 491.00375821 446.46236892 552.72258635 479.84115265]\n",
      "Ventas del segundo trimestre:\n",
      " [561.12225352 510.4137489  548.83195182 517.81831986 535.32865841\n",
      " 500.52500104 589.2935247  506.34560464 520.09946817 594.15753485\n",
      " 432.61204694 436.47575008 548.46983541 441.34382974 597.18105928\n",
      " 479.31905096 462.62725943 596.14710132 574.02573957 593.37794802\n",
      " 545.30223291 456.93871575 595.50324765 486.59983145 540.12281979\n",
      " 547.36259839 492.24949535 530.70396852 546.11033358 445.02996047\n",
      " 514.91190871 566.31929483 465.27160701 492.51827298 478.24232241\n",
      " 592.46318642 533.61473785 520.37309181 461.50419628 526.96245956\n",
      " 466.28336697 501.59152791 468.20769608 533.82166475 528.82954083\n",
      " 489.58506222 519.80033563 445.34692456 425.43712036 521.96958506\n",
      " 508.33367477 531.75157184 619.15723874 547.22397435 454.35888873\n",
      " 555.8508144  434.20462947 476.92076976 496.58791973 585.66713608\n",
      " 462.7622589  458.67807307 495.07737378 466.82608568 556.33179611\n",
      " 446.00342458 442.62656738 478.10899776 475.09837747 596.47660269\n",
      " 547.47104035 504.37756207 438.72822406 542.21814882 449.98923263\n",
      " 422.76144516 559.40148962 515.8471306  546.04294119 515.93638265\n",
      " 542.8415306  467.44872033 448.28785791 534.07972591 459.82951679\n",
      " 465.52251111 477.22337482 500.87395795 431.25243533 467.81907986]\n",
      "Ventas del tercer trimestre:\n",
      " [388.82984239 531.26157255 419.89711722 444.78083303 502.60825396\n",
      " 463.02185018 577.15072977 435.35715451 513.35254347 498.03585909\n",
      " 441.59532511 526.16383303 491.42268344 538.58952756 541.1752077\n",
      " 608.16179746 566.82639747 481.5409081  488.03104112 554.98297979\n",
      " 532.76318654 532.0065763  419.15219778 498.78369378 463.09845454\n",
      " 513.99622995 495.09248052 545.5089454  515.86091076 539.31639811\n",
      " 476.67904516 452.7776872  479.49751534 499.14897931 518.95758678\n",
      " 612.96544753 497.88714242 452.20274998 482.70091122 476.82020127\n",
      " 524.07407369 422.96014928 503.16309971 507.8253269  511.60905181\n",
      " 470.13419655 488.10391351 428.79695455 475.33400583 472.8569262\n",
      " 520.80250231 442.19087841 539.05990509 574.72422722 396.50074875\n",
      " 521.31293654 533.84540175 468.12814872 480.13640928 493.35597112\n",
      " 485.11045603 484.54935155 416.19980968 557.61657824 553.9809296\n",
      " 459.33178704 426.67878361 471.21060151 507.09765817 484.03357914\n",
      " 534.57693755 534.73745718 463.72013108 430.83180223 420.85308013\n",
      " 530.51896896 440.55703711 474.65918229 470.18429808 497.37163519\n",
      " 403.18600971 509.43892984 526.19455119 504.42110435 484.45569142\n",
      " 504.87000831 519.95231728 361.37036218 597.79561541 519.50466613]\n",
      "Ventas del cuarto trimestre:\n",
      " [467.37957088 480.45233124 524.68708887 494.19480305 398.46577661\n",
      " 603.22464307 494.47296714 551.00863559 465.39750761 576.81885271\n",
      " 514.31718444 530.44219172 447.73733169 560.55726448 534.49090823\n",
      " 565.09231148 468.59562202 475.94864408 615.19583488 446.99920886\n",
      " 493.20251497 556.84456813 504.88624839 529.14768399 480.02754854\n",
      " 518.50279439 582.90653398 494.09179774 465.9910898  533.3191541\n",
      " 476.96401063 433.28707643 432.66412471 534.68865763 492.02132809\n",
      " 493.31492202 553.8871903  443.65870956 463.46611236 480.75600954\n",
      " 504.71757947 497.89142744 485.65564038 496.9186799  494.63473619\n",
      " 464.01978057 459.35035057 513.72581789 455.45424585 442.13223704\n",
      " 484.38538744 492.11664919 612.83617486 464.76498621 547.16303625\n",
      " 537.35941671 440.55275224 538.66264887 440.80596799 367.0413881\n",
      " 530.31597622 412.20547083 522.54672309 465.79945511 582.97753981\n",
      " 553.42546997 477.33070981 465.60811945 439.29612985 477.95386839\n",
      " 485.98222524 481.76532278 507.83519276 528.92607489 517.48272285\n",
      " 461.7928038  428.11042631 568.22659241 465.52754077 467.38532\n",
      " 473.94053438 407.84652249 476.1012998  476.0172093  531.01791492\n",
      " 534.92285746 500.18854445 546.59241871 516.99824919 499.21589442]\n"
     ]
    }
   ],
   "source": [
    "trimestre1 = cleaned_sales_data[:90]\n",
    "trimestre2 = cleaned_sales_data[90:180]\n",
    "trimestre3 = cleaned_sales_data[180:270]\n",
    "trimestre4 = cleaned_sales_data[270:]\n",
    "\n",
    "print(\"Ventas del primer trimestre:\\n\", trimestre1)\n",
    "print(\"Ventas del segundo trimestre:\\n\", trimestre2)\n",
    "print(\"Ventas del tercer trimestre:\\n\", trimestre3)\n",
    "print(\"Ventas del cuarto trimestre:\\n\", trimestre4)"
   ]
  },
  {
   "cell_type": "markdown",
   "metadata": {},
   "source": [
    "- Encuentra los 5 días con las ventas más bajas después de la limpieza de los datos."
   ]
  },
  {
   "cell_type": "code",
   "execution_count": 134,
   "metadata": {},
   "outputs": [
    {
     "name": "stdout",
     "output_type": "stream",
     "text": [
      "Índices de los 5 días con las ventas más bajas:\n",
      " [267 329  20 180 234]\n",
      "Ventas de los 5 días con las ventas más bajas:\n",
      " [361.37036218 367.0413881  372.35050921 388.82984239 396.50074875]\n"
     ]
    }
   ],
   "source": [
    "lowest_sales_indices = np.argsort(cleaned_sales_data)[:5]\n",
    "lowest_sales_values = cleaned_sales_data[lowest_sales_indices]\n",
    "\n",
    "print(\"Índices de los 5 días con las ventas más bajas:\\n\", lowest_sales_indices)\n",
    "print(\"Ventas de los 5 días con las ventas más bajas:\\n\", lowest_sales_values)"
   ]
  },
  {
   "cell_type": "markdown",
   "metadata": {},
   "source": [
    "### Ejercicio 20\n",
    "Tienes un conjunto de datos que contiene información demográfica de varias personas, incluyendo edad, ingresos anuales, y nivel de educación. El objetivo es realizar un análisis y encontrar patrones significativos entre estas variables."
   ]
  },
  {
   "cell_type": "code",
   "execution_count": 135,
   "metadata": {},
   "outputs": [],
   "source": [
    "np.random.seed(3)\n",
    "ages = np.random.randint(18, 70, size=200)  # Edades de 200 personas\n",
    "income = np.random.normal(50000, 15000, size=200)  # Ingresos anuales en un rango normal alrededor de 50,000\n",
    "education_years = np.random.randint(0, 20, size=200)  # Años de educación formal"
   ]
  },
  {
   "cell_type": "markdown",
   "metadata": {},
   "source": [
    "- Calcula la correlación entre los años de educación y los ingresos."
   ]
  },
  {
   "cell_type": "code",
   "execution_count": 136,
   "metadata": {},
   "outputs": [
    {
     "name": "stdout",
     "output_type": "stream",
     "text": [
      "Correlación entre los años de educación y los ingresos: 0.011391118176642918\n"
     ]
    }
   ],
   "source": [
    "correlacion = np.corrcoef(education_years, income)[0, 1]\n",
    "\n",
    "print(f\"Correlación entre los años de educación y los ingresos: {correlacion}\")"
   ]
  },
  {
   "cell_type": "markdown",
   "metadata": {},
   "source": [
    "- Divide a las personas en grupos de edades (18-30, 31-45, 46-60, 61+) y calcula el ingreso promedio por grupo."
   ]
  },
  {
   "cell_type": "code",
   "execution_count": null,
   "metadata": {},
   "outputs": [
    {
     "name": "stdout",
     "output_type": "stream",
     "text": [
      "Ingreso promedio para el grupo de edad 18-30: 48721.35\n",
      "Ingreso promedio para el grupo de edad 31-45: 51530.91\n",
      "Ingreso promedio para el grupo de edad 46-60: 50692.65\n",
      "Ingreso promedio para el grupo de edad 61-100: 54879.98\n"
     ]
    }
   ],
   "source": [
    "grupos_edad = [(18, 30), (31, 45), (46, 60), (61, 100)]\n",
    "\n",
    "ingreso_promedio_por_grupo = []\n",
    "\n",
    "for (edad_min, edad_max) in grupos_edad:\n",
    "    mask = (ages >= edad_min) & (ages <= edad_max)\n",
    "    ingreso_promedio = np.mean(income[mask])\n",
    "    ingreso_promedio_por_grupo.append((edad_min, edad_max, ingreso_promedio))\n",
    "\n",
    "for (edad_min, edad_max, ingreso_promedio) in ingreso_promedio_por_grupo:\n",
    "    print(f\"Ingreso promedio para el grupo de edad {edad_min}-{edad_max}: {ingreso_promedio:.2f}\")"
   ]
  },
  {
   "cell_type": "markdown",
   "metadata": {},
   "source": [
    "- Encuentra el percentil 90 de ingresos y determina cuántas personas ganan por encima de ese valor."
   ]
  },
  {
   "cell_type": "code",
   "execution_count": null,
   "metadata": {},
   "outputs": [
    {
     "name": "stdout",
     "output_type": "stream",
     "text": [
      "Percentil 90 de ingresos: 71874.40\n",
      "Número de personas que ganan por encima del percentil 90: 20\n"
     ]
    }
   ],
   "source": [
    "percentil_90 = np.percentile(income, 90)\n",
    "\n",
    "num_personas_por_encima = np.sum(income > percentil_90)\n",
    "\n",
    "print(f\"Percentil 90 de ingresos: {percentil_90:.2f}\")\n",
    "print(f\"Número de personas que ganan por encima del percentil 90: {num_personas_por_encima}\")"
   ]
  },
  {
   "cell_type": "markdown",
   "metadata": {},
   "source": [
    "- Agrupa los datos en función del número de años de educación y calcula el promedio de ingresos para cada grupo"
   ]
  },
  {
   "cell_type": "code",
   "execution_count": null,
   "metadata": {},
   "outputs": [
    {
     "name": "stdout",
     "output_type": "stream",
     "text": [
      "Promedio de ingresos para 0 años de educación: 57612.66\n",
      "Promedio de ingresos para 1 años de educación: 52935.75\n",
      "Promedio de ingresos para 2 años de educación: 49788.25\n",
      "Promedio de ingresos para 3 años de educación: 56666.56\n",
      "Promedio de ingresos para 4 años de educación: 43664.77\n",
      "Promedio de ingresos para 5 años de educación: 40515.90\n",
      "Promedio de ingresos para 6 años de educación: 49487.56\n",
      "Promedio de ingresos para 7 años de educación: 47508.15\n",
      "Promedio de ingresos para 8 años de educación: 39668.02\n",
      "Promedio de ingresos para 9 años de educación: 48373.11\n",
      "Promedio de ingresos para 10 años de educación: 53053.60\n",
      "Promedio de ingresos para 11 años de educación: 49049.39\n",
      "Promedio de ingresos para 12 años de educación: 48043.07\n",
      "Promedio de ingresos para 13 años de educación: 54938.16\n",
      "Promedio de ingresos para 14 años de educación: 51992.31\n",
      "Promedio de ingresos para 15 años de educación: 46378.83\n",
      "Promedio de ingresos para 16 años de educación: 68264.05\n",
      "Promedio de ingresos para 17 años de educación: 52895.76\n",
      "Promedio de ingresos para 18 años de educación: 52551.03\n",
      "Promedio de ingresos para 19 años de educación: 53305.13\n"
     ]
    }
   ],
   "source": [
    "unique_education_years = np.unique(education_years)\n",
    "\n",
    "promedio_ingresos_por_educacion = []\n",
    "\n",
    "for years in unique_education_years:\n",
    "    mask = (education_years == years)\n",
    "    promedio_ingresos = np.mean(income[mask])\n",
    "    promedio_ingresos_por_educacion.append((years, promedio_ingresos))\n",
    "\n",
    "for years, promedio_ingresos in promedio_ingresos_por_educacion:\n",
    "    print(f\"Promedio de ingresos para {years} años de educación: {promedio_ingresos:.2f}\")"
   ]
  },
  {
   "cell_type": "markdown",
   "metadata": {},
   "source": [
    "#### Este ultimo ejercicio esta hecho entero por copilot"
   ]
  }
 ],
 "metadata": {
  "kernelspec": {
   "display_name": "base",
   "language": "python",
   "name": "python3"
  },
  "language_info": {
   "codemirror_mode": {
    "name": "ipython",
    "version": 3
   },
   "file_extension": ".py",
   "mimetype": "text/x-python",
   "name": "python",
   "nbconvert_exporter": "python",
   "pygments_lexer": "ipython3",
   "version": "3.12.4"
  }
 },
 "nbformat": 4,
 "nbformat_minor": 2
}
