{
 "cells": [
  {
   "cell_type": "code",
   "execution_count": 9,
   "metadata": {},
   "outputs": [],
   "source": [
    "import os\n",
    "import tensorflow as tf\n",
    "\n",
    "def get_image_label_lists(images_dir, labels_dir):\n",
    "    image_paths, class_labels = [], []\n",
    "    \n",
    "    for filename in os.listdir(images_dir):\n",
    "        if filename.endswith('.jpg'):\n",
    "            img_path = os.path.join(images_dir, filename)\n",
    "            label_path = os.path.join(labels_dir, filename.replace('.jpg', '.txt'))\n",
    "            class_id = 0\n",
    "\n",
    "            if os.path.exists(label_path):\n",
    "                with open(label_path, 'r') as f:\n",
    "                    try:\n",
    "                        class_id = int(f.readline().split()[0])\n",
    "                    except:\n",
    "                        pass\n",
    "\n",
    "            image_paths.append(img_path)\n",
    "            class_labels.append(class_id)\n",
    "    \n",
    "    return image_paths, class_labels\n",
    "\n",
    "def load_and_preprocess_image(path, label):\n",
    "    image = tf.io.read_file(path)\n",
    "    image = tf.image.decode_jpeg(image, channels=3)\n",
    "    image = tf.image.resize(image, (224, 224)) / 255.0\n",
    "    return image, label\n",
    "\n",
    "def prepare_dataset(image_paths, class_labels, batch_size=32, training=False):\n",
    "    ds = tf.data.Dataset.from_tensor_slices((image_paths, class_labels))\n",
    "    ds = ds.map(load_and_preprocess_image, num_parallel_calls=tf.data.AUTOTUNE)\n",
    "    if training:\n",
    "        ds = ds.shuffle(1000)\n",
    "    return ds.batch(batch_size).prefetch(tf.data.AUTOTUNE)\n",
    "\n",
    "train_ds = prepare_dataset(*get_image_label_lists(\"./Dataset/train/images\", \"./Dataset/train/labels\"), training=True)\n",
    "valid_ds = prepare_dataset(*get_image_label_lists(\"./Dataset/valid/images\", \"./Dataset/valid/labels\"))\n",
    "test_ds  = prepare_dataset(*get_image_label_lists(\"./Dataset/test/images\",  \"./Dataset/test/labels\"))"
   ]
  },
  {
   "cell_type": "code",
   "execution_count": 10,
   "metadata": {},
   "outputs": [
    {
     "name": "stdout",
     "output_type": "stream",
     "text": [
      "Counter({'DTR': 21868, 'BTR': 14778, 'DV': 2078, 'BV': 1402, 'DT': 1056, 'BT': 722})\n"
     ]
    }
   ],
   "source": [
    "from collections import Counter\n",
    "import os\n",
    "\n",
    "def count_btr_dtr(directory):\n",
    "    btr_count = 0\n",
    "    dtr_count = 0\n",
    "    bv_count = 0\n",
    "    dv_count = 0\n",
    "    bt_count = 0\n",
    "    dt_count = 0\n",
    "    \n",
    "    for root, _, files in os.walk(directory):\n",
    "        for file in files:\n",
    "            if \"BTR\" in file:\n",
    "                btr_count += 1\n",
    "            elif \"DTR\" in file:\n",
    "                dtr_count += 1\n",
    "            elif \"BV\" in file:\n",
    "                bv_count += 1\n",
    "            elif \"DV\" in file:\n",
    "                dv_count += 1\n",
    "            elif \"BT\" in file:\n",
    "                bt_count += 1\n",
    "            elif \"DT\" in file:\n",
    "                dt_count += 1\n",
    "    \n",
    "    return Counter({\"BTR\": btr_count, \"DTR\": dtr_count, \"BV\": bv_count, \"DV\": dv_count, \"BT\": bt_count, \"DT\": dt_count})\n",
    "\n",
    "dataset_dir = \"./Dataset\"\n",
    "btr_dtr_counts = count_btr_dtr(dataset_dir)\n",
    "print(btr_dtr_counts)"
   ]
  },
  {
   "cell_type": "markdown",
   "metadata": {},
   "source": [
    "### Conteo:\n",
    "- En la carpeta de Train tenemos 21868 imagenes de drones y 14778 imagenes de pajaros\n",
    "\n",
    "- En la carpeta de valid tenemos 2078 imagenes de drones y 1402 imagenes de pajaros\n",
    "\n",
    "- En la carpeta de Test tenemos 1056 imagenes de drones y 722 imagenes de pajaros"
   ]
  }
 ],
 "metadata": {
  "kernelspec": {
   "display_name": "base",
   "language": "python",
   "name": "python3"
  },
  "language_info": {
   "codemirror_mode": {
    "name": "ipython",
    "version": 3
   },
   "file_extension": ".py",
   "mimetype": "text/x-python",
   "name": "python",
   "nbconvert_exporter": "python",
   "pygments_lexer": "ipython3",
   "version": "3.12.4"
  }
 },
 "nbformat": 4,
 "nbformat_minor": 2
}
