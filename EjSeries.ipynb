{
 "cells": [
  {
   "cell_type": "code",
   "execution_count": 9,
   "metadata": {},
   "outputs": [],
   "source": [
    "import pandas as pd\n",
    "import numpy as np"
   ]
  },
  {
   "cell_type": "markdown",
   "metadata": {},
   "source": [
    "### 1. Crear y visualizar un arreglo unidimensional como una estructura Series.\n"
   ]
  },
  {
   "cell_type": "code",
   "execution_count": 2,
   "metadata": {},
   "outputs": [
    {
     "name": "stdout",
     "output_type": "stream",
     "text": [
      "0    1\n",
      "1    2\n",
      "2    3\n",
      "3    4\n",
      "4    5\n",
      "dtype: int64\n"
     ]
    }
   ],
   "source": [
    "serie = pd.Series([1, 2, 3, 4, 5])\n",
    "print(serie)"
   ]
  },
  {
   "cell_type": "markdown",
   "metadata": {},
   "source": [
    "### 2. Convertir un objeto Series a una lista Python.\n"
   ]
  },
  {
   "cell_type": "code",
   "execution_count": 3,
   "metadata": {},
   "outputs": [
    {
     "name": "stdout",
     "output_type": "stream",
     "text": [
      "[1, 2, 3, 4, 5]\n"
     ]
    }
   ],
   "source": [
    "lista = serie.tolist()\n",
    "print(lista)"
   ]
  },
  {
   "cell_type": "markdown",
   "metadata": {},
   "source": [
    "### 3. Aplicar las operaciones aritméticas básicas (suma, resta, multiplicación y división) sobre objetos Series."
   ]
  },
  {
   "cell_type": "code",
   "execution_count": 4,
   "metadata": {},
   "outputs": [
    {
     "name": "stdout",
     "output_type": "stream",
     "text": [
      "Suma:\n",
      " 0    11\n",
      "1    22\n",
      "2    33\n",
      "3    44\n",
      "4    55\n",
      "dtype: int64\n",
      "Resta:\n",
      " 0    -9\n",
      "1   -18\n",
      "2   -27\n",
      "3   -36\n",
      "4   -45\n",
      "dtype: int64\n",
      "Multiplicación:\n",
      " 0     10\n",
      "1     40\n",
      "2     90\n",
      "3    160\n",
      "4    250\n",
      "dtype: int64\n",
      "División:\n",
      " 0    0.1\n",
      "1    0.1\n",
      "2    0.1\n",
      "3    0.1\n",
      "4    0.1\n",
      "dtype: float64\n"
     ]
    }
   ],
   "source": [
    "serie2 = pd.Series([10, 20, 30, 40, 50])\n",
    "\n",
    "suma = serie + serie2\n",
    "print(\"Suma:\\n\", suma)\n",
    "\n",
    "resta = serie - serie2\n",
    "print(\"Resta:\\n\", resta)\n",
    "\n",
    "multiplicacion = serie * serie2\n",
    "print(\"Multiplicación:\\n\", multiplicacion)\n",
    "\n",
    "division = serie / serie2\n",
    "print(\"División:\\n\", division)"
   ]
  },
  {
   "cell_type": "markdown",
   "metadata": {},
   "source": [
    "### 4. Usar operadores relacionales para comparar objetos Series.\n"
   ]
  },
  {
   "cell_type": "code",
   "execution_count": 7,
   "metadata": {},
   "outputs": [
    {
     "name": "stdout",
     "output_type": "stream",
     "text": [
      "Comparación:\n",
      " 0    False\n",
      "1    False\n",
      "2    False\n",
      "3    False\n",
      "4    False\n",
      "dtype: bool\n"
     ]
    }
   ],
   "source": [
    "comparacion = serie > serie2\n",
    "print(\"Comparación:\\n\", comparacion)"
   ]
  },
  {
   "cell_type": "markdown",
   "metadata": {},
   "source": [
    "### 5. Convertir un diccionario Python en un objeto Series.\n"
   ]
  },
  {
   "cell_type": "code",
   "execution_count": 8,
   "metadata": {},
   "outputs": [
    {
     "name": "stdout",
     "output_type": "stream",
     "text": [
      "a    1\n",
      "b    2\n",
      "c    3\n",
      "dtype: int64\n"
     ]
    }
   ],
   "source": [
    "diccionario = {'a': 1, 'b': 2, 'c': 3}\n",
    "serie_diccionario = pd.Series(diccionario)\n",
    "print(serie_diccionario)"
   ]
  },
  {
   "cell_type": "markdown",
   "metadata": {},
   "source": [
    "### 6. Convertir un arreglo NumPy en un objeto Series.\n"
   ]
  },
  {
   "cell_type": "code",
   "execution_count": 10,
   "metadata": {},
   "outputs": [
    {
     "name": "stdout",
     "output_type": "stream",
     "text": [
      "0    1\n",
      "1    2\n",
      "2    3\n",
      "3    4\n",
      "4    5\n",
      "dtype: int64\n"
     ]
    }
   ],
   "source": [
    "array = np.array([1, 2, 3, 4, 5])\n",
    "serie_array = pd.Series(array)\n",
    "print(serie_array)"
   ]
  },
  {
   "cell_type": "markdown",
   "metadata": {},
   "source": [
    "### 7. Cambiar el tipo de datos de un objeto Series.\n"
   ]
  },
  {
   "cell_type": "code",
   "execution_count": 11,
   "metadata": {},
   "outputs": [
    {
     "name": "stdout",
     "output_type": "stream",
     "text": [
      "0    1.0\n",
      "1    2.0\n",
      "2    3.0\n",
      "3    4.0\n",
      "4    5.0\n",
      "dtype: float64\n"
     ]
    }
   ],
   "source": [
    "serie_float = serie.astype(float)\n",
    "print(serie_float)"
   ]
  },
  {
   "cell_type": "markdown",
   "metadata": {},
   "source": [
    "### 8. Convertir un objeto Series con múltiples listas en un único objeto Series.\n"
   ]
  },
  {
   "cell_type": "code",
   "execution_count": null,
   "metadata": {},
   "outputs": [
    {
     "name": "stdout",
     "output_type": "stream",
     "text": [
      "0     Colombia\n",
      "1         Perú\n",
      "2    Argentina\n",
      "3      Bolivia\n",
      "4      Uruguay\n",
      "5        Chile\n",
      "dtype: object\n"
     ]
    }
   ],
   "source": [
    "lista = [['Colombia', 'Perú', 'Argentina'], ['Bolivia', 'Uruguay'], ['Chile']]\n",
    "serie_lista = pd.Series(lista)\n",
    "\n",
    "serie_exploded = serie_lista.explode()\n",
    "\n",
    "serie_exploded = serie_exploded.reset_index(drop=True)\n",
    "\n",
    "print(serie_exploded)"
   ]
  },
  {
   "cell_type": "markdown",
   "metadata": {},
   "source": [
    "### 9. Ordenar los valores de un objeto Series con el método sort_values."
   ]
  },
  {
   "cell_type": "code",
   "execution_count": 13,
   "metadata": {},
   "outputs": [
    {
     "name": "stdout",
     "output_type": "stream",
     "text": [
      "1    1\n",
      "4    2\n",
      "0    3\n",
      "2    4\n",
      "3    5\n",
      "dtype: int64\n"
     ]
    }
   ],
   "source": [
    "serie_desordenada = pd.Series([3, 1, 4, 5, 2])\n",
    "serie_ordenada = serie_desordenada.sort_values()\n",
    "print(serie_ordenada)"
   ]
  },
  {
   "cell_type": "markdown",
   "metadata": {},
   "source": [
    "### 10. Agregar datos a un objeto Series existente.\n"
   ]
  },
  {
   "cell_type": "code",
   "execution_count": 43,
   "metadata": {},
   "outputs": [
    {
     "name": "stdout",
     "output_type": "stream",
     "text": [
      "0     Colombia\n",
      "1         Perú\n",
      "2    Argentina\n",
      "3      Bolivia\n",
      "4      Uruguay\n",
      "5        Chile\n",
      "6       Brasil\n",
      "7     Paraguay\n",
      "dtype: object\n"
     ]
    }
   ],
   "source": [
    "serie_inicial = pd.Series(['Colombia', 'Perú', 'Argentina', 'Bolivia', 'Uruguay', 'Chile'])\n",
    "\n",
    "nuevos_datos = pd.Series(['Brasil', 'Paraguay'])\n",
    "\n",
    "serie_actualizada = pd.concat([serie_inicial, nuevos_datos], ignore_index=True)\n",
    "\n",
    "print(serie_actualizada)"
   ]
  },
  {
   "cell_type": "markdown",
   "metadata": {},
   "source": [
    "### 11. Crea un objeto Series a partir de un filtro aplicado a otro objeto Series.\n"
   ]
  },
  {
   "cell_type": "code",
   "execution_count": 15,
   "metadata": {},
   "outputs": [
    {
     "name": "stdout",
     "output_type": "stream",
     "text": [
      "2    3\n",
      "3    4\n",
      "4    5\n",
      "dtype: int64\n"
     ]
    }
   ],
   "source": [
    "serie_filtrada = serie[serie > 2]\n",
    "print(serie_filtrada)"
   ]
  },
  {
   "cell_type": "markdown",
   "metadata": {},
   "source": [
    "### 12. Cambiar el orden del índice de un objeto Series.\n"
   ]
  },
  {
   "cell_type": "code",
   "execution_count": 16,
   "metadata": {},
   "outputs": [
    {
     "name": "stdout",
     "output_type": "stream",
     "text": [
      "4    5\n",
      "3    4\n",
      "2    3\n",
      "1    2\n",
      "0    1\n",
      "dtype: int64\n"
     ]
    }
   ],
   "source": [
    "serie_reindexada = serie.reindex([4, 3, 2, 1, 0])\n",
    "print(serie_reindexada)"
   ]
  },
  {
   "cell_type": "markdown",
   "metadata": {},
   "source": [
    "### 13. Obtener la desviación estándar y el promedio de un conjunto de datos de una serie.\n"
   ]
  },
  {
   "cell_type": "code",
   "execution_count": 17,
   "metadata": {},
   "outputs": [
    {
     "name": "stdout",
     "output_type": "stream",
     "text": [
      "Promedio: 3.0, Desviación estándar: 1.5811388300841898\n"
     ]
    }
   ],
   "source": [
    "promedio = serie.mean()\n",
    "desviacion_estandar = serie.std()\n",
    "print(f\"Promedio: {promedio}, Desviación estándar: {desviacion_estandar}\")"
   ]
  },
  {
   "cell_type": "markdown",
   "metadata": {},
   "source": [
    "### 14. Calcular los valores mínimo y máximo de un objeto Series.\n"
   ]
  },
  {
   "cell_type": "code",
   "execution_count": 18,
   "metadata": {},
   "outputs": [
    {
     "name": "stdout",
     "output_type": "stream",
     "text": [
      "Mínimo: 1, Máximo: 5\n"
     ]
    }
   ],
   "source": [
    "minimo = serie.min()\n",
    "maximo = serie.max()\n",
    "print(f\"Mínimo: {minimo}, Máximo: {maximo}\")"
   ]
  },
  {
   "cell_type": "markdown",
   "metadata": {},
   "source": [
    "### 15. Obtener estadísticas básicas de un objeto Series con el método describe.\n"
   ]
  },
  {
   "cell_type": "code",
   "execution_count": 19,
   "metadata": {},
   "outputs": [
    {
     "name": "stdout",
     "output_type": "stream",
     "text": [
      "count    5.000000\n",
      "mean     3.000000\n",
      "std      1.581139\n",
      "min      1.000000\n",
      "25%      2.000000\n",
      "50%      3.000000\n",
      "75%      4.000000\n",
      "max      5.000000\n",
      "dtype: float64\n"
     ]
    }
   ],
   "source": [
    "estadisticas = serie.describe()\n",
    "print(estadisticas)"
   ]
  },
  {
   "cell_type": "markdown",
   "metadata": {},
   "source": [
    "### 16. Obtener los elementos pares e impares de un objeto Series numérico.\n"
   ]
  },
  {
   "cell_type": "code",
   "execution_count": 45,
   "metadata": {},
   "outputs": [
    {
     "name": "stdout",
     "output_type": "stream",
     "text": [
      "Elementos pares:\n",
      "1     2\n",
      "3     4\n",
      "5     6\n",
      "7     8\n",
      "9    10\n",
      "dtype: int64\n",
      "\n",
      "Elementos impares:\n",
      "0    1\n",
      "2    3\n",
      "4    5\n",
      "6    7\n",
      "8    9\n",
      "dtype: int64\n"
     ]
    }
   ],
   "source": [
    "serie_num = pd.Series([1, 2, 3, 4, 5, 6, 7, 8, 9, 10])\n",
    "\n",
    "elementos_pares = serie_num[serie_num % 2 == 0]\n",
    "\n",
    "# Filtrar los elementos impares\n",
    "elementos_impares = serie_num[serie_num % 2 != 0]\n",
    "\n",
    "print(\"Elementos pares:\")\n",
    "print(elementos_pares)\n",
    "\n",
    "print(\"\\nElementos impares:\")\n",
    "print(elementos_impares)"
   ]
  },
  {
   "cell_type": "markdown",
   "metadata": {},
   "source": [
    "### 17. Extraer los datos de un objeto Series como un objeto NumPy.\n"
   ]
  },
  {
   "cell_type": "code",
   "execution_count": 22,
   "metadata": {},
   "outputs": [
    {
     "name": "stdout",
     "output_type": "stream",
     "text": [
      "[1 2 3 4 5]\n"
     ]
    }
   ],
   "source": [
    "array_numpy = serie.to_numpy()\n",
    "print(array_numpy)"
   ]
  },
  {
   "cell_type": "markdown",
   "metadata": {},
   "source": [
    "### 18. Comprobar si una serie contiene valores NaN.\n"
   ]
  },
  {
   "cell_type": "code",
   "execution_count": 23,
   "metadata": {},
   "outputs": [
    {
     "name": "stdout",
     "output_type": "stream",
     "text": [
      "Contiene NaN: True\n"
     ]
    }
   ],
   "source": [
    "serie_con_nan = pd.Series([1, 2, np.nan, 4, 5])\n",
    "contiene_nan = serie_con_nan.isna().any()\n",
    "print(f\"Contiene NaN: {contiene_nan}\")"
   ]
  },
  {
   "cell_type": "markdown",
   "metadata": {},
   "source": [
    "### 19. Obtener el tamaño en bytes del espacio ocupado por los elementos de un objeto Series.\n"
   ]
  },
  {
   "cell_type": "code",
   "execution_count": 24,
   "metadata": {},
   "outputs": [
    {
     "name": "stdout",
     "output_type": "stream",
     "text": [
      "Tamaño en bytes: 40\n"
     ]
    }
   ],
   "source": [
    "tamaño_bytes = serie.nbytes\n",
    "print(f\"Tamaño en bytes: {tamaño_bytes}\")"
   ]
  },
  {
   "cell_type": "markdown",
   "metadata": {},
   "source": [
    "### 20. Eliminar los valores NaN de una serie con el método dropna.\n"
   ]
  },
  {
   "cell_type": "code",
   "execution_count": 25,
   "metadata": {},
   "outputs": [
    {
     "name": "stdout",
     "output_type": "stream",
     "text": [
      "0    1.0\n",
      "1    2.0\n",
      "3    4.0\n",
      "4    5.0\n",
      "dtype: float64\n"
     ]
    }
   ],
   "source": [
    "serie_sin_nan = serie_con_nan.dropna()\n",
    "print(serie_sin_nan)"
   ]
  },
  {
   "cell_type": "markdown",
   "metadata": {},
   "source": [
    "### 21. Calcular el valor absoluto de los elementos de un objeto Series.\n"
   ]
  },
  {
   "cell_type": "code",
   "execution_count": 26,
   "metadata": {},
   "outputs": [
    {
     "name": "stdout",
     "output_type": "stream",
     "text": [
      "0    1\n",
      "1    2\n",
      "2    3\n",
      "3    4\n",
      "4    5\n",
      "dtype: int64\n"
     ]
    }
   ],
   "source": [
    "serie_negativa = pd.Series([-1, -2, -3, -4, -5])\n",
    "serie_absoluta = serie_negativa.abs()\n",
    "print(serie_absoluta)"
   ]
  },
  {
   "cell_type": "markdown",
   "metadata": {},
   "source": [
    "### 22. Usar la función de agregación agg de un objeto Series.\n"
   ]
  },
  {
   "cell_type": "code",
   "execution_count": 27,
   "metadata": {},
   "outputs": [
    {
     "name": "stdout",
     "output_type": "stream",
     "text": [
      "sum     15.000000\n",
      "mean     3.000000\n",
      "std      1.581139\n",
      "dtype: float64\n"
     ]
    }
   ],
   "source": [
    "agregados = serie.agg(['sum', 'mean', 'std'])\n",
    "print(agregados)"
   ]
  },
  {
   "cell_type": "markdown",
   "metadata": {},
   "source": [
    "### 23. Reemplazar los valores NaN (null) de una serie con un valor arbitrario.\n"
   ]
  },
  {
   "cell_type": "code",
   "execution_count": 28,
   "metadata": {},
   "outputs": [
    {
     "name": "stdout",
     "output_type": "stream",
     "text": [
      "0    1.0\n",
      "1    2.0\n",
      "2    0.0\n",
      "3    4.0\n",
      "4    5.0\n",
      "dtype: float64\n"
     ]
    }
   ],
   "source": [
    "serie_reemplazada = serie_con_nan.fillna(0)\n",
    "print(serie_reemplazada)"
   ]
  },
  {
   "cell_type": "markdown",
   "metadata": {},
   "source": [
    "### 24. Obtener los primeros y últimos n elementos de un objeto Series.\n"
   ]
  },
  {
   "cell_type": "code",
   "execution_count": 48,
   "metadata": {},
   "outputs": [
    {
     "name": "stdout",
     "output_type": "stream",
     "text": [
      "Primeros n elementos:\n",
      "0     Colombia\n",
      "1         Perú\n",
      "2    Argentina\n",
      "dtype: object\n",
      "\n",
      "Últimos n elementos:\n",
      "5       Chile\n",
      "6      Brasil\n",
      "7    Paraguay\n",
      "dtype: object\n"
     ]
    }
   ],
   "source": [
    "n = 3\n",
    "\n",
    "primeros_n_elementos = serie_actualizada.head(n)\n",
    "\n",
    "ultimos_n_elementos = serie_actualizada.tail(n)\n",
    "\n",
    "print(\"Primeros n elementos:\")\n",
    "print(primeros_n_elementos)\n",
    "\n",
    "print(\"\\nÚltimos n elementos:\")\n",
    "print(ultimos_n_elementos)"
   ]
  },
  {
   "cell_type": "markdown",
   "metadata": {},
   "source": [
    "### 25. Reemplazar por un valor arbitrario los valores de una serie que no satisfagan una condición.\n"
   ]
  },
  {
   "cell_type": "code",
   "execution_count": 30,
   "metadata": {},
   "outputs": [
    {
     "name": "stdout",
     "output_type": "stream",
     "text": [
      "0    0\n",
      "1    0\n",
      "2    3\n",
      "3    4\n",
      "4    5\n",
      "dtype: int64\n"
     ]
    }
   ],
   "source": [
    "serie_reemplazada_condicion = serie.where(serie > 2, other=0)\n",
    "print(serie_reemplazada_condicion)"
   ]
  },
  {
   "cell_type": "markdown",
   "metadata": {},
   "source": [
    "### 26. Remover los valores que no cumplan una condición en un objeto Series.\n"
   ]
  },
  {
   "cell_type": "code",
   "execution_count": 31,
   "metadata": {},
   "outputs": [
    {
     "name": "stdout",
     "output_type": "stream",
     "text": [
      "2    3\n",
      "3    4\n",
      "4    5\n",
      "dtype: int64\n"
     ]
    }
   ],
   "source": [
    "serie_filtrada_condicion = serie[serie > 2]\n",
    "print(serie_filtrada_condicion)"
   ]
  },
  {
   "cell_type": "markdown",
   "metadata": {},
   "source": [
    "### 27. Contar los valores repetidos en una serie.\n"
   ]
  },
  {
   "cell_type": "code",
   "execution_count": 33,
   "metadata": {},
   "outputs": [
    {
     "name": "stdout",
     "output_type": "stream",
     "text": [
      "4    3\n",
      "2    2\n",
      "3    2\n",
      "1    1\n",
      "Name: count, dtype: int64\n"
     ]
    }
   ],
   "source": [
    "serie_repetida = pd.Series([1, 2, 2, 3, 3, 4, 4, 4])\n",
    "conteo_repetidos = serie_repetida.value_counts()\n",
    "print(conteo_repetidos)"
   ]
  },
  {
   "cell_type": "markdown",
   "metadata": {},
   "source": [
    "### 28. Convertir el contenido de un objeto Series en formato CSV (Comma Separated Values).\n"
   ]
  },
  {
   "cell_type": "code",
   "execution_count": 34,
   "metadata": {},
   "outputs": [
    {
     "name": "stdout",
     "output_type": "stream",
     "text": [
      "0\n",
      "1\n",
      "2\n",
      "3\n",
      "4\n",
      "5\n",
      "\n"
     ]
    }
   ],
   "source": [
    "csv = serie.to_csv(index=False)\n",
    "print(csv)"
   ]
  },
  {
   "cell_type": "markdown",
   "metadata": {},
   "source": [
    "### 29. Aplicar una función sobre los elementos de un objeto Series.\n"
   ]
  },
  {
   "cell_type": "code",
   "execution_count": 35,
   "metadata": {},
   "outputs": [
    {
     "name": "stdout",
     "output_type": "stream",
     "text": [
      "0     2\n",
      "1     4\n",
      "2     6\n",
      "3     8\n",
      "4    10\n",
      "dtype: int64\n"
     ]
    }
   ],
   "source": [
    "serie_aplicada = serie.apply(lambda x: x * 2)\n",
    "print(serie_aplicada)"
   ]
  },
  {
   "cell_type": "markdown",
   "metadata": {},
   "source": [
    "### 30. Encontrar los elementos que están dentro de un rango.\n"
   ]
  },
  {
   "cell_type": "code",
   "execution_count": 36,
   "metadata": {},
   "outputs": [
    {
     "name": "stdout",
     "output_type": "stream",
     "text": [
      "1    2\n",
      "2    3\n",
      "3    4\n",
      "dtype: int64\n"
     ]
    }
   ],
   "source": [
    "serie_rango = serie[(serie >= 2) & (serie <= 4)]\n",
    "print(serie_rango)"
   ]
  },
  {
   "cell_type": "markdown",
   "metadata": {},
   "source": [
    "31. Remover los valores duplicados de un objeto Series con drop_duplicates."
   ]
  },
  {
   "cell_type": "code",
   "execution_count": 37,
   "metadata": {},
   "outputs": [
    {
     "name": "stdout",
     "output_type": "stream",
     "text": [
      "0    1\n",
      "1    2\n",
      "3    3\n",
      "5    4\n",
      "dtype: int64\n"
     ]
    }
   ],
   "source": [
    "serie_sin_duplicados = serie_repetida.drop_duplicates()\n",
    "print(serie_sin_duplicados)"
   ]
  },
  {
   "cell_type": "markdown",
   "metadata": {},
   "source": [
    "### 32. Verificar con equals si dos series contienen los mismos elementos.\n"
   ]
  },
  {
   "cell_type": "code",
   "execution_count": 38,
   "metadata": {},
   "outputs": [
    {
     "name": "stdout",
     "output_type": "stream",
     "text": [
      "Son iguales: True\n"
     ]
    }
   ],
   "source": [
    "serie_igual = pd.Series([1, 2, 3, 4, 5])\n",
    "son_iguales = serie.equals(serie_igual)\n",
    "print(f\"Son iguales: {son_iguales}\")"
   ]
  },
  {
   "cell_type": "markdown",
   "metadata": {},
   "source": [
    "### 33. Elimina los outliers dentro de la lista del ejercicio de ejemplo de Pandas.\n"
   ]
  },
  {
   "cell_type": "code",
   "execution_count": null,
   "metadata": {},
   "outputs": [
    {
     "name": "stdout",
     "output_type": "stream",
     "text": [
      "0    10\n",
      "1    12\n",
      "2    14\n",
      "3    16\n",
      "4    18\n",
      "6    20\n",
      "7    22\n",
      "8    24\n",
      "9    26\n",
      "dtype: int64\n"
     ]
    }
   ],
   "source": [
    "# tenemos una serie con outliers\n",
    "serie_outliers = pd.Series([10, 12, 14, 16, 18, 1000, 20, 22, 24, 26])\n",
    "\n",
    "# Calcular el rango intercuartil (IQR)\n",
    "Q1 = serie_outliers.quantile(0.25)\n",
    "Q3 = serie_outliers.quantile(0.75)\n",
    "IQR = Q3 - Q1\n",
    "\n",
    "# Definir los límites para los outliers\n",
    "limite_inferior = Q1 - 1.5 * IQR\n",
    "limite_superior = Q3 + 1.5 * IQR\n",
    "\n",
    "# Filtrar los outliers\n",
    "serie_sin_outliers = serie_outliers[(serie_outliers >= limite_inferior) & (serie_outliers <= limite_superior)]\n",
    "print(serie_sin_outliers)"
   ]
  }
 ],
 "metadata": {
  "kernelspec": {
   "display_name": "base",
   "language": "python",
   "name": "python3"
  },
  "language_info": {
   "codemirror_mode": {
    "name": "ipython",
    "version": 3
   },
   "file_extension": ".py",
   "mimetype": "text/x-python",
   "name": "python",
   "nbconvert_exporter": "python",
   "pygments_lexer": "ipython3",
   "version": "3.12.4"
  }
 },
 "nbformat": 4,
 "nbformat_minor": 2
}
