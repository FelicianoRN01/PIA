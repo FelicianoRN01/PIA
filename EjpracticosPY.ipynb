{
 "cells": [
  {
   "cell_type": "markdown",
   "id": "873ad726-f925-4afb-9fe6-fed55e70cdf2",
   "metadata": {},
   "source": [
    "### 1. Escribe un programa que pida un número al usuario e imprima si es par o impar.\n"
   ]
  },
  {
   "cell_type": "code",
   "execution_count": 8,
   "id": "a9e5e668-7ae3-4c52-92dc-cf6c97d7c821",
   "metadata": {},
   "outputs": [
    {
     "name": "stdout",
     "output_type": "stream",
     "text": [
      "7 es un numero impar\n"
     ]
    }
   ],
   "source": [
    "n=(int)(input(\"Dime un numero:\",))\n",
    "\n",
    "if n%2==0:\n",
    "    print(n,\"es un numero par\")\n",
    "elif n%1==0:\n",
    "    print(n,\"es un numero impar\")\n"
   ]
  },
  {
   "cell_type": "markdown",
   "id": "4afbe8a5-e9f9-4834-b145-e1e1a0b5afb3",
   "metadata": {},
   "source": [
    "### 2. Escribe un programa que reciba tres números como entrada y determine cuál de ellos es el mayor."
   ]
  },
  {
   "cell_type": "code",
   "execution_count": 9,
   "id": "1f19f26f-fcb0-497b-a997-45a2335dc8b5",
   "metadata": {},
   "outputs": [
    {
     "name": "stdout",
     "output_type": "stream",
     "text": [
      "El tercer número es el mayor\n"
     ]
    }
   ],
   "source": [
    "n1 = int(input(\"Dime el primer número: \"))\n",
    "n2 = int(input(\"Dime el segundo número: \"))\n",
    "n3 = int(input(\"Dime el tercer número: \"))\n",
    "    \n",
    "if n1 > n2 and n1 > n3:\n",
    "    print(\"El primer número es el mayor\")\n",
    "elif n2 > n1 and n2 > n3:\n",
    "    print(\"El segundo número es el mayor\")\n",
    "else:\n",
    "    print(\"El tercer número es el mayor\")"
   ]
  },
  {
   "cell_type": "markdown",
   "id": "fd80cb65",
   "metadata": {},
   "source": [
    "### 3. Escribe un programa que calcule la suma de los números del 1 al 100 utilizando un bucle for."
   ]
  },
  {
   "cell_type": "code",
   "execution_count": 20,
   "id": "8f7b077d",
   "metadata": {},
   "outputs": [
    {
     "name": "stdout",
     "output_type": "stream",
     "text": [
      "La suma de los numeros es: 5050\n"
     ]
    }
   ],
   "source": [
    "suma = 0\n",
    "for num in range(101):\n",
    "    suma += num\n",
    "print(\"La suma de los numeros es:\",suma)"
   ]
  },
  {
   "cell_type": "markdown",
   "id": "a1417e2e",
   "metadata": {},
   "source": [
    "### 4. Escribe un programa que cuente cuántas vocales hay en una cadena dada por el usuario.\n"
   ]
  },
  {
   "cell_type": "code",
   "execution_count": 27,
   "id": "12578065",
   "metadata": {},
   "outputs": [
    {
     "name": "stdout",
     "output_type": "stream",
     "text": [
      "En la palabra A hay un total de 1 vocales\n"
     ]
    }
   ],
   "source": [
    "cadena = input(\"Introduce un texto: \")\n",
    "vocales = \"aeiouAEIOU\"\n",
    "cont_vocales = 0\n",
    "\n",
    "for caracter in cadena:\n",
    "    if caracter in vocales:\n",
    "        cont_vocales +=1\n",
    "print(\"En la palabra\",cadena,\"hay un total de\", cont_vocales, \"vocales\")"
   ]
  },
  {
   "cell_type": "markdown",
   "id": "264b929a",
   "metadata": {},
   "source": [
    "### 5. Escribe un programa que imprima la tabla de multiplicar de un número dado por el usuario"
   ]
  },
  {
   "cell_type": "code",
   "execution_count": 41,
   "id": "35a3573e",
   "metadata": {},
   "outputs": [
    {
     "name": "stdout",
     "output_type": "stream",
     "text": [
      "2 x 0 = 0\n",
      "2 x 1 = 2\n",
      "2 x 2 = 4\n",
      "2 x 3 = 6\n",
      "2 x 4 = 8\n",
      "2 x 5 = 10\n",
      "2 x 6 = 12\n",
      "2 x 7 = 14\n",
      "2 x 8 = 16\n",
      "2 x 9 = 18\n",
      "2 x 10 = 20\n"
     ]
    }
   ],
   "source": [
    "num = int(input(\"Introduce un numero que quieras multiplicar: \"))\n",
    "\n",
    "for i in range(0,11):\n",
    "    print(num,\"x\",i, \"=\", num*i)\n",
    "\n"
   ]
  },
  {
   "cell_type": "markdown",
   "id": "c6779d0b",
   "metadata": {},
   "source": [
    "### 6. Escribe un programa que reciba un número y cuente cuántos divisores tiene, es decir, cuántos números del 1 al número ingresado son divisores exactos.\n"
   ]
  },
  {
   "cell_type": "code",
   "execution_count": 50,
   "id": "aa53864c",
   "metadata": {},
   "outputs": [
    {
     "name": "stdout",
     "output_type": "stream",
     "text": [
      "El número 6 tiene 4 divisores.\n"
     ]
    }
   ],
   "source": [
    "num = int(input(\"Introduce un número: \"))\n",
    "\n",
    "contador_divisores = 0\n",
    "\n",
    "for i in range(1, num+1):\n",
    "    if num % i == 0:\n",
    "        contador_divisores += 1\n",
    "\n",
    "print(f\"El número {num} tiene {contador_divisores} divisores.\")"
   ]
  },
  {
   "cell_type": "markdown",
   "id": "76593b6b",
   "metadata": {},
   "source": [
    "### 7. Escribe un programa que imprima todos los números primos entre 1 y 100"
   ]
  },
  {
   "cell_type": "code",
   "execution_count": null,
   "id": "e32f3dd4-f32f-4237-977c-9e4a65f2781d",
   "metadata": {
    "scrolled": true
   },
   "outputs": [],
   "source": [
    "for num in range(2, 101):\n",
    "    es_primo = True\n",
    "    for i in range(2, int(num ** 0.5) + 1):\n",
    "        if num % i == 0:\n",
    "            es_primo = False\n",
    "            break\n",
    "    if es_primo:\n",
    "        print(num)"
   ]
  },
  {
   "cell_type": "markdown",
   "id": "42cefb0a-9c2b-4c47-ba80-1650d1575f2d",
   "metadata": {},
   "source": [
    "### 8. Escribe un programa que sume todos los números impares entre un rango de dos números dados por el usuario.\n"
   ]
  },
  {
   "cell_type": "code",
   "execution_count": 22,
   "id": "92138e8f-5d03-4cae-9e1f-440702049b1b",
   "metadata": {},
   "outputs": [
    {
     "name": "stdin",
     "output_type": "stream",
     "text": [
      "Dime el primer número:  0\n",
      "Dime el segundo número:  6\n"
     ]
    },
    {
     "name": "stdout",
     "output_type": "stream",
     "text": [
      "6\n"
     ]
    }
   ],
   "source": [
    "n1 = int(input(\"Dime el primer número: \"))\n",
    "n2 = int(input(\"Dime el segundo número: \"))\n",
    "suma_impares = 0\n",
    "\n",
    "for rango in range(n1,n2 + 1):\n",
    "    if rango % 2 != 0:\n",
    "        suma_impares += rango\n",
    "        \n",
    "print (suma_impares)\n",
    "    "
   ]
  },
  {
   "cell_type": "markdown",
   "id": "caa9ae71-591a-4907-bdaf-e0f5ca87e676",
   "metadata": {},
   "source": [
    "### 9. Dada una lista de números enteros, escribe un programa que calcule la suma de todos los elementos de la lista"
   ]
  },
  {
   "cell_type": "code",
   "execution_count": 36,
   "id": "f5f6153e-13cf-4dbf-80e6-87bc4cd72be9",
   "metadata": {},
   "outputs": [
    {
     "name": "stdout",
     "output_type": "stream",
     "text": [
      "55\n"
     ]
    }
   ],
   "source": [
    "l = list(range(1,11))\n",
    "suma = 0\n",
    "\n",
    "for num in l:\n",
    "    suma += num\n",
    "print(suma)"
   ]
  },
  {
   "cell_type": "markdown",
   "id": "9d9a68d0-435a-431e-bb13-403c71fbc166",
   "metadata": {},
   "source": [
    "### 10.Dada una lista y un número n, rota la lista a la izquierda n posiciones"
   ]
  },
  {
   "cell_type": "code",
   "execution_count": 40,
   "id": "416c0b2c-4879-48c2-a0bc-2728be450bb6",
   "metadata": {},
   "outputs": [
    {
     "name": "stdout",
     "output_type": "stream",
     "text": [
      "[3, 4, 5, 1, 2]\n"
     ]
    }
   ],
   "source": [
    "def rotar_izquierda(lista, n):\n",
    "    if not lista or n <= 0:\n",
    "        return lista\n",
    "\n",
    "    n = n % len(lista)\n",
    "\n",
    "    parte1 = lista[:n]\n",
    "    parte2 = lista[n:]\n",
    "\n",
    "    return parte2 + parte1\n",
    "\n",
    "lista = [1, 2, 3, 4, 5]\n",
    "n = 2\n",
    "lista_rotada = rotar_izquierda(lista, n)\n",
    "print(lista_rotada)"
   ]
  },
  {
   "cell_type": "markdown",
   "id": "48fa13af-fc97-48a1-89f8-147ee0b60198",
   "metadata": {},
   "source": [
    "### Crea una clase CuentaBancaria con los atributos titular y saldo. Crea métodos para depositar (depositar) y retirar (retirar) dinero. Si el saldo no es suficiente al intentar retirar, imprime un mensaje de error"
   ]
  },
  {
   "cell_type": "code",
   "execution_count": 15,
   "id": "cb2f06c2-8543-4983-9b90-847d228e2d04",
   "metadata": {},
   "outputs": [],
   "source": [
    "class CuentaBancaria:\n",
    "    def __init__ (self, titular, saldo=0):\n",
    "        self.titular = titular\n",
    "        self.saldo = saldo\n",
    "    \n",
    "    def depositar(self, cantidad):\n",
    "        if cantidad > 0:\n",
    "            self.saldo += cantidad\n",
    "            print(\"Se ha depositado dinero\")\n",
    "        else:\n",
    "            print(\"No has depositado nada\")\n",
    "\n",
    "    def retirar(self, cantidad):\n",
    "        if self.saldo >= cantidad:\n",
    "            self.saldo -= cantidad\n",
    "            print(\"Se ha retirado dinero\")\n",
    "        else:\n",
    "            print(\"saldo insuficiente\")\n",
    "\n",
    "    def mostrar_saldo(self):\n",
    "        print(f\"Saldo actual: {self.saldo} euros.\")"
   ]
  },
  {
   "cell_type": "code",
   "execution_count": null,
   "id": "3e99c2cb-9aba-4675-99c9-fe42202b9abb",
   "metadata": {},
   "outputs": [],
   "source": [
    "cuenta = CuentaBancaria(\"Juan\", 100)\n",
    "\n",
    "# Probar depositar\n",
    "cuenta.depositar(50)   # Saldo esperado: 150\n",
    "cuenta.depositar(-10)  # Mensaje de error\n",
    "\n",
    "# Probar retirar\n",
    "cuenta.retirar(30)     # Saldo esperado: 120\n",
    "cuenta.retirar(200)    # Mensaje de saldo insuficiente\n",
    "\n",
    "# Probar mostrar el saldo\n",
    "cuenta.mostrar_saldo() # Saldo esperado: 120\n"
   ]
  },
  {
   "cell_type": "markdown",
   "id": "0554a822-86d5-433c-a2ac-43ec1392e6ff",
   "metadata": {},
   "source": [
    "### 2. Crea una clase Empleado con atributos nombre y salario. Luego, crea una subclase Gerente que herede de Empleado, pero además tenga un atributo departamento. Añade un método en Gerente que muestre toda la información (nombre, salario, departamento)."
   ]
  },
  {
   "cell_type": "code",
   "execution_count": 30,
   "id": "8228ff50-56a1-475f-bf93-5ae87a2dda3b",
   "metadata": {},
   "outputs": [],
   "source": [
    "class Empleado:\n",
    "\n",
    "    def __init__(self, nombre, salario):\n",
    "        self.nombre = nombre\n",
    "        self.salario = salario\n",
    "\n",
    "class Gerente(Empleado):\n",
    "    def __init__ (self,nombre, salario, departamento):\n",
    "        super().__init__(nombre, salario)\n",
    "        self.departamento = departamento\n",
    "    def mostrar_inf(self):\n",
    "        print(self.nombre, self.salario, self.departamento)\n",
    "    "
   ]
  },
  {
   "cell_type": "code",
   "execution_count": 44,
   "id": "55acc3fa-da6b-4921-a9b9-bc628bec0fae",
   "metadata": {},
   "outputs": [
    {
     "name": "stdout",
     "output_type": "stream",
     "text": [
      "Nombre: Pepe, Salario: 100 euros, Departamento: Informatica\n"
     ]
    }
   ],
   "source": [
    "gerente1 = Gerente(\"Pepe\", 100, \"Informatica\")\n",
    "\n",
    "gerente1.mostrar_inf()"
   ]
  },
  {
   "cell_type": "markdown",
   "id": "0b210dae-8b71-46a5-bd72-12611cc80765",
   "metadata": {},
   "source": [
    "### 3. Crea una clase base Vehiculo con atributos marca y modelo. Crea dos clases derivadas: Coche y Moto, cada una con un atributo adicional específico. Implementa un método describir que muestre todos los atributos del vehículo.\n"
   ]
  },
  {
   "cell_type": "code",
   "execution_count": null,
   "id": "7200ae01-6299-4848-af6a-d206bd1b7f52",
   "metadata": {},
   "outputs": [],
   "source": [
    "class Vehiculo:\n",
    "    def __init__(self, marca, modelo):\n",
    "        self.marca = marca\n",
    "        self.modelo = modelo\n",
    "class Coche(Vehiculo):\n",
    "    def __init__(self,marca,modelo,caballos):\n",
    "        super().__init__(marca, modelo)\n",
    "        self.caballos = caballos\n",
    "class Moto(Vehiculo):\n",
    "    def __init__(self,marca,modelo,kilometros):\n",
    "        super().__init__(marca, modelo)\n",
    "        self.kilometros = kilometros\n",
    "    "
   ]
  }
 ],
 "metadata": {
  "kernelspec": {
   "display_name": "Python 3 (ipykernel)",
   "language": "python",
   "name": "python3"
  },
  "language_info": {
   "codemirror_mode": {
    "name": "ipython",
    "version": 3
   },
   "file_extension": ".py",
   "mimetype": "text/x-python",
   "name": "python",
   "nbconvert_exporter": "python",
   "pygments_lexer": "ipython3",
   "version": "3.12.4"
  }
 },
 "nbformat": 4,
 "nbformat_minor": 5
}
