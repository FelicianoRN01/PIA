{
 "cells": [
  {
   "cell_type": "markdown",
   "metadata": {},
   "source": [
    "# Creación e inspección de Dataframes."
   ]
  },
  {
   "cell_type": "markdown",
   "metadata": {},
   "source": [
    "1. Crear un objeto de la clase DataFrame.\n"
   ]
  },
  {
   "cell_type": "code",
   "execution_count": 50,
   "metadata": {},
   "outputs": [
    {
     "name": "stdout",
     "output_type": "stream",
     "text": [
      "  Nombre  Edad    Ciudad\n",
      "0    Ana    23  Valencia\n",
      "1   Luis    34   Sevilla\n"
     ]
    }
   ],
   "source": [
    "import pandas as pd\n",
    "\n",
    "data = {\n",
    "    'Nombre': ['Ana', 'Luis'],\n",
    "    'Edad': [23, 34],\n",
    "    'Ciudad': ['Valencia', 'Sevilla']\n",
    "}\n",
    "\n",
    "df = pd.DataFrame(data)\n",
    "print(df)"
   ]
  },
  {
   "cell_type": "markdown",
   "metadata": {},
   "source": [
    "2. Leer un archivo CSV con la función read_csv para crear un DataFrame.\n"
   ]
  },
  {
   "cell_type": "code",
   "execution_count": null,
   "metadata": {},
   "outputs": [],
   "source": [
    "df = pd.read_csv('datos.csv')\n",
    "print(df.head())"
   ]
  },
  {
   "cell_type": "markdown",
   "metadata": {},
   "source": [
    "3. Guardar los registros de un DataFrame en un archivo de formato CSV.\n"
   ]
  },
  {
   "cell_type": "code",
   "execution_count": 52,
   "metadata": {},
   "outputs": [],
   "source": [
    "df.to_csv('ej3.csv', index=False)"
   ]
  },
  {
   "cell_type": "markdown",
   "metadata": {},
   "source": [
    "4. Obtener las primeras n filas de un objeto DataFrame.\n"
   ]
  },
  {
   "cell_type": "code",
   "execution_count": 53,
   "metadata": {
    "vscode": {
     "languageId": "javascript"
    }
   },
   "outputs": [
    {
     "name": "stdout",
     "output_type": "stream",
     "text": [
      "   Nombre  Empleados\n",
      "0    Nike       2300\n",
      "1  Adidas        340\n",
      "2    Puma        150\n"
     ]
    }
   ],
   "source": [
    "dataej4 = {\n",
    "    'Nombre': ['Nike', 'Adidas', 'Puma','Jordan'],\n",
    "    'Empleados': [2300, 340, 150,6000]\n",
    "}\n",
    "\n",
    "df = pd.DataFrame(dataej4)\n",
    "n = 3  \n",
    "print(df.head(n))"
   ]
  },
  {
   "cell_type": "markdown",
   "metadata": {},
   "source": [
    "5. Obtener las últimas n filas de un objeto DataFrame.\n"
   ]
  },
  {
   "cell_type": "code",
   "execution_count": 54,
   "metadata": {},
   "outputs": [
    {
     "name": "stdout",
     "output_type": "stream",
     "text": [
      "   Nombre  Empleados\n",
      "1  Adidas        340\n",
      "2    Puma        150\n",
      "3  Jordan       6000\n"
     ]
    }
   ],
   "source": [
    "print(df.tail(n))"
   ]
  },
  {
   "cell_type": "markdown",
   "metadata": {},
   "source": [
    "6. Obtener los nombres de las filas y las columnas de un DataFrame.\n"
   ]
  },
  {
   "cell_type": "code",
   "execution_count": 55,
   "metadata": {},
   "outputs": [
    {
     "name": "stdout",
     "output_type": "stream",
     "text": [
      "Nombres de las filas: ['Empresa1', 'Empresa2', 'Empresa3', 'Empresa4']\n",
      "Nombres de las columnas: Index(['Nombre', 'Empleados'], dtype='object')\n"
     ]
    }
   ],
   "source": [
    "nombres_filas = df.index = (['Empresa1', 'Empresa2', 'Empresa3','Empresa4'])\n",
    "print(\"Nombres de las filas:\", nombres_filas)\n",
    "\n",
    "\n",
    "nombres_columnas = df.columns\n",
    "print(\"Nombres de las columnas:\", nombres_columnas)"
   ]
  },
  {
   "cell_type": "markdown",
   "metadata": {},
   "source": [
    "7. Obtener como una lista Python los nombres de las columnas de un DataFrame.\n"
   ]
  },
  {
   "cell_type": "code",
   "execution_count": 56,
   "metadata": {},
   "outputs": [
    {
     "name": "stdout",
     "output_type": "stream",
     "text": [
      "Lista de nombres de las columnas: ['Nombre', 'Empleados']\n"
     ]
    }
   ],
   "source": [
    "lista_nombres_columnas = list(nombres_columnas)\n",
    "print(\"Lista de nombres de las columnas:\", lista_nombres_columnas)"
   ]
  },
  {
   "cell_type": "markdown",
   "metadata": {},
   "source": [
    "8. Renombrar las columnas de un objeto DataFrame.\n",
    "9. Renombrar una columna de un DataFrame con la función rename.\n",
    "\n"
   ]
  },
  {
   "cell_type": "code",
   "execution_count": 57,
   "metadata": {},
   "outputs": [
    {
     "name": "stdout",
     "output_type": "stream",
     "text": [
      "           Marca  Cantidad_Empleados\n",
      "Empresa1    Nike                2300\n",
      "Empresa2  Adidas                 340\n",
      "Empresa3    Puma                 150\n",
      "Empresa4  Jordan                6000\n"
     ]
    }
   ],
   "source": [
    "df_renamed = df.rename(columns={'Nombre': 'Marca', 'Empleados': 'Cantidad_Empleados'})\n",
    "print(df_renamed)"
   ]
  },
  {
   "cell_type": "code",
   "execution_count": 58,
   "metadata": {},
   "outputs": [
    {
     "name": "stdout",
     "output_type": "stream",
     "text": [
      "           Marca  Cantidad_Empleados\n",
      "Empresa1    Nike                2300\n",
      "Empresa2  Adidas                 340\n",
      "Empresa3    Puma                 150\n",
      "Empresa4  Jordan                6000\n"
     ]
    }
   ],
   "source": [
    "df.columns = ['Marca', 'Cantidad_Empleados']\n",
    "print(df)"
   ]
  },
  {
   "cell_type": "markdown",
   "metadata": {},
   "source": [
    "10. Obtener los tipos de datos de las columnas de un DataFrame.\n"
   ]
  },
  {
   "cell_type": "code",
   "execution_count": 59,
   "metadata": {},
   "outputs": [
    {
     "name": "stdout",
     "output_type": "stream",
     "text": [
      "Tipos de datos de las columnas:\n",
      " Marca                 object\n",
      "Cantidad_Empleados     int64\n",
      "dtype: object\n"
     ]
    }
   ],
   "source": [
    "tipos_datos = df.dtypes\n",
    "print(\"Tipos de datos de las columnas:\\n\", tipos_datos)"
   ]
  },
  {
   "cell_type": "markdown",
   "metadata": {},
   "source": [
    "11. Mostrar un reporte con la información básica de un objeto DataFrame.\n"
   ]
  },
  {
   "cell_type": "code",
   "execution_count": 60,
   "metadata": {},
   "outputs": [
    {
     "name": "stdout",
     "output_type": "stream",
     "text": [
      "<class 'pandas.core.frame.DataFrame'>\n",
      "Index: 4 entries, Empresa1 to Empresa4\n",
      "Data columns (total 2 columns):\n",
      " #   Column              Non-Null Count  Dtype \n",
      "---  ------              --------------  ----- \n",
      " 0   Marca               4 non-null      object\n",
      " 1   Cantidad_Empleados  4 non-null      int64 \n",
      "dtypes: int64(1), object(1)\n",
      "memory usage: 96.0+ bytes\n"
     ]
    }
   ],
   "source": [
    "df.info()"
   ]
  },
  {
   "cell_type": "markdown",
   "metadata": {},
   "source": [
    "12. Obtener estadísticas básicas en un objeto DataFrame con la función describe.\n"
   ]
  },
  {
   "cell_type": "code",
   "execution_count": 61,
   "metadata": {},
   "outputs": [
    {
     "name": "stdout",
     "output_type": "stream",
     "text": [
      "Estadísticas básicas del DataFrame:\n",
      "        Cantidad_Empleados\n",
      "count            4.000000\n",
      "mean          2197.500000\n",
      "std           2714.901778\n",
      "min            150.000000\n",
      "25%            292.500000\n",
      "50%           1320.000000\n",
      "75%           3225.000000\n",
      "max           6000.000000\n"
     ]
    }
   ],
   "source": [
    "estadisticas_basicas = df.describe()\n",
    "print(\"Estadísticas básicas del DataFrame:\\n\", estadisticas_basicas)"
   ]
  },
  {
   "cell_type": "markdown",
   "metadata": {},
   "source": [
    "13. Obtener las columnas de un determinado tipo de dato con select_dtypes.\n"
   ]
  },
  {
   "cell_type": "code",
   "execution_count": 62,
   "metadata": {},
   "outputs": [
    {
     "name": "stdout",
     "output_type": "stream",
     "text": [
      "Columnas numéricas:\n",
      "           Cantidad_Empleados\n",
      "Empresa1                2300\n",
      "Empresa2                 340\n",
      "Empresa3                 150\n",
      "Empresa4                6000\n",
      "Columnas de tipo objeto:\n",
      "            Marca\n",
      "Empresa1    Nike\n",
      "Empresa2  Adidas\n",
      "Empresa3    Puma\n",
      "Empresa4  Jordan\n"
     ]
    }
   ],
   "source": [
    "columnas_numericas = df.select_dtypes(include=['number'])\n",
    "print(\"Columnas numéricas:\\n\", columnas_numericas)\n",
    "\n",
    "columna_objeto = df.select_dtypes(include=['object'])\n",
    "print(\"Columnas de tipo objeto:\\n\", columna_objeto)"
   ]
  },
  {
   "cell_type": "markdown",
   "metadata": {},
   "source": [
    "14. Cambiar el tipo de dato de una o más columnas con astype.\n"
   ]
  },
  {
   "cell_type": "code",
   "execution_count": 63,
   "metadata": {},
   "outputs": [
    {
     "name": "stdout",
     "output_type": "stream",
     "text": [
      "Marca                 object\n",
      "Cantidad_Empleados     int64\n",
      "dtype: object\n"
     ]
    },
    {
     "data": {
      "text/html": [
       "<div>\n",
       "<style scoped>\n",
       "    .dataframe tbody tr th:only-of-type {\n",
       "        vertical-align: middle;\n",
       "    }\n",
       "\n",
       "    .dataframe tbody tr th {\n",
       "        vertical-align: top;\n",
       "    }\n",
       "\n",
       "    .dataframe thead th {\n",
       "        text-align: right;\n",
       "    }\n",
       "</style>\n",
       "<table border=\"1\" class=\"dataframe\">\n",
       "  <thead>\n",
       "    <tr style=\"text-align: right;\">\n",
       "      <th></th>\n",
       "      <th>Marca</th>\n",
       "      <th>Cantidad_Empleados</th>\n",
       "    </tr>\n",
       "  </thead>\n",
       "  <tbody>\n",
       "    <tr>\n",
       "      <th>Empresa1</th>\n",
       "      <td>Nike</td>\n",
       "      <td>2300</td>\n",
       "    </tr>\n",
       "    <tr>\n",
       "      <th>Empresa2</th>\n",
       "      <td>Adidas</td>\n",
       "      <td>340</td>\n",
       "    </tr>\n",
       "    <tr>\n",
       "      <th>Empresa3</th>\n",
       "      <td>Puma</td>\n",
       "      <td>150</td>\n",
       "    </tr>\n",
       "    <tr>\n",
       "      <th>Empresa4</th>\n",
       "      <td>Jordan</td>\n",
       "      <td>6000</td>\n",
       "    </tr>\n",
       "  </tbody>\n",
       "</table>\n",
       "</div>"
      ],
      "text/plain": [
       "           Marca  Cantidad_Empleados\n",
       "Empresa1    Nike                2300\n",
       "Empresa2  Adidas                 340\n",
       "Empresa3    Puma                 150\n",
       "Empresa4  Jordan                6000"
      ]
     },
     "execution_count": 63,
     "metadata": {},
     "output_type": "execute_result"
    }
   ],
   "source": [
    "df_renamed['Cantidad_Empleados'].astype(float)\n",
    "print(df_renamed.dtypes)\n",
    "df_renamed"
   ]
  },
  {
   "cell_type": "markdown",
   "metadata": {},
   "source": [
    "15. Obtener la dimensión, el tamaño, y la forma de un objeto DataFrame.\n"
   ]
  },
  {
   "cell_type": "code",
   "execution_count": 64,
   "metadata": {},
   "outputs": [
    {
     "name": "stdout",
     "output_type": "stream",
     "text": [
      "Dimensión del DataFrame: 2\n",
      "Tamaño del DataFrame: 8\n",
      "Forma del DataFrame: (4, 2)\n"
     ]
    }
   ],
   "source": [
    "dimension = df_renamed.ndim\n",
    "tamaño = df_renamed.size\n",
    "forma = df_renamed.shape\n",
    "\n",
    "print(\"Dimensión del DataFrame:\", dimension)\n",
    "print(\"Tamaño del DataFrame:\", tamaño)\n",
    "print(\"Forma del DataFrame:\", forma)"
   ]
  },
  {
   "cell_type": "markdown",
   "metadata": {},
   "source": [
    "16. Obtener la cantidad de memoria ocupada por cada columna en un DataFrame.\n"
   ]
  },
  {
   "cell_type": "code",
   "execution_count": 65,
   "metadata": {},
   "outputs": [
    {
     "name": "stdout",
     "output_type": "stream",
     "text": [
      "Cantidad de memoria ocupada por cada columna:\n",
      " Index                 228\n",
      "Marca                 216\n",
      "Cantidad_Empleados     32\n",
      "dtype: int64\n"
     ]
    }
   ],
   "source": [
    "memoria_ocupada = df_renamed.memory_usage(deep=True)\n",
    "print(\"Cantidad de memoria ocupada por cada columna:\\n\", memoria_ocupada)"
   ]
  },
  {
   "cell_type": "markdown",
   "metadata": {},
   "source": [
    "17. Comprobar si un objeto DataFrame está vacío con empty.\n"
   ]
  },
  {
   "cell_type": "code",
   "execution_count": 66,
   "metadata": {},
   "outputs": [
    {
     "name": "stdout",
     "output_type": "stream",
     "text": [
      "¿Está vacío el dataframe df_renamed?: False\n"
     ]
    }
   ],
   "source": [
    "vacio = df_renamed.empty\n",
    "print(\"¿Está vacío el dataframe df_renamed?:\", vacio)"
   ]
  },
  {
   "cell_type": "markdown",
   "metadata": {},
   "source": [
    "18. Obtener los datos de una columna como una lista Python con tolist.\n"
   ]
  },
  {
   "cell_type": "code",
   "execution_count": 67,
   "metadata": {},
   "outputs": [
    {
     "data": {
      "text/plain": [
       "['Nike', 'Adidas', 'Puma', 'Jordan']"
      ]
     },
     "execution_count": 67,
     "metadata": {},
     "output_type": "execute_result"
    }
   ],
   "source": [
    "lista = df_renamed['Marca'].tolist()\n",
    "lista"
   ]
  },
  {
   "cell_type": "markdown",
   "metadata": {},
   "source": [
    "19. Encontrar la cantidad de elementos únicos por cada fila y columna con nunique.\n"
   ]
  },
  {
   "cell_type": "code",
   "execution_count": 68,
   "metadata": {},
   "outputs": [
    {
     "name": "stdout",
     "output_type": "stream",
     "text": [
      "Número de elementos únicos por columna:\n",
      " Marca                 4\n",
      "Cantidad_Empleados    4\n",
      "dtype: int64\n",
      "Número de elementos únicos por fila:\n",
      " Empresa1    2\n",
      "Empresa2    2\n",
      "Empresa3    2\n",
      "Empresa4    2\n",
      "dtype: int64\n"
     ]
    }
   ],
   "source": [
    "elem_unicos_columna = df_renamed.nunique()\n",
    "print(\"Número de elementos únicos por columna:\\n\", elem_unicos_columna)\n",
    "\n",
    "elem_unicos_fila = df_renamed.apply(pd.Series.nunique, axis=1)\n",
    "print(\"Número de elementos únicos por fila:\\n\", elem_unicos_fila)"
   ]
  },
  {
   "cell_type": "markdown",
   "metadata": {},
   "source": [
    "20. Obtener los elementos distintos de una columna de un DataFrame con unique.\n"
   ]
  },
  {
   "cell_type": "code",
   "execution_count": 69,
   "metadata": {},
   "outputs": [
    {
     "name": "stdout",
     "output_type": "stream",
     "text": [
      "Elementos únicos en la columna 'Marca': ['Nike' 'Adidas' 'Puma' 'Jordan']\n"
     ]
    }
   ],
   "source": [
    "elementos_unicos = df_renamed['Marca'].unique()\n",
    "print(\"Elementos únicos en la columna 'Marca':\", elementos_unicos)"
   ]
  },
  {
   "cell_type": "markdown",
   "metadata": {},
   "source": [
    "21. Obtener los tipos de datos de las columnas de un DataFrame con dtypes.\n"
   ]
  },
  {
   "cell_type": "code",
   "execution_count": 70,
   "metadata": {},
   "outputs": [
    {
     "name": "stdout",
     "output_type": "stream",
     "text": [
      "Tipos de datos de las columnas:\n",
      " Marca                 object\n",
      "Cantidad_Empleados     int64\n",
      "dtype: object\n"
     ]
    }
   ],
   "source": [
    "tipos_datos = df_renamed.dtypes\n",
    "print(\"Tipos de datos de las columnas:\\n\", tipos_datos)"
   ]
  },
  {
   "cell_type": "markdown",
   "metadata": {},
   "source": [
    "22. Cambiar el tipo de una columna de float a int con la función astype.\n"
   ]
  },
  {
   "cell_type": "code",
   "execution_count": 71,
   "metadata": {},
   "outputs": [
    {
     "name": "stdout",
     "output_type": "stream",
     "text": [
      "Marca                 object\n",
      "Cantidad_Empleados     int64\n",
      "dtype: object\n"
     ]
    },
    {
     "data": {
      "text/html": [
       "<div>\n",
       "<style scoped>\n",
       "    .dataframe tbody tr th:only-of-type {\n",
       "        vertical-align: middle;\n",
       "    }\n",
       "\n",
       "    .dataframe tbody tr th {\n",
       "        vertical-align: top;\n",
       "    }\n",
       "\n",
       "    .dataframe thead th {\n",
       "        text-align: right;\n",
       "    }\n",
       "</style>\n",
       "<table border=\"1\" class=\"dataframe\">\n",
       "  <thead>\n",
       "    <tr style=\"text-align: right;\">\n",
       "      <th></th>\n",
       "      <th>Marca</th>\n",
       "      <th>Cantidad_Empleados</th>\n",
       "    </tr>\n",
       "  </thead>\n",
       "  <tbody>\n",
       "    <tr>\n",
       "      <th>Empresa1</th>\n",
       "      <td>Nike</td>\n",
       "      <td>2300</td>\n",
       "    </tr>\n",
       "    <tr>\n",
       "      <th>Empresa2</th>\n",
       "      <td>Adidas</td>\n",
       "      <td>340</td>\n",
       "    </tr>\n",
       "    <tr>\n",
       "      <th>Empresa3</th>\n",
       "      <td>Puma</td>\n",
       "      <td>150</td>\n",
       "    </tr>\n",
       "    <tr>\n",
       "      <th>Empresa4</th>\n",
       "      <td>Jordan</td>\n",
       "      <td>6000</td>\n",
       "    </tr>\n",
       "  </tbody>\n",
       "</table>\n",
       "</div>"
      ],
      "text/plain": [
       "           Marca  Cantidad_Empleados\n",
       "Empresa1    Nike                2300\n",
       "Empresa2  Adidas                 340\n",
       "Empresa3    Puma                 150\n",
       "Empresa4  Jordan                6000"
      ]
     },
     "execution_count": 71,
     "metadata": {},
     "output_type": "execute_result"
    }
   ],
   "source": [
    "df_renamed['Cantidad_Empleados'] = df_renamed['Cantidad_Empleados'].astype(int)\n",
    "print(df_renamed.dtypes)\n",
    "df_renamed"
   ]
  },
  {
   "cell_type": "markdown",
   "metadata": {},
   "source": [
    "23. Calcular el número de tipos de datos por cada categoría con get_dtype_counts.\n"
   ]
  },
  {
   "cell_type": "code",
   "execution_count": 72,
   "metadata": {},
   "outputs": [
    {
     "name": "stdout",
     "output_type": "stream",
     "text": [
      "Número de tipos de datos por categoría:\n",
      " object    1\n",
      "int64     1\n",
      "Name: count, dtype: int64\n"
     ]
    }
   ],
   "source": [
    "tipo_datos = df_renamed.dtypes.value_counts()\n",
    "print(\"Número de tipos de datos por categoría:\\n\", tipo_datos)"
   ]
  },
  {
   "cell_type": "markdown",
   "metadata": {},
   "source": [
    "24. Contar el número de columnas que tiene un DataFrame.\n"
   ]
  },
  {
   "cell_type": "code",
   "execution_count": 73,
   "metadata": {},
   "outputs": [
    {
     "name": "stdout",
     "output_type": "stream",
     "text": [
      "Número de columnas en el DataFrame: 2\n"
     ]
    }
   ],
   "source": [
    "num_colum = df_renamed.shape[1]\n",
    "print(\"Número de columnas en el DataFrame:\", num_colum)"
   ]
  },
  {
   "cell_type": "markdown",
   "metadata": {},
   "source": [
    "25. Obtener la representación en NumPy de un objeto DataFrame.\n"
   ]
  },
  {
   "cell_type": "code",
   "execution_count": 74,
   "metadata": {},
   "outputs": [
    {
     "name": "stdout",
     "output_type": "stream",
     "text": [
      "Representación en NumPy del DataFrame:\n",
      " [['Nike' 2300]\n",
      " ['Adidas' 340]\n",
      " ['Puma' 150]\n",
      " ['Jordan' 6000]]\n"
     ]
    }
   ],
   "source": [
    "numpy = df_renamed.to_numpy()\n",
    "print(\"Representación en NumPy del DataFrame:\\n\", numpy)"
   ]
  },
  {
   "cell_type": "markdown",
   "metadata": {},
   "source": [
    "26. Crear un objeto DataFrame a partir de objetos Series.\n"
   ]
  },
  {
   "cell_type": "code",
   "execution_count": 75,
   "metadata": {},
   "outputs": [
    {
     "data": {
      "text/html": [
       "<div>\n",
       "<style scoped>\n",
       "    .dataframe tbody tr th:only-of-type {\n",
       "        vertical-align: middle;\n",
       "    }\n",
       "\n",
       "    .dataframe tbody tr th {\n",
       "        vertical-align: top;\n",
       "    }\n",
       "\n",
       "    .dataframe thead th {\n",
       "        text-align: right;\n",
       "    }\n",
       "</style>\n",
       "<table border=\"1\" class=\"dataframe\">\n",
       "  <thead>\n",
       "    <tr style=\"text-align: right;\">\n",
       "      <th></th>\n",
       "      <th>Marca</th>\n",
       "      <th>Cantidad_Empleados</th>\n",
       "    </tr>\n",
       "  </thead>\n",
       "  <tbody>\n",
       "    <tr>\n",
       "      <th>Empresa1</th>\n",
       "      <td>Nike</td>\n",
       "      <td>2300</td>\n",
       "    </tr>\n",
       "    <tr>\n",
       "      <th>Empresa2</th>\n",
       "      <td>Adidas</td>\n",
       "      <td>340</td>\n",
       "    </tr>\n",
       "    <tr>\n",
       "      <th>Empresa3</th>\n",
       "      <td>Puma</td>\n",
       "      <td>150</td>\n",
       "    </tr>\n",
       "    <tr>\n",
       "      <th>Empresa4</th>\n",
       "      <td>Jordan</td>\n",
       "      <td>6000</td>\n",
       "    </tr>\n",
       "  </tbody>\n",
       "</table>\n",
       "</div>"
      ],
      "text/plain": [
       "           Marca  Cantidad_Empleados\n",
       "Empresa1    Nike                2300\n",
       "Empresa2  Adidas                 340\n",
       "Empresa3    Puma                 150\n",
       "Empresa4  Jordan                6000"
      ]
     },
     "execution_count": 75,
     "metadata": {},
     "output_type": "execute_result"
    }
   ],
   "source": [
    "series_marca = pd.Series(['Nike', 'Adidas', 'Puma', 'Jordan'], index=['Empresa1', 'Empresa2', 'Empresa3', 'Empresa4'])\n",
    "series_empleados = pd.Series([2300, 340, 150, 6000], index=['Empresa1', 'Empresa2', 'Empresa3', 'Empresa4'])\n",
    "\n",
    "df_series = pd.DataFrame({'Marca': series_marca, 'Cantidad_Empleados': series_empleados})\n",
    "df_series"
   ]
  },
  {
   "cell_type": "markdown",
   "metadata": {},
   "source": [
    "# Selección de datos y modificación de Dataframes\n"
   ]
  },
  {
   "cell_type": "markdown",
   "metadata": {},
   "source": [
    "27. Extraer una fila de un DataFrame como un objeto Series.\n"
   ]
  },
  {
   "cell_type": "code",
   "execution_count": 76,
   "metadata": {},
   "outputs": [
    {
     "data": {
      "text/plain": [
       "Marca                 Nike\n",
       "Cantidad_Empleados    2300\n",
       "Name: Empresa1, dtype: object"
      ]
     },
     "execution_count": 76,
     "metadata": {},
     "output_type": "execute_result"
    }
   ],
   "source": [
    "fila_empresa1 = df_renamed.loc['Empresa1']\n",
    "fila_empresa1"
   ]
  },
  {
   "cell_type": "markdown",
   "metadata": {},
   "source": [
    "28. Cambiar el orden de dos columnas de un objeto DataFrame.\n"
   ]
  },
  {
   "cell_type": "code",
   "execution_count": 77,
   "metadata": {},
   "outputs": [
    {
     "name": "stdout",
     "output_type": "stream",
     "text": [
      "          Cantidad_Empleados   Marca\n",
      "Empresa1                2300    Nike\n",
      "Empresa2                 340  Adidas\n",
      "Empresa3                 150    Puma\n",
      "Empresa4                6000  Jordan\n"
     ]
    }
   ],
   "source": [
    "df_reordered = df_renamed[['Cantidad_Empleados', 'Marca']]\n",
    "print(df_reordered)"
   ]
  },
  {
   "cell_type": "markdown",
   "metadata": {},
   "source": [
    "29. Crea un DataFrame a partir de uno existente tomando alguna de las columnas del DataFrame  existente.\n"
   ]
  },
  {
   "cell_type": "code",
   "execution_count": 78,
   "metadata": {},
   "outputs": [
    {
     "data": {
      "text/html": [
       "<div>\n",
       "<style scoped>\n",
       "    .dataframe tbody tr th:only-of-type {\n",
       "        vertical-align: middle;\n",
       "    }\n",
       "\n",
       "    .dataframe tbody tr th {\n",
       "        vertical-align: top;\n",
       "    }\n",
       "\n",
       "    .dataframe thead th {\n",
       "        text-align: right;\n",
       "    }\n",
       "</style>\n",
       "<table border=\"1\" class=\"dataframe\">\n",
       "  <thead>\n",
       "    <tr style=\"text-align: right;\">\n",
       "      <th></th>\n",
       "      <th>Marca</th>\n",
       "      <th>Ciudad</th>\n",
       "      <th>Fundacion</th>\n",
       "    </tr>\n",
       "  </thead>\n",
       "  <tbody>\n",
       "    <tr>\n",
       "      <th>Empresa1</th>\n",
       "      <td>Nike</td>\n",
       "      <td>Los Palacios</td>\n",
       "      <td>1964</td>\n",
       "    </tr>\n",
       "    <tr>\n",
       "      <th>Empresa2</th>\n",
       "      <td>Adidas</td>\n",
       "      <td>Lora del rio</td>\n",
       "      <td>1949</td>\n",
       "    </tr>\n",
       "    <tr>\n",
       "      <th>Empresa3</th>\n",
       "      <td>Puma</td>\n",
       "      <td>Marchena</td>\n",
       "      <td>1948</td>\n",
       "    </tr>\n",
       "    <tr>\n",
       "      <th>Empresa4</th>\n",
       "      <td>Jordan</td>\n",
       "      <td>Tenerife</td>\n",
       "      <td>1984</td>\n",
       "    </tr>\n",
       "  </tbody>\n",
       "</table>\n",
       "</div>"
      ],
      "text/plain": [
       "           Marca        Ciudad  Fundacion\n",
       "Empresa1    Nike  Los Palacios       1964\n",
       "Empresa2  Adidas  Lora del rio       1949\n",
       "Empresa3    Puma      Marchena       1948\n",
       "Empresa4  Jordan      Tenerife       1984"
      ]
     },
     "execution_count": 78,
     "metadata": {},
     "output_type": "execute_result"
    }
   ],
   "source": [
    "df_nuevo = df_renamed[['Marca']].copy()\n",
    "\n",
    "df_nuevo['Ciudad'] = ['Los Palacios', 'Lora del rio', 'Marchena', 'Tenerife']\n",
    "df_nuevo['Fundacion'] = [1964, 1949, 1948, 1984]\n",
    "\n",
    "df_nuevo"
   ]
  },
  {
   "cell_type": "markdown",
   "metadata": {},
   "source": [
    "30. Seleccionar todas las columnas de un DataFrame, excepto una en particular.\n"
   ]
  },
  {
   "cell_type": "code",
   "execution_count": 79,
   "metadata": {},
   "outputs": [
    {
     "data": {
      "text/html": [
       "<div>\n",
       "<style scoped>\n",
       "    .dataframe tbody tr th:only-of-type {\n",
       "        vertical-align: middle;\n",
       "    }\n",
       "\n",
       "    .dataframe tbody tr th {\n",
       "        vertical-align: top;\n",
       "    }\n",
       "\n",
       "    .dataframe thead th {\n",
       "        text-align: right;\n",
       "    }\n",
       "</style>\n",
       "<table border=\"1\" class=\"dataframe\">\n",
       "  <thead>\n",
       "    <tr style=\"text-align: right;\">\n",
       "      <th></th>\n",
       "      <th>Marca</th>\n",
       "      <th>Ciudad</th>\n",
       "    </tr>\n",
       "  </thead>\n",
       "  <tbody>\n",
       "    <tr>\n",
       "      <th>Empresa1</th>\n",
       "      <td>Nike</td>\n",
       "      <td>Los Palacios</td>\n",
       "    </tr>\n",
       "    <tr>\n",
       "      <th>Empresa2</th>\n",
       "      <td>Adidas</td>\n",
       "      <td>Lora del rio</td>\n",
       "    </tr>\n",
       "    <tr>\n",
       "      <th>Empresa3</th>\n",
       "      <td>Puma</td>\n",
       "      <td>Marchena</td>\n",
       "    </tr>\n",
       "    <tr>\n",
       "      <th>Empresa4</th>\n",
       "      <td>Jordan</td>\n",
       "      <td>Tenerife</td>\n",
       "    </tr>\n",
       "  </tbody>\n",
       "</table>\n",
       "</div>"
      ],
      "text/plain": [
       "           Marca        Ciudad\n",
       "Empresa1    Nike  Los Palacios\n",
       "Empresa2  Adidas  Lora del rio\n",
       "Empresa3    Puma      Marchena\n",
       "Empresa4  Jordan      Tenerife"
      ]
     },
     "execution_count": 79,
     "metadata": {},
     "output_type": "execute_result"
    }
   ],
   "source": [
    "df_except = df_nuevo.drop(columns=['Fundacion'])\n",
    "df_except"
   ]
  },
  {
   "cell_type": "markdown",
   "metadata": {},
   "source": [
    "31. Seleccionar columnas de un objeto DataFrame usando notación de slicing.\n"
   ]
  },
  {
   "cell_type": "code",
   "execution_count": 80,
   "metadata": {},
   "outputs": [
    {
     "name": "stdout",
     "output_type": "stream",
     "text": [
      "           Marca        Ciudad\n",
      "Empresa1    Nike  Los Palacios\n",
      "Empresa2  Adidas  Lora del rio\n",
      "Empresa3    Puma      Marchena\n",
      "Empresa4  Jordan      Tenerife\n"
     ]
    }
   ],
   "source": [
    "df_ej31 = df_nuevo.iloc[:, :2]\n",
    "print(df_ej31)"
   ]
  },
  {
   "cell_type": "markdown",
   "metadata": {},
   "source": [
    "32. Comprobar si una columna existe en un DataFrame con el operador Python in.\n"
   ]
  },
  {
   "cell_type": "code",
   "execution_count": 81,
   "metadata": {},
   "outputs": [
    {
     "name": "stdout",
     "output_type": "stream",
     "text": [
      "¿Existe la columna 'Ciudad' en el DataFrame?: True\n"
     ]
    }
   ],
   "source": [
    "comprobacion = 'Ciudad'\n",
    "existe_columna = comprobacion in df_nuevo.columns\n",
    "print(f\"¿Existe la columna '{comprobacion}' en el DataFrame?: {existe_columna}\")"
   ]
  },
  {
   "cell_type": "markdown",
   "metadata": {},
   "source": [
    "33. Validar con isin si un elemento se halla dentro de un DataFrame.\n"
   ]
  },
  {
   "cell_type": "code",
   "execution_count": 82,
   "metadata": {},
   "outputs": [
    {
     "name": "stdout",
     "output_type": "stream",
     "text": [
      "¿Se encuentra el elemento 'Nike' en el DataFrame?: True\n"
     ]
    }
   ],
   "source": [
    "elem_validar = 'Nike'\n",
    "resultado = df_nuevo['Marca'].isin([elem_validar])\n",
    "print(f\"¿Se encuentra el elemento '{elem_validar}' en el DataFrame?: {resultado.any()}\")"
   ]
  },
  {
   "cell_type": "markdown",
   "metadata": {},
   "source": [
    "34. Obtener registros a partir de sus índices numéricos con iloc.\n"
   ]
  },
  {
   "cell_type": "code",
   "execution_count": 83,
   "metadata": {},
   "outputs": [
    {
     "name": "stdout",
     "output_type": "stream",
     "text": [
      "Primer registro:\n",
      " Marca                Nike\n",
      "Ciudad       Los Palacios\n",
      "Fundacion            1964\n",
      "Name: Empresa1, dtype: object\n",
      "Último registro:\n",
      " Marca          Jordan\n",
      "Ciudad       Tenerife\n",
      "Fundacion        1984\n",
      "Name: Empresa4, dtype: object\n"
     ]
    }
   ],
   "source": [
    "primer_registro = df_nuevo.iloc[0]\n",
    "print(\"Primer registro:\\n\", primer_registro)\n",
    "\n",
    "ultimo_registro = df_nuevo.iloc[-1]\n",
    "print(\"Último registro:\\n\", ultimo_registro)"
   ]
  },
  {
   "cell_type": "markdown",
   "metadata": {},
   "source": [
    "35. Seleccionar filas y columnas específicas de un DataFrame con iloc.\n"
   ]
  },
  {
   "cell_type": "code",
   "execution_count": 84,
   "metadata": {},
   "outputs": [
    {
     "data": {
      "text/html": [
       "<div>\n",
       "<style scoped>\n",
       "    .dataframe tbody tr th:only-of-type {\n",
       "        vertical-align: middle;\n",
       "    }\n",
       "\n",
       "    .dataframe tbody tr th {\n",
       "        vertical-align: top;\n",
       "    }\n",
       "\n",
       "    .dataframe thead th {\n",
       "        text-align: right;\n",
       "    }\n",
       "</style>\n",
       "<table border=\"1\" class=\"dataframe\">\n",
       "  <thead>\n",
       "    <tr style=\"text-align: right;\">\n",
       "      <th></th>\n",
       "      <th>Marca</th>\n",
       "      <th>Ciudad</th>\n",
       "    </tr>\n",
       "  </thead>\n",
       "  <tbody>\n",
       "    <tr>\n",
       "      <th>Empresa1</th>\n",
       "      <td>Nike</td>\n",
       "      <td>Los Palacios</td>\n",
       "    </tr>\n",
       "    <tr>\n",
       "      <th>Empresa3</th>\n",
       "      <td>Puma</td>\n",
       "      <td>Marchena</td>\n",
       "    </tr>\n",
       "  </tbody>\n",
       "</table>\n",
       "</div>"
      ],
      "text/plain": [
       "         Marca        Ciudad\n",
       "Empresa1  Nike  Los Palacios\n",
       "Empresa3  Puma      Marchena"
      ]
     },
     "execution_count": 84,
     "metadata": {},
     "output_type": "execute_result"
    }
   ],
   "source": [
    "filas_columnas_iloc = df_nuevo.iloc[[0,2], [0,1]]\n",
    "filas_columnas_iloc"
   ]
  },
  {
   "cell_type": "markdown",
   "metadata": {},
   "source": [
    "36. Seleccionar filas y columnas a partir de sus nombres con loc.\n"
   ]
  },
  {
   "cell_type": "code",
   "execution_count": 85,
   "metadata": {},
   "outputs": [
    {
     "data": {
      "text/html": [
       "<div>\n",
       "<style scoped>\n",
       "    .dataframe tbody tr th:only-of-type {\n",
       "        vertical-align: middle;\n",
       "    }\n",
       "\n",
       "    .dataframe tbody tr th {\n",
       "        vertical-align: top;\n",
       "    }\n",
       "\n",
       "    .dataframe thead th {\n",
       "        text-align: right;\n",
       "    }\n",
       "</style>\n",
       "<table border=\"1\" class=\"dataframe\">\n",
       "  <thead>\n",
       "    <tr style=\"text-align: right;\">\n",
       "      <th></th>\n",
       "      <th>Marca</th>\n",
       "      <th>Ciudad</th>\n",
       "    </tr>\n",
       "  </thead>\n",
       "  <tbody>\n",
       "    <tr>\n",
       "      <th>Empresa1</th>\n",
       "      <td>Nike</td>\n",
       "      <td>Los Palacios</td>\n",
       "    </tr>\n",
       "    <tr>\n",
       "      <th>Empresa3</th>\n",
       "      <td>Puma</td>\n",
       "      <td>Marchena</td>\n",
       "    </tr>\n",
       "  </tbody>\n",
       "</table>\n",
       "</div>"
      ],
      "text/plain": [
       "         Marca        Ciudad\n",
       "Empresa1  Nike  Los Palacios\n",
       "Empresa3  Puma      Marchena"
      ]
     },
     "execution_count": 85,
     "metadata": {},
     "output_type": "execute_result"
    }
   ],
   "source": [
    "filas_columnas_loc = df_nuevo.loc[['Empresa1', 'Empresa3'], ['Marca', 'Ciudad']]\n",
    "filas_columnas_loc"
   ]
  },
  {
   "cell_type": "markdown",
   "metadata": {},
   "source": [
    "37. Seleccionar registros donde los valores de una columna estén en un rango.\n"
   ]
  },
  {
   "cell_type": "code",
   "execution_count": 86,
   "metadata": {},
   "outputs": [
    {
     "data": {
      "text/html": [
       "<div>\n",
       "<style scoped>\n",
       "    .dataframe tbody tr th:only-of-type {\n",
       "        vertical-align: middle;\n",
       "    }\n",
       "\n",
       "    .dataframe tbody tr th {\n",
       "        vertical-align: top;\n",
       "    }\n",
       "\n",
       "    .dataframe thead th {\n",
       "        text-align: right;\n",
       "    }\n",
       "</style>\n",
       "<table border=\"1\" class=\"dataframe\">\n",
       "  <thead>\n",
       "    <tr style=\"text-align: right;\">\n",
       "      <th></th>\n",
       "      <th>Marca</th>\n",
       "      <th>Cantidad_Empleados</th>\n",
       "    </tr>\n",
       "  </thead>\n",
       "  <tbody>\n",
       "    <tr>\n",
       "      <th>Empresa1</th>\n",
       "      <td>Nike</td>\n",
       "      <td>2300</td>\n",
       "    </tr>\n",
       "    <tr>\n",
       "      <th>Empresa2</th>\n",
       "      <td>Adidas</td>\n",
       "      <td>340</td>\n",
       "    </tr>\n",
       "  </tbody>\n",
       "</table>\n",
       "</div>"
      ],
      "text/plain": [
       "           Marca  Cantidad_Empleados\n",
       "Empresa1    Nike                2300\n",
       "Empresa2  Adidas                 340"
      ]
     },
     "execution_count": 86,
     "metadata": {},
     "output_type": "execute_result"
    }
   ],
   "source": [
    "rango_min = 280\n",
    "rango_max = 3000\n",
    "\n",
    "registros = df_renamed[(df_renamed['Cantidad_Empleados'] >= rango_min) & (df_renamed['Cantidad_Empleados'] <= rango_max)]\n",
    "registros"
   ]
  },
  {
   "cell_type": "markdown",
   "metadata": {},
   "source": [
    "38 Seleccionar registros donde se cumpla una condición para valores de una columna.\n"
   ]
  },
  {
   "cell_type": "code",
   "execution_count": 87,
   "metadata": {},
   "outputs": [
    {
     "data": {
      "text/html": [
       "<div>\n",
       "<style scoped>\n",
       "    .dataframe tbody tr th:only-of-type {\n",
       "        vertical-align: middle;\n",
       "    }\n",
       "\n",
       "    .dataframe tbody tr th {\n",
       "        vertical-align: top;\n",
       "    }\n",
       "\n",
       "    .dataframe thead th {\n",
       "        text-align: right;\n",
       "    }\n",
       "</style>\n",
       "<table border=\"1\" class=\"dataframe\">\n",
       "  <thead>\n",
       "    <tr style=\"text-align: right;\">\n",
       "      <th></th>\n",
       "      <th>Marca</th>\n",
       "      <th>Ciudad</th>\n",
       "      <th>Fundacion</th>\n",
       "    </tr>\n",
       "  </thead>\n",
       "  <tbody>\n",
       "    <tr>\n",
       "      <th>Empresa3</th>\n",
       "      <td>Puma</td>\n",
       "      <td>Marchena</td>\n",
       "      <td>1948</td>\n",
       "    </tr>\n",
       "  </tbody>\n",
       "</table>\n",
       "</div>"
      ],
      "text/plain": [
       "         Marca    Ciudad  Fundacion\n",
       "Empresa3  Puma  Marchena       1948"
      ]
     },
     "execution_count": 87,
     "metadata": {},
     "output_type": "execute_result"
    }
   ],
   "source": [
    "condicion = 'Marchena'\n",
    "registros_condicion = df_nuevo[df_nuevo['Ciudad'] == condicion]\n",
    "registros_condicion"
   ]
  },
  {
   "cell_type": "markdown",
   "metadata": {},
   "source": [
    "39. Modificar un valor o entrada específico de un objeto DataFrame usando loc.\n"
   ]
  },
  {
   "cell_type": "code",
   "execution_count": 88,
   "metadata": {},
   "outputs": [
    {
     "data": {
      "text/html": [
       "<div>\n",
       "<style scoped>\n",
       "    .dataframe tbody tr th:only-of-type {\n",
       "        vertical-align: middle;\n",
       "    }\n",
       "\n",
       "    .dataframe tbody tr th {\n",
       "        vertical-align: top;\n",
       "    }\n",
       "\n",
       "    .dataframe thead th {\n",
       "        text-align: right;\n",
       "    }\n",
       "</style>\n",
       "<table border=\"1\" class=\"dataframe\">\n",
       "  <thead>\n",
       "    <tr style=\"text-align: right;\">\n",
       "      <th></th>\n",
       "      <th>Marca</th>\n",
       "      <th>Ciudad</th>\n",
       "      <th>Fundacion</th>\n",
       "    </tr>\n",
       "  </thead>\n",
       "  <tbody>\n",
       "    <tr>\n",
       "      <th>Empresa1</th>\n",
       "      <td>Nike</td>\n",
       "      <td>Los Palacios</td>\n",
       "      <td>1964</td>\n",
       "    </tr>\n",
       "    <tr>\n",
       "      <th>Empresa2</th>\n",
       "      <td>Adidas</td>\n",
       "      <td>Lora del rio</td>\n",
       "      <td>1949</td>\n",
       "    </tr>\n",
       "    <tr>\n",
       "      <th>Empresa3</th>\n",
       "      <td>Reebok</td>\n",
       "      <td>Marchena</td>\n",
       "      <td>1948</td>\n",
       "    </tr>\n",
       "    <tr>\n",
       "      <th>Empresa4</th>\n",
       "      <td>Jordan</td>\n",
       "      <td>Tenerife</td>\n",
       "      <td>1984</td>\n",
       "    </tr>\n",
       "  </tbody>\n",
       "</table>\n",
       "</div>"
      ],
      "text/plain": [
       "           Marca        Ciudad  Fundacion\n",
       "Empresa1    Nike  Los Palacios       1964\n",
       "Empresa2  Adidas  Lora del rio       1949\n",
       "Empresa3  Reebok      Marchena       1948\n",
       "Empresa4  Jordan      Tenerife       1984"
      ]
     },
     "execution_count": 88,
     "metadata": {},
     "output_type": "execute_result"
    }
   ],
   "source": [
    "df_nuevo.loc['Empresa3', 'Marca'] = 'Reebok'\n",
    "\n",
    "df_nuevo"
   ]
  },
  {
   "cell_type": "markdown",
   "metadata": {},
   "source": [
    "40. Insertar una nueva columna en una posición arbitraria con la función insert.\n"
   ]
  },
  {
   "cell_type": "code",
   "execution_count": 89,
   "metadata": {},
   "outputs": [],
   "source": [
    "df_nuevo.insert(1, 'CEO', ['Pepe', 'Fernando', 'Maria', 'Sara'])"
   ]
  },
  {
   "cell_type": "code",
   "execution_count": 90,
   "metadata": {},
   "outputs": [
    {
     "data": {
      "text/html": [
       "<div>\n",
       "<style scoped>\n",
       "    .dataframe tbody tr th:only-of-type {\n",
       "        vertical-align: middle;\n",
       "    }\n",
       "\n",
       "    .dataframe tbody tr th {\n",
       "        vertical-align: top;\n",
       "    }\n",
       "\n",
       "    .dataframe thead th {\n",
       "        text-align: right;\n",
       "    }\n",
       "</style>\n",
       "<table border=\"1\" class=\"dataframe\">\n",
       "  <thead>\n",
       "    <tr style=\"text-align: right;\">\n",
       "      <th></th>\n",
       "      <th>Marca</th>\n",
       "      <th>CEO</th>\n",
       "      <th>Ciudad</th>\n",
       "      <th>Fundacion</th>\n",
       "    </tr>\n",
       "  </thead>\n",
       "  <tbody>\n",
       "    <tr>\n",
       "      <th>Empresa1</th>\n",
       "      <td>Nike</td>\n",
       "      <td>Pepe</td>\n",
       "      <td>Los Palacios</td>\n",
       "      <td>1964</td>\n",
       "    </tr>\n",
       "    <tr>\n",
       "      <th>Empresa2</th>\n",
       "      <td>Adidas</td>\n",
       "      <td>Fernando</td>\n",
       "      <td>Lora del rio</td>\n",
       "      <td>1949</td>\n",
       "    </tr>\n",
       "    <tr>\n",
       "      <th>Empresa3</th>\n",
       "      <td>Reebok</td>\n",
       "      <td>Maria</td>\n",
       "      <td>Marchena</td>\n",
       "      <td>1948</td>\n",
       "    </tr>\n",
       "    <tr>\n",
       "      <th>Empresa4</th>\n",
       "      <td>Jordan</td>\n",
       "      <td>Sara</td>\n",
       "      <td>Tenerife</td>\n",
       "      <td>1984</td>\n",
       "    </tr>\n",
       "  </tbody>\n",
       "</table>\n",
       "</div>"
      ],
      "text/plain": [
       "           Marca       CEO        Ciudad  Fundacion\n",
       "Empresa1    Nike      Pepe  Los Palacios       1964\n",
       "Empresa2  Adidas  Fernando  Lora del rio       1949\n",
       "Empresa3  Reebok     Maria      Marchena       1948\n",
       "Empresa4  Jordan      Sara      Tenerife       1984"
      ]
     },
     "execution_count": 90,
     "metadata": {},
     "output_type": "execute_result"
    }
   ],
   "source": [
    "df_nuevo"
   ]
  },
  {
   "cell_type": "markdown",
   "metadata": {},
   "source": [
    "41. Agregar una nueva fila a un objeto DataFrame por medio de loc.\n"
   ]
  },
  {
   "cell_type": "code",
   "execution_count": 91,
   "metadata": {},
   "outputs": [
    {
     "data": {
      "text/html": [
       "<div>\n",
       "<style scoped>\n",
       "    .dataframe tbody tr th:only-of-type {\n",
       "        vertical-align: middle;\n",
       "    }\n",
       "\n",
       "    .dataframe tbody tr th {\n",
       "        vertical-align: top;\n",
       "    }\n",
       "\n",
       "    .dataframe thead th {\n",
       "        text-align: right;\n",
       "    }\n",
       "</style>\n",
       "<table border=\"1\" class=\"dataframe\">\n",
       "  <thead>\n",
       "    <tr style=\"text-align: right;\">\n",
       "      <th></th>\n",
       "      <th>Marca</th>\n",
       "      <th>CEO</th>\n",
       "      <th>Ciudad</th>\n",
       "      <th>Fundacion</th>\n",
       "    </tr>\n",
       "  </thead>\n",
       "  <tbody>\n",
       "    <tr>\n",
       "      <th>Empresa1</th>\n",
       "      <td>Nike</td>\n",
       "      <td>Pepe</td>\n",
       "      <td>Los Palacios</td>\n",
       "      <td>1964</td>\n",
       "    </tr>\n",
       "    <tr>\n",
       "      <th>Empresa2</th>\n",
       "      <td>Adidas</td>\n",
       "      <td>Fernando</td>\n",
       "      <td>Lora del rio</td>\n",
       "      <td>1949</td>\n",
       "    </tr>\n",
       "    <tr>\n",
       "      <th>Empresa3</th>\n",
       "      <td>Reebok</td>\n",
       "      <td>Maria</td>\n",
       "      <td>Marchena</td>\n",
       "      <td>1948</td>\n",
       "    </tr>\n",
       "    <tr>\n",
       "      <th>Empresa4</th>\n",
       "      <td>Jordan</td>\n",
       "      <td>Sara</td>\n",
       "      <td>Tenerife</td>\n",
       "      <td>1984</td>\n",
       "    </tr>\n",
       "    <tr>\n",
       "      <th>Empresa5</th>\n",
       "      <td>UnderGround</td>\n",
       "      <td>Adolfo</td>\n",
       "      <td>Las 3000</td>\n",
       "      <td>1996</td>\n",
       "    </tr>\n",
       "  </tbody>\n",
       "</table>\n",
       "</div>"
      ],
      "text/plain": [
       "                Marca       CEO        Ciudad  Fundacion\n",
       "Empresa1         Nike      Pepe  Los Palacios       1964\n",
       "Empresa2       Adidas  Fernando  Lora del rio       1949\n",
       "Empresa3       Reebok     Maria      Marchena       1948\n",
       "Empresa4       Jordan      Sara      Tenerife       1984\n",
       "Empresa5  UnderGround    Adolfo      Las 3000       1996"
      ]
     },
     "execution_count": 91,
     "metadata": {},
     "output_type": "execute_result"
    }
   ],
   "source": [
    "df_nuevo.loc['Empresa5'] = ['UnderGround', 'Adolfo', 'Las 3000', 1996]\n",
    "df_nuevo"
   ]
  },
  {
   "cell_type": "markdown",
   "metadata": {},
   "source": [
    "42. Recorrer cada una de las columnas de un objeto DataFrame con items.\n"
   ]
  },
  {
   "cell_type": "code",
   "execution_count": 92,
   "metadata": {},
   "outputs": [
    {
     "name": "stdout",
     "output_type": "stream",
     "text": [
      "Nombre de la columna: Marca\n",
      "Datos de la columna:\n",
      "Empresa1           Nike\n",
      "Empresa2         Adidas\n",
      "Empresa3         Reebok\n",
      "Empresa4         Jordan\n",
      "Empresa5    UnderGround\n",
      "Name: Marca, dtype: object\n",
      "\n",
      "Nombre de la columna: CEO\n",
      "Datos de la columna:\n",
      "Empresa1        Pepe\n",
      "Empresa2    Fernando\n",
      "Empresa3       Maria\n",
      "Empresa4        Sara\n",
      "Empresa5      Adolfo\n",
      "Name: CEO, dtype: object\n",
      "\n",
      "Nombre de la columna: Ciudad\n",
      "Datos de la columna:\n",
      "Empresa1    Los Palacios\n",
      "Empresa2    Lora del rio\n",
      "Empresa3        Marchena\n",
      "Empresa4        Tenerife\n",
      "Empresa5        Las 3000\n",
      "Name: Ciudad, dtype: object\n",
      "\n",
      "Nombre de la columna: Fundacion\n",
      "Datos de la columna:\n",
      "Empresa1    1964\n",
      "Empresa2    1949\n",
      "Empresa3    1948\n",
      "Empresa4    1984\n",
      "Empresa5    1996\n",
      "Name: Fundacion, dtype: int64\n",
      "\n"
     ]
    }
   ],
   "source": [
    "for column_name, column_data in df_nuevo.items():\n",
    "    print(f\"Nombre de la columna: {column_name}\")\n",
    "    print(f\"Datos de la columna:\\n{column_data}\\n\")"
   ]
  },
  {
   "cell_type": "markdown",
   "metadata": {},
   "source": [
    "43. Agregar una columna en una posición específica con la función DataFrame.insert.\n"
   ]
  },
  {
   "cell_type": "code",
   "execution_count": 93,
   "metadata": {},
   "outputs": [
    {
     "data": {
      "text/html": [
       "<div>\n",
       "<style scoped>\n",
       "    .dataframe tbody tr th:only-of-type {\n",
       "        vertical-align: middle;\n",
       "    }\n",
       "\n",
       "    .dataframe tbody tr th {\n",
       "        vertical-align: top;\n",
       "    }\n",
       "\n",
       "    .dataframe thead th {\n",
       "        text-align: right;\n",
       "    }\n",
       "</style>\n",
       "<table border=\"1\" class=\"dataframe\">\n",
       "  <thead>\n",
       "    <tr style=\"text-align: right;\">\n",
       "      <th></th>\n",
       "      <th>Marca</th>\n",
       "      <th>CEO</th>\n",
       "      <th>País</th>\n",
       "      <th>Ciudad</th>\n",
       "      <th>Fundacion</th>\n",
       "    </tr>\n",
       "  </thead>\n",
       "  <tbody>\n",
       "    <tr>\n",
       "      <th>Empresa1</th>\n",
       "      <td>Nike</td>\n",
       "      <td>Pepe</td>\n",
       "      <td>España</td>\n",
       "      <td>Los Palacios</td>\n",
       "      <td>1964</td>\n",
       "    </tr>\n",
       "    <tr>\n",
       "      <th>Empresa2</th>\n",
       "      <td>Adidas</td>\n",
       "      <td>Fernando</td>\n",
       "      <td>España</td>\n",
       "      <td>Lora del rio</td>\n",
       "      <td>1949</td>\n",
       "    </tr>\n",
       "    <tr>\n",
       "      <th>Empresa3</th>\n",
       "      <td>Reebok</td>\n",
       "      <td>Maria</td>\n",
       "      <td>España</td>\n",
       "      <td>Marchena</td>\n",
       "      <td>1948</td>\n",
       "    </tr>\n",
       "    <tr>\n",
       "      <th>Empresa4</th>\n",
       "      <td>Jordan</td>\n",
       "      <td>Sara</td>\n",
       "      <td>España</td>\n",
       "      <td>Tenerife</td>\n",
       "      <td>1984</td>\n",
       "    </tr>\n",
       "    <tr>\n",
       "      <th>Empresa5</th>\n",
       "      <td>UnderGround</td>\n",
       "      <td>Adolfo</td>\n",
       "      <td>España</td>\n",
       "      <td>Las 3000</td>\n",
       "      <td>1996</td>\n",
       "    </tr>\n",
       "  </tbody>\n",
       "</table>\n",
       "</div>"
      ],
      "text/plain": [
       "                Marca       CEO    País        Ciudad  Fundacion\n",
       "Empresa1         Nike      Pepe  España  Los Palacios       1964\n",
       "Empresa2       Adidas  Fernando  España  Lora del rio       1949\n",
       "Empresa3       Reebok     Maria  España      Marchena       1948\n",
       "Empresa4       Jordan      Sara  España      Tenerife       1984\n",
       "Empresa5  UnderGround    Adolfo  España      Las 3000       1996"
      ]
     },
     "execution_count": 93,
     "metadata": {},
     "output_type": "execute_result"
    }
   ],
   "source": [
    "df_nuevo.insert(2, 'País', ['España', 'España', 'España', 'España', 'España'])\n",
    "df_nuevo"
   ]
  },
  {
   "cell_type": "markdown",
   "metadata": {},
   "source": [
    "44. Agregar una nueva fila a una DataFrame con el método append.\n"
   ]
  },
  {
   "cell_type": "code",
   "execution_count": 94,
   "metadata": {},
   "outputs": [
    {
     "data": {
      "text/html": [
       "<div>\n",
       "<style scoped>\n",
       "    .dataframe tbody tr th:only-of-type {\n",
       "        vertical-align: middle;\n",
       "    }\n",
       "\n",
       "    .dataframe tbody tr th {\n",
       "        vertical-align: top;\n",
       "    }\n",
       "\n",
       "    .dataframe thead th {\n",
       "        text-align: right;\n",
       "    }\n",
       "</style>\n",
       "<table border=\"1\" class=\"dataframe\">\n",
       "  <thead>\n",
       "    <tr style=\"text-align: right;\">\n",
       "      <th></th>\n",
       "      <th>Marca</th>\n",
       "      <th>CEO</th>\n",
       "      <th>País</th>\n",
       "      <th>Ciudad</th>\n",
       "      <th>Fundacion</th>\n",
       "    </tr>\n",
       "  </thead>\n",
       "  <tbody>\n",
       "    <tr>\n",
       "      <th>0</th>\n",
       "      <td>Nike</td>\n",
       "      <td>Pepe</td>\n",
       "      <td>España</td>\n",
       "      <td>Los Palacios</td>\n",
       "      <td>1964</td>\n",
       "    </tr>\n",
       "    <tr>\n",
       "      <th>1</th>\n",
       "      <td>Adidas</td>\n",
       "      <td>Fernando</td>\n",
       "      <td>España</td>\n",
       "      <td>Lora del rio</td>\n",
       "      <td>1949</td>\n",
       "    </tr>\n",
       "    <tr>\n",
       "      <th>2</th>\n",
       "      <td>Reebok</td>\n",
       "      <td>Maria</td>\n",
       "      <td>España</td>\n",
       "      <td>Marchena</td>\n",
       "      <td>1948</td>\n",
       "    </tr>\n",
       "    <tr>\n",
       "      <th>3</th>\n",
       "      <td>Jordan</td>\n",
       "      <td>Sara</td>\n",
       "      <td>España</td>\n",
       "      <td>Tenerife</td>\n",
       "      <td>1984</td>\n",
       "    </tr>\n",
       "    <tr>\n",
       "      <th>4</th>\n",
       "      <td>UnderGround</td>\n",
       "      <td>Adolfo</td>\n",
       "      <td>España</td>\n",
       "      <td>Las 3000</td>\n",
       "      <td>1996</td>\n",
       "    </tr>\n",
       "    <tr>\n",
       "      <th>5</th>\n",
       "      <td>Tiktok</td>\n",
       "      <td>LolaLolita</td>\n",
       "      <td>España</td>\n",
       "      <td>Madrid</td>\n",
       "      <td>2019</td>\n",
       "    </tr>\n",
       "  </tbody>\n",
       "</table>\n",
       "</div>"
      ],
      "text/plain": [
       "         Marca         CEO    País        Ciudad  Fundacion\n",
       "0         Nike        Pepe  España  Los Palacios       1964\n",
       "1       Adidas    Fernando  España  Lora del rio       1949\n",
       "2       Reebok       Maria  España      Marchena       1948\n",
       "3       Jordan        Sara  España      Tenerife       1984\n",
       "4  UnderGround      Adolfo  España      Las 3000       1996\n",
       "5       Tiktok  LolaLolita  España        Madrid       2019"
      ]
     },
     "execution_count": 94,
     "metadata": {},
     "output_type": "execute_result"
    }
   ],
   "source": [
    "nueva_fila = pd.DataFrame([{'Marca': 'Tiktok', 'CEO': 'LolaLolita', 'País': 'España', 'Ciudad': 'Madrid', 'Fundacion': 2019}])\n",
    "df_nuevo = pd.concat([df_nuevo, nueva_fila], ignore_index=True)\n",
    "df_nuevo\n",
    "\n",
    "#Con el append no se podria hacer ya que esta fuera de esta versiond de Panda"
   ]
  },
  {
   "cell_type": "markdown",
   "metadata": {},
   "source": [
    "45. Eliminar una fila de un DataFrame con la función drop.\n"
   ]
  },
  {
   "cell_type": "code",
   "execution_count": 95,
   "metadata": {},
   "outputs": [
    {
     "data": {
      "text/html": [
       "<div>\n",
       "<style scoped>\n",
       "    .dataframe tbody tr th:only-of-type {\n",
       "        vertical-align: middle;\n",
       "    }\n",
       "\n",
       "    .dataframe tbody tr th {\n",
       "        vertical-align: top;\n",
       "    }\n",
       "\n",
       "    .dataframe thead th {\n",
       "        text-align: right;\n",
       "    }\n",
       "</style>\n",
       "<table border=\"1\" class=\"dataframe\">\n",
       "  <thead>\n",
       "    <tr style=\"text-align: right;\">\n",
       "      <th></th>\n",
       "      <th>Marca</th>\n",
       "      <th>CEO</th>\n",
       "      <th>País</th>\n",
       "      <th>Ciudad</th>\n",
       "      <th>Fundacion</th>\n",
       "    </tr>\n",
       "  </thead>\n",
       "  <tbody>\n",
       "    <tr>\n",
       "      <th>0</th>\n",
       "      <td>Nike</td>\n",
       "      <td>Pepe</td>\n",
       "      <td>España</td>\n",
       "      <td>Los Palacios</td>\n",
       "      <td>1964</td>\n",
       "    </tr>\n",
       "    <tr>\n",
       "      <th>1</th>\n",
       "      <td>Adidas</td>\n",
       "      <td>Fernando</td>\n",
       "      <td>España</td>\n",
       "      <td>Lora del rio</td>\n",
       "      <td>1949</td>\n",
       "    </tr>\n",
       "    <tr>\n",
       "      <th>2</th>\n",
       "      <td>Reebok</td>\n",
       "      <td>Maria</td>\n",
       "      <td>España</td>\n",
       "      <td>Marchena</td>\n",
       "      <td>1948</td>\n",
       "    </tr>\n",
       "    <tr>\n",
       "      <th>3</th>\n",
       "      <td>Jordan</td>\n",
       "      <td>Sara</td>\n",
       "      <td>España</td>\n",
       "      <td>Tenerife</td>\n",
       "      <td>1984</td>\n",
       "    </tr>\n",
       "    <tr>\n",
       "      <th>4</th>\n",
       "      <td>UnderGround</td>\n",
       "      <td>Adolfo</td>\n",
       "      <td>España</td>\n",
       "      <td>Las 3000</td>\n",
       "      <td>1996</td>\n",
       "    </tr>\n",
       "  </tbody>\n",
       "</table>\n",
       "</div>"
      ],
      "text/plain": [
       "         Marca       CEO    País        Ciudad  Fundacion\n",
       "0         Nike      Pepe  España  Los Palacios       1964\n",
       "1       Adidas  Fernando  España  Lora del rio       1949\n",
       "2       Reebok     Maria  España      Marchena       1948\n",
       "3       Jordan      Sara  España      Tenerife       1984\n",
       "4  UnderGround    Adolfo  España      Las 3000       1996"
      ]
     },
     "execution_count": 95,
     "metadata": {},
     "output_type": "execute_result"
    }
   ],
   "source": [
    "df_nuevo = df_nuevo.drop(index=5)\n",
    "df_nuevo"
   ]
  },
  {
   "cell_type": "markdown",
   "metadata": {},
   "source": [
    "46. Extraer y remover una columna por su nombre a través de la función pop.\n"
   ]
  },
  {
   "cell_type": "code",
   "execution_count": 96,
   "metadata": {},
   "outputs": [
    {
     "name": "stdout",
     "output_type": "stream",
     "text": [
      "Columna removida:\n",
      " 0        Pepe\n",
      "1    Fernando\n",
      "2       Maria\n",
      "3        Sara\n",
      "4      Adolfo\n",
      "Name: CEO, dtype: object\n",
      "DataFrame después de remover la columna 'CEO':\n",
      "          Marca    País        Ciudad  Fundacion\n",
      "0         Nike  España  Los Palacios       1964\n",
      "1       Adidas  España  Lora del rio       1949\n",
      "2       Reebok  España      Marchena       1948\n",
      "3       Jordan  España      Tenerife       1984\n",
      "4  UnderGround  España      Las 3000       1996\n"
     ]
    }
   ],
   "source": [
    "colum_rem = df_nuevo.pop('CEO')\n",
    "print(\"Columna removida:\\n\", colum_rem)\n",
    "print(\"DataFrame después de remover la columna 'CEO':\\n\", df_nuevo)"
   ]
  },
  {
   "cell_type": "markdown",
   "metadata": {},
   "source": [
    "47. Reemplazar valores de una columna por medio de la función replace.\n"
   ]
  },
  {
   "cell_type": "code",
   "execution_count": 97,
   "metadata": {},
   "outputs": [
    {
     "data": {
      "text/html": [
       "<div>\n",
       "<style scoped>\n",
       "    .dataframe tbody tr th:only-of-type {\n",
       "        vertical-align: middle;\n",
       "    }\n",
       "\n",
       "    .dataframe tbody tr th {\n",
       "        vertical-align: top;\n",
       "    }\n",
       "\n",
       "    .dataframe thead th {\n",
       "        text-align: right;\n",
       "    }\n",
       "</style>\n",
       "<table border=\"1\" class=\"dataframe\">\n",
       "  <thead>\n",
       "    <tr style=\"text-align: right;\">\n",
       "      <th></th>\n",
       "      <th>Marca</th>\n",
       "      <th>País</th>\n",
       "      <th>Ciudad</th>\n",
       "      <th>Fundacion</th>\n",
       "    </tr>\n",
       "  </thead>\n",
       "  <tbody>\n",
       "    <tr>\n",
       "      <th>0</th>\n",
       "      <td>Nike</td>\n",
       "      <td>España</td>\n",
       "      <td>Los Palacios</td>\n",
       "      <td>1964</td>\n",
       "    </tr>\n",
       "    <tr>\n",
       "      <th>1</th>\n",
       "      <td>Adidas</td>\n",
       "      <td>España</td>\n",
       "      <td>Lora del rio</td>\n",
       "      <td>1949</td>\n",
       "    </tr>\n",
       "    <tr>\n",
       "      <th>2</th>\n",
       "      <td>NewBalance</td>\n",
       "      <td>España</td>\n",
       "      <td>Marchena</td>\n",
       "      <td>1948</td>\n",
       "    </tr>\n",
       "    <tr>\n",
       "      <th>3</th>\n",
       "      <td>Jordan</td>\n",
       "      <td>España</td>\n",
       "      <td>Tenerife</td>\n",
       "      <td>1984</td>\n",
       "    </tr>\n",
       "    <tr>\n",
       "      <th>4</th>\n",
       "      <td>UnderGround</td>\n",
       "      <td>España</td>\n",
       "      <td>Las 3000</td>\n",
       "      <td>1996</td>\n",
       "    </tr>\n",
       "  </tbody>\n",
       "</table>\n",
       "</div>"
      ],
      "text/plain": [
       "         Marca    País        Ciudad  Fundacion\n",
       "0         Nike  España  Los Palacios       1964\n",
       "1       Adidas  España  Lora del rio       1949\n",
       "2   NewBalance  España      Marchena       1948\n",
       "3       Jordan  España      Tenerife       1984\n",
       "4  UnderGround  España      Las 3000       1996"
      ]
     },
     "execution_count": 97,
     "metadata": {},
     "output_type": "execute_result"
    }
   ],
   "source": [
    "df_nuevo['Marca'] = df_nuevo['Marca'].replace({'Reebok': 'NewBalance'})\n",
    "df_nuevo"
   ]
  },
  {
   "cell_type": "markdown",
   "metadata": {},
   "source": [
    "48. Reemplazar valores que no cumplan una condición a través de la función DataFrame.where.\n"
   ]
  },
  {
   "cell_type": "code",
   "execution_count": null,
   "metadata": {},
   "outputs": [
    {
     "data": {
      "text/html": [
       "<div>\n",
       "<style scoped>\n",
       "    .dataframe tbody tr th:only-of-type {\n",
       "        vertical-align: middle;\n",
       "    }\n",
       "\n",
       "    .dataframe tbody tr th {\n",
       "        vertical-align: top;\n",
       "    }\n",
       "\n",
       "    .dataframe thead th {\n",
       "        text-align: right;\n",
       "    }\n",
       "</style>\n",
       "<table border=\"1\" class=\"dataframe\">\n",
       "  <thead>\n",
       "    <tr style=\"text-align: right;\">\n",
       "      <th></th>\n",
       "      <th>Marca</th>\n",
       "      <th>Cantidad_Empleados</th>\n",
       "    </tr>\n",
       "  </thead>\n",
       "  <tbody>\n",
       "    <tr>\n",
       "      <th>Empresa1</th>\n",
       "      <td>Nike</td>\n",
       "      <td>2300</td>\n",
       "    </tr>\n",
       "    <tr>\n",
       "      <th>Empresa2</th>\n",
       "      <td>Adidas</td>\n",
       "      <td>50</td>\n",
       "    </tr>\n",
       "    <tr>\n",
       "      <th>Empresa3</th>\n",
       "      <td>Puma</td>\n",
       "      <td>50</td>\n",
       "    </tr>\n",
       "    <tr>\n",
       "      <th>Empresa4</th>\n",
       "      <td>Jordan</td>\n",
       "      <td>6000</td>\n",
       "    </tr>\n",
       "  </tbody>\n",
       "</table>\n",
       "</div>"
      ],
      "text/plain": [
       "           Marca  Cantidad_Empleados\n",
       "Empresa1    Nike                2300\n",
       "Empresa2  Adidas                  50\n",
       "Empresa3    Puma                  50\n",
       "Empresa4  Jordan                6000"
      ]
     },
     "execution_count": 98,
     "metadata": {},
     "output_type": "execute_result"
    }
   ],
   "source": [
    "df_renamed['Cantidad_Empleados'] = df_renamed['Cantidad_Empleados'].where(df_renamed['Cantidad_Empleados'] > 1000, other=50)\n",
    "df_renamed"
   ]
  },
  {
   "cell_type": "markdown",
   "metadata": {},
   "source": [
    "49. Agregar una nueva fila a un DataFrame con notación de slicing.\n"
   ]
  },
  {
   "cell_type": "code",
   "execution_count": 99,
   "metadata": {},
   "outputs": [
    {
     "data": {
      "text/html": [
       "<div>\n",
       "<style scoped>\n",
       "    .dataframe tbody tr th:only-of-type {\n",
       "        vertical-align: middle;\n",
       "    }\n",
       "\n",
       "    .dataframe tbody tr th {\n",
       "        vertical-align: top;\n",
       "    }\n",
       "\n",
       "    .dataframe thead th {\n",
       "        text-align: right;\n",
       "    }\n",
       "</style>\n",
       "<table border=\"1\" class=\"dataframe\">\n",
       "  <thead>\n",
       "    <tr style=\"text-align: right;\">\n",
       "      <th></th>\n",
       "      <th>Marca</th>\n",
       "      <th>País</th>\n",
       "      <th>Ciudad</th>\n",
       "      <th>Fundacion</th>\n",
       "    </tr>\n",
       "  </thead>\n",
       "  <tbody>\n",
       "    <tr>\n",
       "      <th>0</th>\n",
       "      <td>Nike</td>\n",
       "      <td>España</td>\n",
       "      <td>Los Palacios</td>\n",
       "      <td>1964</td>\n",
       "    </tr>\n",
       "    <tr>\n",
       "      <th>1</th>\n",
       "      <td>Adidas</td>\n",
       "      <td>España</td>\n",
       "      <td>Lora del rio</td>\n",
       "      <td>1949</td>\n",
       "    </tr>\n",
       "    <tr>\n",
       "      <th>2</th>\n",
       "      <td>NewBalance</td>\n",
       "      <td>España</td>\n",
       "      <td>Marchena</td>\n",
       "      <td>1948</td>\n",
       "    </tr>\n",
       "    <tr>\n",
       "      <th>3</th>\n",
       "      <td>Jordan</td>\n",
       "      <td>España</td>\n",
       "      <td>Tenerife</td>\n",
       "      <td>1984</td>\n",
       "    </tr>\n",
       "    <tr>\n",
       "      <th>4</th>\n",
       "      <td>UnderGround</td>\n",
       "      <td>España</td>\n",
       "      <td>Las 3000</td>\n",
       "      <td>1996</td>\n",
       "    </tr>\n",
       "    <tr>\n",
       "      <th>5</th>\n",
       "      <td>Reebok</td>\n",
       "      <td>España</td>\n",
       "      <td>Madrid</td>\n",
       "      <td>2021</td>\n",
       "    </tr>\n",
       "  </tbody>\n",
       "</table>\n",
       "</div>"
      ],
      "text/plain": [
       "         Marca    País        Ciudad  Fundacion\n",
       "0         Nike  España  Los Palacios       1964\n",
       "1       Adidas  España  Lora del rio       1949\n",
       "2   NewBalance  España      Marchena       1948\n",
       "3       Jordan  España      Tenerife       1984\n",
       "4  UnderGround  España      Las 3000       1996\n",
       "5       Reebok  España        Madrid       2021"
      ]
     },
     "execution_count": 99,
     "metadata": {},
     "output_type": "execute_result"
    }
   ],
   "source": [
    "df_nuevo.loc[len(df_nuevo)] = ['Reebok', 'España', 'Madrid', 2021]\n",
    "df_nuevo"
   ]
  },
  {
   "cell_type": "markdown",
   "metadata": {},
   "source": [
    "50. Usar la función mask para modificar los valores que cumplan una condición.\n"
   ]
  },
  {
   "cell_type": "code",
   "execution_count": 100,
   "metadata": {},
   "outputs": [
    {
     "data": {
      "text/html": [
       "<div>\n",
       "<style scoped>\n",
       "    .dataframe tbody tr th:only-of-type {\n",
       "        vertical-align: middle;\n",
       "    }\n",
       "\n",
       "    .dataframe tbody tr th {\n",
       "        vertical-align: top;\n",
       "    }\n",
       "\n",
       "    .dataframe thead th {\n",
       "        text-align: right;\n",
       "    }\n",
       "</style>\n",
       "<table border=\"1\" class=\"dataframe\">\n",
       "  <thead>\n",
       "    <tr style=\"text-align: right;\">\n",
       "      <th></th>\n",
       "      <th>Marca</th>\n",
       "      <th>Cantidad_Empleados</th>\n",
       "    </tr>\n",
       "  </thead>\n",
       "  <tbody>\n",
       "    <tr>\n",
       "      <th>Empresa1</th>\n",
       "      <td>Nike</td>\n",
       "      <td>2300</td>\n",
       "    </tr>\n",
       "    <tr>\n",
       "      <th>Empresa2</th>\n",
       "      <td>Adidas</td>\n",
       "      <td>1000</td>\n",
       "    </tr>\n",
       "    <tr>\n",
       "      <th>Empresa3</th>\n",
       "      <td>Puma</td>\n",
       "      <td>1000</td>\n",
       "    </tr>\n",
       "    <tr>\n",
       "      <th>Empresa4</th>\n",
       "      <td>Jordan</td>\n",
       "      <td>6000</td>\n",
       "    </tr>\n",
       "  </tbody>\n",
       "</table>\n",
       "</div>"
      ],
      "text/plain": [
       "           Marca  Cantidad_Empleados\n",
       "Empresa1    Nike                2300\n",
       "Empresa2  Adidas                1000\n",
       "Empresa3    Puma                1000\n",
       "Empresa4  Jordan                6000"
      ]
     },
     "execution_count": 100,
     "metadata": {},
     "output_type": "execute_result"
    }
   ],
   "source": [
    "df_renamed['Cantidad_Empleados'] = df_renamed['Cantidad_Empleados'].mask(df_renamed['Cantidad_Empleados'] < 1000, other=1000)\n",
    "df_renamed"
   ]
  },
  {
   "cell_type": "markdown",
   "metadata": {},
   "source": [
    "51. Iterar cada una de las filas de un DataFrame con la función iterrows.\n"
   ]
  },
  {
   "cell_type": "code",
   "execution_count": 101,
   "metadata": {},
   "outputs": [
    {
     "name": "stdout",
     "output_type": "stream",
     "text": [
      "Índice: 0\n",
      "Fila:\n",
      "Marca                Nike\n",
      "País               España\n",
      "Ciudad       Los Palacios\n",
      "Fundacion            1964\n",
      "Name: 0, dtype: object\n",
      "\n",
      "Índice: 1\n",
      "Fila:\n",
      "Marca              Adidas\n",
      "País               España\n",
      "Ciudad       Lora del rio\n",
      "Fundacion            1949\n",
      "Name: 1, dtype: object\n",
      "\n",
      "Índice: 2\n",
      "Fila:\n",
      "Marca        NewBalance\n",
      "País             España\n",
      "Ciudad         Marchena\n",
      "Fundacion          1948\n",
      "Name: 2, dtype: object\n",
      "\n",
      "Índice: 3\n",
      "Fila:\n",
      "Marca          Jordan\n",
      "País           España\n",
      "Ciudad       Tenerife\n",
      "Fundacion        1984\n",
      "Name: 3, dtype: object\n",
      "\n",
      "Índice: 4\n",
      "Fila:\n",
      "Marca        UnderGround\n",
      "País              España\n",
      "Ciudad          Las 3000\n",
      "Fundacion           1996\n",
      "Name: 4, dtype: object\n",
      "\n",
      "Índice: 5\n",
      "Fila:\n",
      "Marca        Reebok\n",
      "País         España\n",
      "Ciudad       Madrid\n",
      "Fundacion      2021\n",
      "Name: 5, dtype: object\n",
      "\n"
     ]
    }
   ],
   "source": [
    "for index, row in df_nuevo.iterrows():\n",
    "    print(f\"Índice: {index}\")\n",
    "    print(f\"Fila:\\n{row}\\n\")"
   ]
  },
  {
   "cell_type": "markdown",
   "metadata": {},
   "source": [
    "52. Eliminar filas o registros con la función DataFrame.drop.\n"
   ]
  },
  {
   "cell_type": "code",
   "execution_count": 102,
   "metadata": {},
   "outputs": [
    {
     "data": {
      "text/html": [
       "<div>\n",
       "<style scoped>\n",
       "    .dataframe tbody tr th:only-of-type {\n",
       "        vertical-align: middle;\n",
       "    }\n",
       "\n",
       "    .dataframe tbody tr th {\n",
       "        vertical-align: top;\n",
       "    }\n",
       "\n",
       "    .dataframe thead th {\n",
       "        text-align: right;\n",
       "    }\n",
       "</style>\n",
       "<table border=\"1\" class=\"dataframe\">\n",
       "  <thead>\n",
       "    <tr style=\"text-align: right;\">\n",
       "      <th></th>\n",
       "      <th>Marca</th>\n",
       "      <th>País</th>\n",
       "      <th>Ciudad</th>\n",
       "      <th>Fundacion</th>\n",
       "    </tr>\n",
       "  </thead>\n",
       "  <tbody>\n",
       "    <tr>\n",
       "      <th>0</th>\n",
       "      <td>Nike</td>\n",
       "      <td>España</td>\n",
       "      <td>Los Palacios</td>\n",
       "      <td>1964</td>\n",
       "    </tr>\n",
       "    <tr>\n",
       "      <th>1</th>\n",
       "      <td>Adidas</td>\n",
       "      <td>España</td>\n",
       "      <td>Lora del rio</td>\n",
       "      <td>1949</td>\n",
       "    </tr>\n",
       "    <tr>\n",
       "      <th>2</th>\n",
       "      <td>NewBalance</td>\n",
       "      <td>España</td>\n",
       "      <td>Marchena</td>\n",
       "      <td>1948</td>\n",
       "    </tr>\n",
       "    <tr>\n",
       "      <th>3</th>\n",
       "      <td>Jordan</td>\n",
       "      <td>España</td>\n",
       "      <td>Tenerife</td>\n",
       "      <td>1984</td>\n",
       "    </tr>\n",
       "    <tr>\n",
       "      <th>4</th>\n",
       "      <td>UnderGround</td>\n",
       "      <td>España</td>\n",
       "      <td>Las 3000</td>\n",
       "      <td>1996</td>\n",
       "    </tr>\n",
       "  </tbody>\n",
       "</table>\n",
       "</div>"
      ],
      "text/plain": [
       "         Marca    País        Ciudad  Fundacion\n",
       "0         Nike  España  Los Palacios       1964\n",
       "1       Adidas  España  Lora del rio       1949\n",
       "2   NewBalance  España      Marchena       1948\n",
       "3       Jordan  España      Tenerife       1984\n",
       "4  UnderGround  España      Las 3000       1996"
      ]
     },
     "execution_count": 102,
     "metadata": {},
     "output_type": "execute_result"
    }
   ],
   "source": [
    "df_nuevo = df_nuevo.drop(index=5)\n",
    "df_nuevo"
   ]
  },
  {
   "cell_type": "code",
   "execution_count": 103,
   "metadata": {},
   "outputs": [
    {
     "data": {
      "text/html": [
       "<div>\n",
       "<style scoped>\n",
       "    .dataframe tbody tr th:only-of-type {\n",
       "        vertical-align: middle;\n",
       "    }\n",
       "\n",
       "    .dataframe tbody tr th {\n",
       "        vertical-align: top;\n",
       "    }\n",
       "\n",
       "    .dataframe thead th {\n",
       "        text-align: right;\n",
       "    }\n",
       "</style>\n",
       "<table border=\"1\" class=\"dataframe\">\n",
       "  <thead>\n",
       "    <tr style=\"text-align: right;\">\n",
       "      <th></th>\n",
       "      <th>Marca</th>\n",
       "      <th>País</th>\n",
       "      <th>Ciudad</th>\n",
       "      <th>Fundacion</th>\n",
       "    </tr>\n",
       "  </thead>\n",
       "  <tbody>\n",
       "    <tr>\n",
       "      <th>0</th>\n",
       "      <td>Nike</td>\n",
       "      <td>España</td>\n",
       "      <td>Los Palacios</td>\n",
       "      <td>1964</td>\n",
       "    </tr>\n",
       "    <tr>\n",
       "      <th>1</th>\n",
       "      <td>Adidas</td>\n",
       "      <td>España</td>\n",
       "      <td>Lora del rio</td>\n",
       "      <td>1949</td>\n",
       "    </tr>\n",
       "    <tr>\n",
       "      <th>2</th>\n",
       "      <td>NewBalance</td>\n",
       "      <td>España</td>\n",
       "      <td>Marchena</td>\n",
       "      <td>1948</td>\n",
       "    </tr>\n",
       "    <tr>\n",
       "      <th>3</th>\n",
       "      <td>Jordan</td>\n",
       "      <td>España</td>\n",
       "      <td>Tenerife</td>\n",
       "      <td>1984</td>\n",
       "    </tr>\n",
       "    <tr>\n",
       "      <th>4</th>\n",
       "      <td>UnderGround</td>\n",
       "      <td>España</td>\n",
       "      <td>Las 3000</td>\n",
       "      <td>1996</td>\n",
       "    </tr>\n",
       "  </tbody>\n",
       "</table>\n",
       "</div>"
      ],
      "text/plain": [
       "         Marca    País        Ciudad  Fundacion\n",
       "0         Nike  España  Los Palacios       1964\n",
       "1       Adidas  España  Lora del rio       1949\n",
       "2   NewBalance  España      Marchena       1948\n",
       "3       Jordan  España      Tenerife       1984\n",
       "4  UnderGround  España      Las 3000       1996"
      ]
     },
     "execution_count": 103,
     "metadata": {},
     "output_type": "execute_result"
    }
   ],
   "source": [
    "df_nuevo"
   ]
  },
  {
   "cell_type": "markdown",
   "metadata": {},
   "source": [
    "53. Combinar dos objetos DataFrame con la función concat.\n"
   ]
  },
  {
   "cell_type": "code",
   "execution_count": 104,
   "metadata": {},
   "outputs": [
    {
     "data": {
      "text/html": [
       "<div>\n",
       "<style scoped>\n",
       "    .dataframe tbody tr th:only-of-type {\n",
       "        vertical-align: middle;\n",
       "    }\n",
       "\n",
       "    .dataframe tbody tr th {\n",
       "        vertical-align: top;\n",
       "    }\n",
       "\n",
       "    .dataframe thead th {\n",
       "        text-align: right;\n",
       "    }\n",
       "</style>\n",
       "<table border=\"1\" class=\"dataframe\">\n",
       "  <thead>\n",
       "    <tr style=\"text-align: right;\">\n",
       "      <th></th>\n",
       "      <th>Marca</th>\n",
       "      <th>Cantidad_Empleados</th>\n",
       "      <th>País</th>\n",
       "      <th>Ciudad</th>\n",
       "      <th>Fundacion</th>\n",
       "    </tr>\n",
       "  </thead>\n",
       "  <tbody>\n",
       "    <tr>\n",
       "      <th>Empresa1</th>\n",
       "      <td>Nike</td>\n",
       "      <td>2300.0</td>\n",
       "      <td>NaN</td>\n",
       "      <td>NaN</td>\n",
       "      <td>NaN</td>\n",
       "    </tr>\n",
       "    <tr>\n",
       "      <th>Empresa2</th>\n",
       "      <td>Adidas</td>\n",
       "      <td>1000.0</td>\n",
       "      <td>NaN</td>\n",
       "      <td>NaN</td>\n",
       "      <td>NaN</td>\n",
       "    </tr>\n",
       "    <tr>\n",
       "      <th>Empresa3</th>\n",
       "      <td>Puma</td>\n",
       "      <td>1000.0</td>\n",
       "      <td>NaN</td>\n",
       "      <td>NaN</td>\n",
       "      <td>NaN</td>\n",
       "    </tr>\n",
       "    <tr>\n",
       "      <th>Empresa4</th>\n",
       "      <td>Jordan</td>\n",
       "      <td>6000.0</td>\n",
       "      <td>NaN</td>\n",
       "      <td>NaN</td>\n",
       "      <td>NaN</td>\n",
       "    </tr>\n",
       "    <tr>\n",
       "      <th>0</th>\n",
       "      <td>Nike</td>\n",
       "      <td>NaN</td>\n",
       "      <td>España</td>\n",
       "      <td>Los Palacios</td>\n",
       "      <td>1964.0</td>\n",
       "    </tr>\n",
       "    <tr>\n",
       "      <th>1</th>\n",
       "      <td>Adidas</td>\n",
       "      <td>NaN</td>\n",
       "      <td>España</td>\n",
       "      <td>Lora del rio</td>\n",
       "      <td>1949.0</td>\n",
       "    </tr>\n",
       "    <tr>\n",
       "      <th>2</th>\n",
       "      <td>NewBalance</td>\n",
       "      <td>NaN</td>\n",
       "      <td>España</td>\n",
       "      <td>Marchena</td>\n",
       "      <td>1948.0</td>\n",
       "    </tr>\n",
       "    <tr>\n",
       "      <th>3</th>\n",
       "      <td>Jordan</td>\n",
       "      <td>NaN</td>\n",
       "      <td>España</td>\n",
       "      <td>Tenerife</td>\n",
       "      <td>1984.0</td>\n",
       "    </tr>\n",
       "    <tr>\n",
       "      <th>4</th>\n",
       "      <td>UnderGround</td>\n",
       "      <td>NaN</td>\n",
       "      <td>España</td>\n",
       "      <td>Las 3000</td>\n",
       "      <td>1996.0</td>\n",
       "    </tr>\n",
       "  </tbody>\n",
       "</table>\n",
       "</div>"
      ],
      "text/plain": [
       "                Marca  Cantidad_Empleados    País        Ciudad  Fundacion\n",
       "Empresa1         Nike              2300.0     NaN           NaN        NaN\n",
       "Empresa2       Adidas              1000.0     NaN           NaN        NaN\n",
       "Empresa3         Puma              1000.0     NaN           NaN        NaN\n",
       "Empresa4       Jordan              6000.0     NaN           NaN        NaN\n",
       "0                Nike                 NaN  España  Los Palacios     1964.0\n",
       "1              Adidas                 NaN  España  Lora del rio     1949.0\n",
       "2          NewBalance                 NaN  España      Marchena     1948.0\n",
       "3              Jordan                 NaN  España      Tenerife     1984.0\n",
       "4         UnderGround                 NaN  España      Las 3000     1996.0"
      ]
     },
     "execution_count": 104,
     "metadata": {},
     "output_type": "execute_result"
    }
   ],
   "source": [
    "df_combined = pd.concat([df_renamed, df_nuevo], axis=0)\n",
    "df_combined"
   ]
  },
  {
   "cell_type": "markdown",
   "metadata": {},
   "source": [
    "54. Combinar dos objetos DataFrame con la función merge.\n"
   ]
  },
  {
   "cell_type": "code",
   "execution_count": 105,
   "metadata": {},
   "outputs": [
    {
     "data": {
      "text/html": [
       "<div>\n",
       "<style scoped>\n",
       "    .dataframe tbody tr th:only-of-type {\n",
       "        vertical-align: middle;\n",
       "    }\n",
       "\n",
       "    .dataframe tbody tr th {\n",
       "        vertical-align: top;\n",
       "    }\n",
       "\n",
       "    .dataframe thead th {\n",
       "        text-align: right;\n",
       "    }\n",
       "</style>\n",
       "<table border=\"1\" class=\"dataframe\">\n",
       "  <thead>\n",
       "    <tr style=\"text-align: right;\">\n",
       "      <th></th>\n",
       "      <th>Marca</th>\n",
       "      <th>Cantidad_Empleados</th>\n",
       "      <th>País</th>\n",
       "      <th>Ciudad</th>\n",
       "      <th>Fundacion</th>\n",
       "    </tr>\n",
       "  </thead>\n",
       "  <tbody>\n",
       "    <tr>\n",
       "      <th>0</th>\n",
       "      <td>Nike</td>\n",
       "      <td>2300</td>\n",
       "      <td>España</td>\n",
       "      <td>Los Palacios</td>\n",
       "      <td>1964</td>\n",
       "    </tr>\n",
       "    <tr>\n",
       "      <th>1</th>\n",
       "      <td>Adidas</td>\n",
       "      <td>1000</td>\n",
       "      <td>España</td>\n",
       "      <td>Lora del rio</td>\n",
       "      <td>1949</td>\n",
       "    </tr>\n",
       "    <tr>\n",
       "      <th>2</th>\n",
       "      <td>Jordan</td>\n",
       "      <td>6000</td>\n",
       "      <td>España</td>\n",
       "      <td>Tenerife</td>\n",
       "      <td>1984</td>\n",
       "    </tr>\n",
       "  </tbody>\n",
       "</table>\n",
       "</div>"
      ],
      "text/plain": [
       "    Marca  Cantidad_Empleados    País        Ciudad  Fundacion\n",
       "0    Nike                2300  España  Los Palacios       1964\n",
       "1  Adidas                1000  España  Lora del rio       1949\n",
       "2  Jordan                6000  España      Tenerife       1984"
      ]
     },
     "execution_count": 105,
     "metadata": {},
     "output_type": "execute_result"
    }
   ],
   "source": [
    "df_merged = pd.merge(df_renamed, df_nuevo, on='Marca', how='inner')\n",
    "df_merged"
   ]
  },
  {
   "cell_type": "markdown",
   "metadata": {},
   "source": [
    "55. Eliminar registros duplicados de un DataFrame a partir de una columna.\n"
   ]
  },
  {
   "cell_type": "code",
   "execution_count": 106,
   "metadata": {},
   "outputs": [
    {
     "data": {
      "text/html": [
       "<div>\n",
       "<style scoped>\n",
       "    .dataframe tbody tr th:only-of-type {\n",
       "        vertical-align: middle;\n",
       "    }\n",
       "\n",
       "    .dataframe tbody tr th {\n",
       "        vertical-align: top;\n",
       "    }\n",
       "\n",
       "    .dataframe thead th {\n",
       "        text-align: right;\n",
       "    }\n",
       "</style>\n",
       "<table border=\"1\" class=\"dataframe\">\n",
       "  <thead>\n",
       "    <tr style=\"text-align: right;\">\n",
       "      <th></th>\n",
       "      <th>Marca</th>\n",
       "      <th>Cantidad_Empleados</th>\n",
       "      <th>País</th>\n",
       "      <th>Ciudad</th>\n",
       "      <th>Fundacion</th>\n",
       "    </tr>\n",
       "  </thead>\n",
       "  <tbody>\n",
       "    <tr>\n",
       "      <th>Empresa1</th>\n",
       "      <td>Nike</td>\n",
       "      <td>2300.0</td>\n",
       "      <td>NaN</td>\n",
       "      <td>NaN</td>\n",
       "      <td>NaN</td>\n",
       "    </tr>\n",
       "    <tr>\n",
       "      <th>Empresa2</th>\n",
       "      <td>Adidas</td>\n",
       "      <td>1000.0</td>\n",
       "      <td>NaN</td>\n",
       "      <td>NaN</td>\n",
       "      <td>NaN</td>\n",
       "    </tr>\n",
       "    <tr>\n",
       "      <th>Empresa3</th>\n",
       "      <td>Puma</td>\n",
       "      <td>1000.0</td>\n",
       "      <td>NaN</td>\n",
       "      <td>NaN</td>\n",
       "      <td>NaN</td>\n",
       "    </tr>\n",
       "    <tr>\n",
       "      <th>Empresa4</th>\n",
       "      <td>Jordan</td>\n",
       "      <td>6000.0</td>\n",
       "      <td>NaN</td>\n",
       "      <td>NaN</td>\n",
       "      <td>NaN</td>\n",
       "    </tr>\n",
       "    <tr>\n",
       "      <th>2</th>\n",
       "      <td>NewBalance</td>\n",
       "      <td>NaN</td>\n",
       "      <td>España</td>\n",
       "      <td>Marchena</td>\n",
       "      <td>1948.0</td>\n",
       "    </tr>\n",
       "    <tr>\n",
       "      <th>4</th>\n",
       "      <td>UnderGround</td>\n",
       "      <td>NaN</td>\n",
       "      <td>España</td>\n",
       "      <td>Las 3000</td>\n",
       "      <td>1996.0</td>\n",
       "    </tr>\n",
       "  </tbody>\n",
       "</table>\n",
       "</div>"
      ],
      "text/plain": [
       "                Marca  Cantidad_Empleados    País    Ciudad  Fundacion\n",
       "Empresa1         Nike              2300.0     NaN       NaN        NaN\n",
       "Empresa2       Adidas              1000.0     NaN       NaN        NaN\n",
       "Empresa3         Puma              1000.0     NaN       NaN        NaN\n",
       "Empresa4       Jordan              6000.0     NaN       NaN        NaN\n",
       "2          NewBalance                 NaN  España  Marchena     1948.0\n",
       "4         UnderGround                 NaN  España  Las 3000     1996.0"
      ]
     },
     "execution_count": 106,
     "metadata": {},
     "output_type": "execute_result"
    }
   ],
   "source": [
    "df_sin_duplicados = df_combined.drop_duplicates(subset='Marca')\n",
    "df_sin_duplicados"
   ]
  },
  {
   "cell_type": "markdown",
   "metadata": {},
   "source": [
    "56. Cambiar el orden de las filas de forma aleatoria con la función sample.\n"
   ]
  },
  {
   "cell_type": "code",
   "execution_count": 107,
   "metadata": {},
   "outputs": [
    {
     "data": {
      "text/html": [
       "<div>\n",
       "<style scoped>\n",
       "    .dataframe tbody tr th:only-of-type {\n",
       "        vertical-align: middle;\n",
       "    }\n",
       "\n",
       "    .dataframe tbody tr th {\n",
       "        vertical-align: top;\n",
       "    }\n",
       "\n",
       "    .dataframe thead th {\n",
       "        text-align: right;\n",
       "    }\n",
       "</style>\n",
       "<table border=\"1\" class=\"dataframe\">\n",
       "  <thead>\n",
       "    <tr style=\"text-align: right;\">\n",
       "      <th></th>\n",
       "      <th>Marca</th>\n",
       "      <th>Cantidad_Empleados</th>\n",
       "      <th>País</th>\n",
       "      <th>Ciudad</th>\n",
       "      <th>Fundacion</th>\n",
       "    </tr>\n",
       "  </thead>\n",
       "  <tbody>\n",
       "    <tr>\n",
       "      <th>0</th>\n",
       "      <td>UnderGround</td>\n",
       "      <td>NaN</td>\n",
       "      <td>España</td>\n",
       "      <td>Las 3000</td>\n",
       "      <td>1996.0</td>\n",
       "    </tr>\n",
       "    <tr>\n",
       "      <th>1</th>\n",
       "      <td>Adidas</td>\n",
       "      <td>1000.0</td>\n",
       "      <td>NaN</td>\n",
       "      <td>NaN</td>\n",
       "      <td>NaN</td>\n",
       "    </tr>\n",
       "    <tr>\n",
       "      <th>2</th>\n",
       "      <td>NewBalance</td>\n",
       "      <td>NaN</td>\n",
       "      <td>España</td>\n",
       "      <td>Marchena</td>\n",
       "      <td>1948.0</td>\n",
       "    </tr>\n",
       "    <tr>\n",
       "      <th>3</th>\n",
       "      <td>Jordan</td>\n",
       "      <td>6000.0</td>\n",
       "      <td>NaN</td>\n",
       "      <td>NaN</td>\n",
       "      <td>NaN</td>\n",
       "    </tr>\n",
       "    <tr>\n",
       "      <th>4</th>\n",
       "      <td>Puma</td>\n",
       "      <td>1000.0</td>\n",
       "      <td>NaN</td>\n",
       "      <td>NaN</td>\n",
       "      <td>NaN</td>\n",
       "    </tr>\n",
       "    <tr>\n",
       "      <th>5</th>\n",
       "      <td>Nike</td>\n",
       "      <td>2300.0</td>\n",
       "      <td>NaN</td>\n",
       "      <td>NaN</td>\n",
       "      <td>NaN</td>\n",
       "    </tr>\n",
       "  </tbody>\n",
       "</table>\n",
       "</div>"
      ],
      "text/plain": [
       "         Marca  Cantidad_Empleados    País    Ciudad  Fundacion\n",
       "0  UnderGround                 NaN  España  Las 3000     1996.0\n",
       "1       Adidas              1000.0     NaN       NaN        NaN\n",
       "2   NewBalance                 NaN  España  Marchena     1948.0\n",
       "3       Jordan              6000.0     NaN       NaN        NaN\n",
       "4         Puma              1000.0     NaN       NaN        NaN\n",
       "5         Nike              2300.0     NaN       NaN        NaN"
      ]
     },
     "execution_count": 107,
     "metadata": {},
     "output_type": "execute_result"
    }
   ],
   "source": [
    "df_random = df_sin_duplicados.sample(frac=1).reset_index(drop=True)\n",
    "df_random"
   ]
  },
  {
   "cell_type": "markdown",
   "metadata": {},
   "source": [
    "57. Reemplazar valores en un DataFrame con la función replace."
   ]
  },
  {
   "cell_type": "code",
   "execution_count": 108,
   "metadata": {},
   "outputs": [
    {
     "data": {
      "text/html": [
       "<div>\n",
       "<style scoped>\n",
       "    .dataframe tbody tr th:only-of-type {\n",
       "        vertical-align: middle;\n",
       "    }\n",
       "\n",
       "    .dataframe tbody tr th {\n",
       "        vertical-align: top;\n",
       "    }\n",
       "\n",
       "    .dataframe thead th {\n",
       "        text-align: right;\n",
       "    }\n",
       "</style>\n",
       "<table border=\"1\" class=\"dataframe\">\n",
       "  <thead>\n",
       "    <tr style=\"text-align: right;\">\n",
       "      <th></th>\n",
       "      <th>Marca</th>\n",
       "      <th>Cantidad_Empleados</th>\n",
       "      <th>País</th>\n",
       "      <th>Ciudad</th>\n",
       "      <th>Fundacion</th>\n",
       "    </tr>\n",
       "  </thead>\n",
       "  <tbody>\n",
       "    <tr>\n",
       "      <th>0</th>\n",
       "      <td>UnderGround</td>\n",
       "      <td>NaN</td>\n",
       "      <td>España</td>\n",
       "      <td>Las 3000</td>\n",
       "      <td>1996.0</td>\n",
       "    </tr>\n",
       "    <tr>\n",
       "      <th>1</th>\n",
       "      <td>Adidas</td>\n",
       "      <td>1000.0</td>\n",
       "      <td>NaN</td>\n",
       "      <td>NaN</td>\n",
       "      <td>NaN</td>\n",
       "    </tr>\n",
       "    <tr>\n",
       "      <th>2</th>\n",
       "      <td>Reebok</td>\n",
       "      <td>NaN</td>\n",
       "      <td>España</td>\n",
       "      <td>Marchena</td>\n",
       "      <td>1948.0</td>\n",
       "    </tr>\n",
       "    <tr>\n",
       "      <th>3</th>\n",
       "      <td>Jordan</td>\n",
       "      <td>6000.0</td>\n",
       "      <td>NaN</td>\n",
       "      <td>NaN</td>\n",
       "      <td>NaN</td>\n",
       "    </tr>\n",
       "    <tr>\n",
       "      <th>4</th>\n",
       "      <td>Puma</td>\n",
       "      <td>1000.0</td>\n",
       "      <td>NaN</td>\n",
       "      <td>NaN</td>\n",
       "      <td>NaN</td>\n",
       "    </tr>\n",
       "    <tr>\n",
       "      <th>5</th>\n",
       "      <td>Nike</td>\n",
       "      <td>2300.0</td>\n",
       "      <td>NaN</td>\n",
       "      <td>NaN</td>\n",
       "      <td>NaN</td>\n",
       "    </tr>\n",
       "  </tbody>\n",
       "</table>\n",
       "</div>"
      ],
      "text/plain": [
       "         Marca  Cantidad_Empleados    País    Ciudad  Fundacion\n",
       "0  UnderGround                 NaN  España  Las 3000     1996.0\n",
       "1       Adidas              1000.0     NaN       NaN        NaN\n",
       "2       Reebok                 NaN  España  Marchena     1948.0\n",
       "3       Jordan              6000.0     NaN       NaN        NaN\n",
       "4         Puma              1000.0     NaN       NaN        NaN\n",
       "5         Nike              2300.0     NaN       NaN        NaN"
      ]
     },
     "execution_count": 108,
     "metadata": {},
     "output_type": "execute_result"
    }
   ],
   "source": [
    "df_random['Marca'] = df_random['Marca'].replace({'NewBalance': 'Reebok'})\n",
    "df_random"
   ]
  },
  {
   "cell_type": "markdown",
   "metadata": {},
   "source": [
    "58. Remover valores infinitos (-np.inf y np.inf) de un DataFrame con replace.\n"
   ]
  },
  {
   "cell_type": "code",
   "execution_count": 109,
   "metadata": {},
   "outputs": [
    {
     "data": {
      "text/html": [
       "<div>\n",
       "<style scoped>\n",
       "    .dataframe tbody tr th:only-of-type {\n",
       "        vertical-align: middle;\n",
       "    }\n",
       "\n",
       "    .dataframe tbody tr th {\n",
       "        vertical-align: top;\n",
       "    }\n",
       "\n",
       "    .dataframe thead th {\n",
       "        text-align: right;\n",
       "    }\n",
       "</style>\n",
       "<table border=\"1\" class=\"dataframe\">\n",
       "  <thead>\n",
       "    <tr style=\"text-align: right;\">\n",
       "      <th></th>\n",
       "      <th>Marca</th>\n",
       "      <th>País</th>\n",
       "      <th>Ciudad</th>\n",
       "      <th>Fundacion</th>\n",
       "    </tr>\n",
       "  </thead>\n",
       "  <tbody>\n",
       "    <tr>\n",
       "      <th>0</th>\n",
       "      <td>Nike</td>\n",
       "      <td>España</td>\n",
       "      <td>Los Palacios</td>\n",
       "      <td>1964</td>\n",
       "    </tr>\n",
       "    <tr>\n",
       "      <th>1</th>\n",
       "      <td>Adidas</td>\n",
       "      <td>España</td>\n",
       "      <td>Lora del rio</td>\n",
       "      <td>1949</td>\n",
       "    </tr>\n",
       "    <tr>\n",
       "      <th>2</th>\n",
       "      <td>NewBalance</td>\n",
       "      <td>España</td>\n",
       "      <td>Marchena</td>\n",
       "      <td>1948</td>\n",
       "    </tr>\n",
       "    <tr>\n",
       "      <th>3</th>\n",
       "      <td>Jordan</td>\n",
       "      <td>España</td>\n",
       "      <td>Tenerife</td>\n",
       "      <td>1984</td>\n",
       "    </tr>\n",
       "    <tr>\n",
       "      <th>4</th>\n",
       "      <td>UnderGround</td>\n",
       "      <td>España</td>\n",
       "      <td>Las 3000</td>\n",
       "      <td>1996</td>\n",
       "    </tr>\n",
       "  </tbody>\n",
       "</table>\n",
       "</div>"
      ],
      "text/plain": [
       "         Marca    País        Ciudad  Fundacion\n",
       "0         Nike  España  Los Palacios       1964\n",
       "1       Adidas  España  Lora del rio       1949\n",
       "2   NewBalance  España      Marchena       1948\n",
       "3       Jordan  España      Tenerife       1984\n",
       "4  UnderGround  España      Las 3000       1996"
      ]
     },
     "execution_count": 109,
     "metadata": {},
     "output_type": "execute_result"
    }
   ],
   "source": [
    "import numpy as np\n",
    "\n",
    "df_nuevo.replace([np.inf, -np.inf], np.nan, inplace=True)\n",
    "df_nuevo"
   ]
  },
  {
   "cell_type": "markdown",
   "metadata": {},
   "source": [
    "59. Remover las primeras n filas (registros) de un objeto DataFrame usando iloc.\n"
   ]
  },
  {
   "cell_type": "code",
   "execution_count": 110,
   "metadata": {},
   "outputs": [
    {
     "data": {
      "text/html": [
       "<div>\n",
       "<style scoped>\n",
       "    .dataframe tbody tr th:only-of-type {\n",
       "        vertical-align: middle;\n",
       "    }\n",
       "\n",
       "    .dataframe tbody tr th {\n",
       "        vertical-align: top;\n",
       "    }\n",
       "\n",
       "    .dataframe thead th {\n",
       "        text-align: right;\n",
       "    }\n",
       "</style>\n",
       "<table border=\"1\" class=\"dataframe\">\n",
       "  <thead>\n",
       "    <tr style=\"text-align: right;\">\n",
       "      <th></th>\n",
       "      <th>Marca</th>\n",
       "      <th>Cantidad_Empleados</th>\n",
       "      <th>País</th>\n",
       "      <th>Ciudad</th>\n",
       "      <th>Fundacion</th>\n",
       "    </tr>\n",
       "  </thead>\n",
       "  <tbody>\n",
       "    <tr>\n",
       "      <th>2</th>\n",
       "      <td>Reebok</td>\n",
       "      <td>NaN</td>\n",
       "      <td>España</td>\n",
       "      <td>Marchena</td>\n",
       "      <td>1948.0</td>\n",
       "    </tr>\n",
       "    <tr>\n",
       "      <th>3</th>\n",
       "      <td>Jordan</td>\n",
       "      <td>6000.0</td>\n",
       "      <td>NaN</td>\n",
       "      <td>NaN</td>\n",
       "      <td>NaN</td>\n",
       "    </tr>\n",
       "    <tr>\n",
       "      <th>4</th>\n",
       "      <td>Puma</td>\n",
       "      <td>1000.0</td>\n",
       "      <td>NaN</td>\n",
       "      <td>NaN</td>\n",
       "      <td>NaN</td>\n",
       "    </tr>\n",
       "    <tr>\n",
       "      <th>5</th>\n",
       "      <td>Nike</td>\n",
       "      <td>2300.0</td>\n",
       "      <td>NaN</td>\n",
       "      <td>NaN</td>\n",
       "      <td>NaN</td>\n",
       "    </tr>\n",
       "  </tbody>\n",
       "</table>\n",
       "</div>"
      ],
      "text/plain": [
       "    Marca  Cantidad_Empleados    País    Ciudad  Fundacion\n",
       "2  Reebok                 NaN  España  Marchena     1948.0\n",
       "3  Jordan              6000.0     NaN       NaN        NaN\n",
       "4    Puma              1000.0     NaN       NaN        NaN\n",
       "5    Nike              2300.0     NaN       NaN        NaN"
      ]
     },
     "execution_count": 110,
     "metadata": {},
     "output_type": "execute_result"
    }
   ],
   "source": [
    "n = 2\n",
    "df_primeras_filas = df_random.iloc[n:]\n",
    "df_primeras_filas"
   ]
  },
  {
   "cell_type": "markdown",
   "metadata": {},
   "source": [
    "60. Remover las últimas n filas (registros) de un objeto DataFrame usando iloc\n"
   ]
  },
  {
   "cell_type": "code",
   "execution_count": 111,
   "metadata": {},
   "outputs": [
    {
     "data": {
      "text/html": [
       "<div>\n",
       "<style scoped>\n",
       "    .dataframe tbody tr th:only-of-type {\n",
       "        vertical-align: middle;\n",
       "    }\n",
       "\n",
       "    .dataframe tbody tr th {\n",
       "        vertical-align: top;\n",
       "    }\n",
       "\n",
       "    .dataframe thead th {\n",
       "        text-align: right;\n",
       "    }\n",
       "</style>\n",
       "<table border=\"1\" class=\"dataframe\">\n",
       "  <thead>\n",
       "    <tr style=\"text-align: right;\">\n",
       "      <th></th>\n",
       "      <th>Marca</th>\n",
       "      <th>Cantidad_Empleados</th>\n",
       "      <th>País</th>\n",
       "      <th>Ciudad</th>\n",
       "      <th>Fundacion</th>\n",
       "    </tr>\n",
       "  </thead>\n",
       "  <tbody>\n",
       "    <tr>\n",
       "      <th>0</th>\n",
       "      <td>UnderGround</td>\n",
       "      <td>NaN</td>\n",
       "      <td>España</td>\n",
       "      <td>Las 3000</td>\n",
       "      <td>1996.0</td>\n",
       "    </tr>\n",
       "    <tr>\n",
       "      <th>1</th>\n",
       "      <td>Adidas</td>\n",
       "      <td>1000.0</td>\n",
       "      <td>NaN</td>\n",
       "      <td>NaN</td>\n",
       "      <td>NaN</td>\n",
       "    </tr>\n",
       "    <tr>\n",
       "      <th>2</th>\n",
       "      <td>Reebok</td>\n",
       "      <td>NaN</td>\n",
       "      <td>España</td>\n",
       "      <td>Marchena</td>\n",
       "      <td>1948.0</td>\n",
       "    </tr>\n",
       "    <tr>\n",
       "      <th>3</th>\n",
       "      <td>Jordan</td>\n",
       "      <td>6000.0</td>\n",
       "      <td>NaN</td>\n",
       "      <td>NaN</td>\n",
       "      <td>NaN</td>\n",
       "    </tr>\n",
       "  </tbody>\n",
       "</table>\n",
       "</div>"
      ],
      "text/plain": [
       "         Marca  Cantidad_Empleados    País    Ciudad  Fundacion\n",
       "0  UnderGround                 NaN  España  Las 3000     1996.0\n",
       "1       Adidas              1000.0     NaN       NaN        NaN\n",
       "2       Reebok                 NaN  España  Marchena     1948.0\n",
       "3       Jordan              6000.0     NaN       NaN        NaN"
      ]
     },
     "execution_count": 111,
     "metadata": {},
     "output_type": "execute_result"
    }
   ],
   "source": [
    "df_ultimas_filas = df_random.iloc[:-n]\n",
    "df_ultimas_filas"
   ]
  },
  {
   "cell_type": "markdown",
   "metadata": {},
   "source": [
    "# Gestión de valores nulos.\n"
   ]
  },
  {
   "cell_type": "markdown",
   "metadata": {},
   "source": [
    "61. Seleccionar los registros que tienen un campo nulo (nan) dentro de una columna.\n"
   ]
  },
  {
   "cell_type": "code",
   "execution_count": 112,
   "metadata": {},
   "outputs": [
    {
     "data": {
      "text/html": [
       "<div>\n",
       "<style scoped>\n",
       "    .dataframe tbody tr th:only-of-type {\n",
       "        vertical-align: middle;\n",
       "    }\n",
       "\n",
       "    .dataframe tbody tr th {\n",
       "        vertical-align: top;\n",
       "    }\n",
       "\n",
       "    .dataframe thead th {\n",
       "        text-align: right;\n",
       "    }\n",
       "</style>\n",
       "<table border=\"1\" class=\"dataframe\">\n",
       "  <thead>\n",
       "    <tr style=\"text-align: right;\">\n",
       "      <th></th>\n",
       "      <th>Marca</th>\n",
       "      <th>Cantidad_Empleados</th>\n",
       "      <th>País</th>\n",
       "      <th>Ciudad</th>\n",
       "      <th>Fundacion</th>\n",
       "    </tr>\n",
       "  </thead>\n",
       "  <tbody>\n",
       "    <tr>\n",
       "      <th>0</th>\n",
       "      <td>UnderGround</td>\n",
       "      <td>NaN</td>\n",
       "      <td>España</td>\n",
       "      <td>Las 3000</td>\n",
       "      <td>1996.0</td>\n",
       "    </tr>\n",
       "    <tr>\n",
       "      <th>1</th>\n",
       "      <td>Adidas</td>\n",
       "      <td>1000.0</td>\n",
       "      <td>NaN</td>\n",
       "      <td>NaN</td>\n",
       "      <td>NaN</td>\n",
       "    </tr>\n",
       "    <tr>\n",
       "      <th>2</th>\n",
       "      <td>Reebok</td>\n",
       "      <td>NaN</td>\n",
       "      <td>España</td>\n",
       "      <td>Marchena</td>\n",
       "      <td>1948.0</td>\n",
       "    </tr>\n",
       "    <tr>\n",
       "      <th>3</th>\n",
       "      <td>Jordan</td>\n",
       "      <td>6000.0</td>\n",
       "      <td>NaN</td>\n",
       "      <td>NaN</td>\n",
       "      <td>NaN</td>\n",
       "    </tr>\n",
       "    <tr>\n",
       "      <th>4</th>\n",
       "      <td>Puma</td>\n",
       "      <td>1000.0</td>\n",
       "      <td>NaN</td>\n",
       "      <td>NaN</td>\n",
       "      <td>NaN</td>\n",
       "    </tr>\n",
       "    <tr>\n",
       "      <th>5</th>\n",
       "      <td>Nike</td>\n",
       "      <td>2300.0</td>\n",
       "      <td>NaN</td>\n",
       "      <td>NaN</td>\n",
       "      <td>NaN</td>\n",
       "    </tr>\n",
       "  </tbody>\n",
       "</table>\n",
       "</div>"
      ],
      "text/plain": [
       "         Marca  Cantidad_Empleados    País    Ciudad  Fundacion\n",
       "0  UnderGround                 NaN  España  Las 3000     1996.0\n",
       "1       Adidas              1000.0     NaN       NaN        NaN\n",
       "2       Reebok                 NaN  España  Marchena     1948.0\n",
       "3       Jordan              6000.0     NaN       NaN        NaN\n",
       "4         Puma              1000.0     NaN       NaN        NaN\n",
       "5         Nike              2300.0     NaN       NaN        NaN"
      ]
     },
     "execution_count": 112,
     "metadata": {},
     "output_type": "execute_result"
    }
   ],
   "source": [
    "registros_nulos = df_random[df_random.isnull().any(axis=1)]\n",
    "registros_nulos"
   ]
  },
  {
   "cell_type": "markdown",
   "metadata": {},
   "source": [
    "62. Contar los elementos que son nulos (NaN) en un objeto DataFrame.\n"
   ]
  },
  {
   "cell_type": "code",
   "execution_count": 113,
   "metadata": {},
   "outputs": [
    {
     "name": "stdout",
     "output_type": "stream",
     "text": [
      "Cantidad de elementos nulos en cada columna:\n",
      " Marca                 0\n",
      "Cantidad_Empleados    2\n",
      "País                  4\n",
      "Ciudad                4\n",
      "Fundacion             4\n",
      "dtype: int64\n"
     ]
    }
   ],
   "source": [
    "elementos_nulos = df_random.isnull().sum()\n",
    "print(\"Cantidad de elementos nulos en cada columna:\\n\", elementos_nulos)"
   ]
  },
  {
   "cell_type": "markdown",
   "metadata": {},
   "source": [
    "63. Determinar los datos en un DataFrame que son nulos (NaN).\n"
   ]
  },
  {
   "cell_type": "code",
   "execution_count": 114,
   "metadata": {},
   "outputs": [
    {
     "data": {
      "text/html": [
       "<div>\n",
       "<style scoped>\n",
       "    .dataframe tbody tr th:only-of-type {\n",
       "        vertical-align: middle;\n",
       "    }\n",
       "\n",
       "    .dataframe tbody tr th {\n",
       "        vertical-align: top;\n",
       "    }\n",
       "\n",
       "    .dataframe thead th {\n",
       "        text-align: right;\n",
       "    }\n",
       "</style>\n",
       "<table border=\"1\" class=\"dataframe\">\n",
       "  <thead>\n",
       "    <tr style=\"text-align: right;\">\n",
       "      <th></th>\n",
       "      <th>Marca</th>\n",
       "      <th>Cantidad_Empleados</th>\n",
       "      <th>País</th>\n",
       "      <th>Ciudad</th>\n",
       "      <th>Fundacion</th>\n",
       "    </tr>\n",
       "  </thead>\n",
       "  <tbody>\n",
       "    <tr>\n",
       "      <th>0</th>\n",
       "      <td>False</td>\n",
       "      <td>True</td>\n",
       "      <td>False</td>\n",
       "      <td>False</td>\n",
       "      <td>False</td>\n",
       "    </tr>\n",
       "    <tr>\n",
       "      <th>1</th>\n",
       "      <td>False</td>\n",
       "      <td>False</td>\n",
       "      <td>True</td>\n",
       "      <td>True</td>\n",
       "      <td>True</td>\n",
       "    </tr>\n",
       "    <tr>\n",
       "      <th>2</th>\n",
       "      <td>False</td>\n",
       "      <td>True</td>\n",
       "      <td>False</td>\n",
       "      <td>False</td>\n",
       "      <td>False</td>\n",
       "    </tr>\n",
       "    <tr>\n",
       "      <th>3</th>\n",
       "      <td>False</td>\n",
       "      <td>False</td>\n",
       "      <td>True</td>\n",
       "      <td>True</td>\n",
       "      <td>True</td>\n",
       "    </tr>\n",
       "    <tr>\n",
       "      <th>4</th>\n",
       "      <td>False</td>\n",
       "      <td>False</td>\n",
       "      <td>True</td>\n",
       "      <td>True</td>\n",
       "      <td>True</td>\n",
       "    </tr>\n",
       "    <tr>\n",
       "      <th>5</th>\n",
       "      <td>False</td>\n",
       "      <td>False</td>\n",
       "      <td>True</td>\n",
       "      <td>True</td>\n",
       "      <td>True</td>\n",
       "    </tr>\n",
       "  </tbody>\n",
       "</table>\n",
       "</div>"
      ],
      "text/plain": [
       "   Marca  Cantidad_Empleados   País  Ciudad  Fundacion\n",
       "0  False                True  False   False      False\n",
       "1  False               False   True    True       True\n",
       "2  False                True  False   False      False\n",
       "3  False               False   True    True       True\n",
       "4  False               False   True    True       True\n",
       "5  False               False   True    True       True"
      ]
     },
     "execution_count": 114,
     "metadata": {},
     "output_type": "execute_result"
    }
   ],
   "source": [
    "datos_nulos = df_random.isnull()\n",
    "datos_nulos"
   ]
  },
  {
   "cell_type": "markdown",
   "metadata": {},
   "source": [
    "64. Encontrar los datos en un DataFrame que no son nulos (NaN).\n"
   ]
  },
  {
   "cell_type": "code",
   "execution_count": 115,
   "metadata": {},
   "outputs": [
    {
     "data": {
      "text/html": [
       "<div>\n",
       "<style scoped>\n",
       "    .dataframe tbody tr th:only-of-type {\n",
       "        vertical-align: middle;\n",
       "    }\n",
       "\n",
       "    .dataframe tbody tr th {\n",
       "        vertical-align: top;\n",
       "    }\n",
       "\n",
       "    .dataframe thead th {\n",
       "        text-align: right;\n",
       "    }\n",
       "</style>\n",
       "<table border=\"1\" class=\"dataframe\">\n",
       "  <thead>\n",
       "    <tr style=\"text-align: right;\">\n",
       "      <th></th>\n",
       "      <th>Marca</th>\n",
       "      <th>Cantidad_Empleados</th>\n",
       "      <th>País</th>\n",
       "      <th>Ciudad</th>\n",
       "      <th>Fundacion</th>\n",
       "    </tr>\n",
       "  </thead>\n",
       "  <tbody>\n",
       "    <tr>\n",
       "      <th>0</th>\n",
       "      <td>True</td>\n",
       "      <td>False</td>\n",
       "      <td>True</td>\n",
       "      <td>True</td>\n",
       "      <td>True</td>\n",
       "    </tr>\n",
       "    <tr>\n",
       "      <th>1</th>\n",
       "      <td>True</td>\n",
       "      <td>True</td>\n",
       "      <td>False</td>\n",
       "      <td>False</td>\n",
       "      <td>False</td>\n",
       "    </tr>\n",
       "    <tr>\n",
       "      <th>2</th>\n",
       "      <td>True</td>\n",
       "      <td>False</td>\n",
       "      <td>True</td>\n",
       "      <td>True</td>\n",
       "      <td>True</td>\n",
       "    </tr>\n",
       "    <tr>\n",
       "      <th>3</th>\n",
       "      <td>True</td>\n",
       "      <td>True</td>\n",
       "      <td>False</td>\n",
       "      <td>False</td>\n",
       "      <td>False</td>\n",
       "    </tr>\n",
       "    <tr>\n",
       "      <th>4</th>\n",
       "      <td>True</td>\n",
       "      <td>True</td>\n",
       "      <td>False</td>\n",
       "      <td>False</td>\n",
       "      <td>False</td>\n",
       "    </tr>\n",
       "    <tr>\n",
       "      <th>5</th>\n",
       "      <td>True</td>\n",
       "      <td>True</td>\n",
       "      <td>False</td>\n",
       "      <td>False</td>\n",
       "      <td>False</td>\n",
       "    </tr>\n",
       "  </tbody>\n",
       "</table>\n",
       "</div>"
      ],
      "text/plain": [
       "   Marca  Cantidad_Empleados   País  Ciudad  Fundacion\n",
       "0   True               False   True    True       True\n",
       "1   True                True  False   False      False\n",
       "2   True               False   True    True       True\n",
       "3   True                True  False   False      False\n",
       "4   True                True  False   False      False\n",
       "5   True                True  False   False      False"
      ]
     },
     "execution_count": 115,
     "metadata": {},
     "output_type": "execute_result"
    }
   ],
   "source": [
    "datos_nonulos = df_random.notnull()\n",
    "datos_nonulos"
   ]
  },
  {
   "cell_type": "markdown",
   "metadata": {},
   "source": [
    "65. Reemplazar los NaN (nulo) con un valor específico usando la función fillna.\n"
   ]
  },
  {
   "cell_type": "code",
   "execution_count": 116,
   "metadata": {},
   "outputs": [
    {
     "data": {
      "text/html": [
       "<div>\n",
       "<style scoped>\n",
       "    .dataframe tbody tr th:only-of-type {\n",
       "        vertical-align: middle;\n",
       "    }\n",
       "\n",
       "    .dataframe tbody tr th {\n",
       "        vertical-align: top;\n",
       "    }\n",
       "\n",
       "    .dataframe thead th {\n",
       "        text-align: right;\n",
       "    }\n",
       "</style>\n",
       "<table border=\"1\" class=\"dataframe\">\n",
       "  <thead>\n",
       "    <tr style=\"text-align: right;\">\n",
       "      <th></th>\n",
       "      <th>Marca</th>\n",
       "      <th>Cantidad_Empleados</th>\n",
       "      <th>País</th>\n",
       "      <th>Ciudad</th>\n",
       "      <th>Fundacion</th>\n",
       "    </tr>\n",
       "  </thead>\n",
       "  <tbody>\n",
       "    <tr>\n",
       "      <th>0</th>\n",
       "      <td>UnderGround</td>\n",
       "      <td>NaN</td>\n",
       "      <td>España</td>\n",
       "      <td>Las 3000</td>\n",
       "      <td>1996.0</td>\n",
       "    </tr>\n",
       "    <tr>\n",
       "      <th>1</th>\n",
       "      <td>Adidas</td>\n",
       "      <td>1000.0</td>\n",
       "      <td>Desconocido</td>\n",
       "      <td>Desconocido</td>\n",
       "      <td>0.0</td>\n",
       "    </tr>\n",
       "    <tr>\n",
       "      <th>2</th>\n",
       "      <td>Reebok</td>\n",
       "      <td>NaN</td>\n",
       "      <td>España</td>\n",
       "      <td>Marchena</td>\n",
       "      <td>1948.0</td>\n",
       "    </tr>\n",
       "    <tr>\n",
       "      <th>3</th>\n",
       "      <td>Jordan</td>\n",
       "      <td>6000.0</td>\n",
       "      <td>Desconocido</td>\n",
       "      <td>Desconocido</td>\n",
       "      <td>0.0</td>\n",
       "    </tr>\n",
       "    <tr>\n",
       "      <th>4</th>\n",
       "      <td>Puma</td>\n",
       "      <td>1000.0</td>\n",
       "      <td>Desconocido</td>\n",
       "      <td>Desconocido</td>\n",
       "      <td>0.0</td>\n",
       "    </tr>\n",
       "    <tr>\n",
       "      <th>5</th>\n",
       "      <td>Nike</td>\n",
       "      <td>2300.0</td>\n",
       "      <td>Desconocido</td>\n",
       "      <td>Desconocido</td>\n",
       "      <td>0.0</td>\n",
       "    </tr>\n",
       "  </tbody>\n",
       "</table>\n",
       "</div>"
      ],
      "text/plain": [
       "         Marca  Cantidad_Empleados         País       Ciudad  Fundacion\n",
       "0  UnderGround                 NaN       España     Las 3000     1996.0\n",
       "1       Adidas              1000.0  Desconocido  Desconocido        0.0\n",
       "2       Reebok                 NaN       España     Marchena     1948.0\n",
       "3       Jordan              6000.0  Desconocido  Desconocido        0.0\n",
       "4         Puma              1000.0  Desconocido  Desconocido        0.0\n",
       "5         Nike              2300.0  Desconocido  Desconocido        0.0"
      ]
     },
     "execution_count": 116,
     "metadata": {},
     "output_type": "execute_result"
    }
   ],
   "source": [
    "df_random.fillna(value={'País': 'Desconocido', 'Ciudad': 'Desconocido', 'Fundacion': 0}, inplace=True)\n",
    "df_random"
   ]
  },
  {
   "cell_type": "markdown",
   "metadata": {},
   "source": [
    "# Indexación"
   ]
  },
  {
   "cell_type": "markdown",
   "metadata": {},
   "source": [
    "66. Ordenar los índices de un DataFrame con la función sort_index.\n"
   ]
  },
  {
   "cell_type": "code",
   "execution_count": 117,
   "metadata": {},
   "outputs": [
    {
     "data": {
      "text/html": [
       "<div>\n",
       "<style scoped>\n",
       "    .dataframe tbody tr th:only-of-type {\n",
       "        vertical-align: middle;\n",
       "    }\n",
       "\n",
       "    .dataframe tbody tr th {\n",
       "        vertical-align: top;\n",
       "    }\n",
       "\n",
       "    .dataframe thead th {\n",
       "        text-align: right;\n",
       "    }\n",
       "</style>\n",
       "<table border=\"1\" class=\"dataframe\">\n",
       "  <thead>\n",
       "    <tr style=\"text-align: right;\">\n",
       "      <th></th>\n",
       "      <th>Marca</th>\n",
       "      <th>Cantidad_Empleados</th>\n",
       "      <th>País</th>\n",
       "      <th>Ciudad</th>\n",
       "      <th>Fundacion</th>\n",
       "    </tr>\n",
       "  </thead>\n",
       "  <tbody>\n",
       "    <tr>\n",
       "      <th>0</th>\n",
       "      <td>UnderGround</td>\n",
       "      <td>NaN</td>\n",
       "      <td>España</td>\n",
       "      <td>Las 3000</td>\n",
       "      <td>1996.0</td>\n",
       "    </tr>\n",
       "    <tr>\n",
       "      <th>1</th>\n",
       "      <td>Adidas</td>\n",
       "      <td>1000.0</td>\n",
       "      <td>Desconocido</td>\n",
       "      <td>Desconocido</td>\n",
       "      <td>0.0</td>\n",
       "    </tr>\n",
       "    <tr>\n",
       "      <th>2</th>\n",
       "      <td>Reebok</td>\n",
       "      <td>NaN</td>\n",
       "      <td>España</td>\n",
       "      <td>Marchena</td>\n",
       "      <td>1948.0</td>\n",
       "    </tr>\n",
       "    <tr>\n",
       "      <th>3</th>\n",
       "      <td>Jordan</td>\n",
       "      <td>6000.0</td>\n",
       "      <td>Desconocido</td>\n",
       "      <td>Desconocido</td>\n",
       "      <td>0.0</td>\n",
       "    </tr>\n",
       "    <tr>\n",
       "      <th>4</th>\n",
       "      <td>Puma</td>\n",
       "      <td>1000.0</td>\n",
       "      <td>Desconocido</td>\n",
       "      <td>Desconocido</td>\n",
       "      <td>0.0</td>\n",
       "    </tr>\n",
       "    <tr>\n",
       "      <th>5</th>\n",
       "      <td>Nike</td>\n",
       "      <td>2300.0</td>\n",
       "      <td>Desconocido</td>\n",
       "      <td>Desconocido</td>\n",
       "      <td>0.0</td>\n",
       "    </tr>\n",
       "  </tbody>\n",
       "</table>\n",
       "</div>"
      ],
      "text/plain": [
       "         Marca  Cantidad_Empleados         País       Ciudad  Fundacion\n",
       "0  UnderGround                 NaN       España     Las 3000     1996.0\n",
       "1       Adidas              1000.0  Desconocido  Desconocido        0.0\n",
       "2       Reebok                 NaN       España     Marchena     1948.0\n",
       "3       Jordan              6000.0  Desconocido  Desconocido        0.0\n",
       "4         Puma              1000.0  Desconocido  Desconocido        0.0\n",
       "5         Nike              2300.0  Desconocido  Desconocido        0.0"
      ]
     },
     "execution_count": 117,
     "metadata": {},
     "output_type": "execute_result"
    }
   ],
   "source": [
    "df_sorted = df_random.sort_index()\n",
    "df_sorted"
   ]
  },
  {
   "cell_type": "markdown",
   "metadata": {},
   "source": [
    "67. Seleccionar una columna de un DataFrame como índice con set_index.\n"
   ]
  },
  {
   "cell_type": "code",
   "execution_count": 118,
   "metadata": {},
   "outputs": [
    {
     "data": {
      "text/html": [
       "<div>\n",
       "<style scoped>\n",
       "    .dataframe tbody tr th:only-of-type {\n",
       "        vertical-align: middle;\n",
       "    }\n",
       "\n",
       "    .dataframe tbody tr th {\n",
       "        vertical-align: top;\n",
       "    }\n",
       "\n",
       "    .dataframe thead th {\n",
       "        text-align: right;\n",
       "    }\n",
       "</style>\n",
       "<table border=\"1\" class=\"dataframe\">\n",
       "  <thead>\n",
       "    <tr style=\"text-align: right;\">\n",
       "      <th></th>\n",
       "      <th>Cantidad_Empleados</th>\n",
       "      <th>País</th>\n",
       "      <th>Ciudad</th>\n",
       "      <th>Fundacion</th>\n",
       "    </tr>\n",
       "    <tr>\n",
       "      <th>Marca</th>\n",
       "      <th></th>\n",
       "      <th></th>\n",
       "      <th></th>\n",
       "      <th></th>\n",
       "    </tr>\n",
       "  </thead>\n",
       "  <tbody>\n",
       "    <tr>\n",
       "      <th>UnderGround</th>\n",
       "      <td>NaN</td>\n",
       "      <td>España</td>\n",
       "      <td>Las 3000</td>\n",
       "      <td>1996.0</td>\n",
       "    </tr>\n",
       "    <tr>\n",
       "      <th>Adidas</th>\n",
       "      <td>1000.0</td>\n",
       "      <td>Desconocido</td>\n",
       "      <td>Desconocido</td>\n",
       "      <td>0.0</td>\n",
       "    </tr>\n",
       "    <tr>\n",
       "      <th>Reebok</th>\n",
       "      <td>NaN</td>\n",
       "      <td>España</td>\n",
       "      <td>Marchena</td>\n",
       "      <td>1948.0</td>\n",
       "    </tr>\n",
       "    <tr>\n",
       "      <th>Jordan</th>\n",
       "      <td>6000.0</td>\n",
       "      <td>Desconocido</td>\n",
       "      <td>Desconocido</td>\n",
       "      <td>0.0</td>\n",
       "    </tr>\n",
       "    <tr>\n",
       "      <th>Puma</th>\n",
       "      <td>1000.0</td>\n",
       "      <td>Desconocido</td>\n",
       "      <td>Desconocido</td>\n",
       "      <td>0.0</td>\n",
       "    </tr>\n",
       "    <tr>\n",
       "      <th>Nike</th>\n",
       "      <td>2300.0</td>\n",
       "      <td>Desconocido</td>\n",
       "      <td>Desconocido</td>\n",
       "      <td>0.0</td>\n",
       "    </tr>\n",
       "  </tbody>\n",
       "</table>\n",
       "</div>"
      ],
      "text/plain": [
       "             Cantidad_Empleados         País       Ciudad  Fundacion\n",
       "Marca                                                               \n",
       "UnderGround                 NaN       España     Las 3000     1996.0\n",
       "Adidas                   1000.0  Desconocido  Desconocido        0.0\n",
       "Reebok                      NaN       España     Marchena     1948.0\n",
       "Jordan                   6000.0  Desconocido  Desconocido        0.0\n",
       "Puma                     1000.0  Desconocido  Desconocido        0.0\n",
       "Nike                     2300.0  Desconocido  Desconocido        0.0"
      ]
     },
     "execution_count": 118,
     "metadata": {},
     "output_type": "execute_result"
    }
   ],
   "source": [
    "df_newindex = df_random.set_index('Marca')\n",
    "df_newindex"
   ]
  },
  {
   "cell_type": "markdown",
   "metadata": {},
   "source": [
    "68. Especificar nombres de índices arbitrarios a un objeto DataFrame.\n"
   ]
  },
  {
   "cell_type": "code",
   "execution_count": 119,
   "metadata": {},
   "outputs": [
    {
     "data": {
      "text/html": [
       "<div>\n",
       "<style scoped>\n",
       "    .dataframe tbody tr th:only-of-type {\n",
       "        vertical-align: middle;\n",
       "    }\n",
       "\n",
       "    .dataframe tbody tr th {\n",
       "        vertical-align: top;\n",
       "    }\n",
       "\n",
       "    .dataframe thead th {\n",
       "        text-align: right;\n",
       "    }\n",
       "</style>\n",
       "<table border=\"1\" class=\"dataframe\">\n",
       "  <thead>\n",
       "    <tr style=\"text-align: right;\">\n",
       "      <th></th>\n",
       "      <th>Cantidad_Empleados</th>\n",
       "      <th>País</th>\n",
       "      <th>Ciudad</th>\n",
       "      <th>Fundacion</th>\n",
       "    </tr>\n",
       "    <tr>\n",
       "      <th>Marca</th>\n",
       "      <th></th>\n",
       "      <th></th>\n",
       "      <th></th>\n",
       "      <th></th>\n",
       "    </tr>\n",
       "  </thead>\n",
       "  <tbody>\n",
       "    <tr>\n",
       "      <th>Index4</th>\n",
       "      <td>NaN</td>\n",
       "      <td>España</td>\n",
       "      <td>Las 3000</td>\n",
       "      <td>1996.0</td>\n",
       "    </tr>\n",
       "    <tr>\n",
       "      <th>Index5</th>\n",
       "      <td>1000.0</td>\n",
       "      <td>Desconocido</td>\n",
       "      <td>Desconocido</td>\n",
       "      <td>0.0</td>\n",
       "    </tr>\n",
       "    <tr>\n",
       "      <th>Index3</th>\n",
       "      <td>NaN</td>\n",
       "      <td>España</td>\n",
       "      <td>Marchena</td>\n",
       "      <td>1948.0</td>\n",
       "    </tr>\n",
       "    <tr>\n",
       "      <th>Index2</th>\n",
       "      <td>6000.0</td>\n",
       "      <td>Desconocido</td>\n",
       "      <td>Desconocido</td>\n",
       "      <td>0.0</td>\n",
       "    </tr>\n",
       "    <tr>\n",
       "      <th>Index1</th>\n",
       "      <td>1000.0</td>\n",
       "      <td>Desconocido</td>\n",
       "      <td>Desconocido</td>\n",
       "      <td>0.0</td>\n",
       "    </tr>\n",
       "    <tr>\n",
       "      <th>Index6</th>\n",
       "      <td>2300.0</td>\n",
       "      <td>Desconocido</td>\n",
       "      <td>Desconocido</td>\n",
       "      <td>0.0</td>\n",
       "    </tr>\n",
       "  </tbody>\n",
       "</table>\n",
       "</div>"
      ],
      "text/plain": [
       "        Cantidad_Empleados         País       Ciudad  Fundacion\n",
       "Marca                                                          \n",
       "Index4                 NaN       España     Las 3000     1996.0\n",
       "Index5              1000.0  Desconocido  Desconocido        0.0\n",
       "Index3                 NaN       España     Marchena     1948.0\n",
       "Index2              6000.0  Desconocido  Desconocido        0.0\n",
       "Index1              1000.0  Desconocido  Desconocido        0.0\n",
       "Index6              2300.0  Desconocido  Desconocido        0.0"
      ]
     },
     "execution_count": 119,
     "metadata": {},
     "output_type": "execute_result"
    }
   ],
   "source": [
    "df_indexed_renamed = df_newindex.rename(index={'Puma': 'Index1', 'Jordan': 'Index2', 'Reebok': 'Index3', 'UnderGround': 'Index4', 'Adidas': 'Index5', 'Nike': 'Index6'})\n",
    "df_indexed_renamed"
   ]
  },
  {
   "cell_type": "markdown",
   "metadata": {},
   "source": [
    "69. Convertir los índices de un DataFrame en una columna con la función reset_index.\n"
   ]
  },
  {
   "cell_type": "code",
   "execution_count": 120,
   "metadata": {},
   "outputs": [
    {
     "data": {
      "text/html": [
       "<div>\n",
       "<style scoped>\n",
       "    .dataframe tbody tr th:only-of-type {\n",
       "        vertical-align: middle;\n",
       "    }\n",
       "\n",
       "    .dataframe tbody tr th {\n",
       "        vertical-align: top;\n",
       "    }\n",
       "\n",
       "    .dataframe thead th {\n",
       "        text-align: right;\n",
       "    }\n",
       "</style>\n",
       "<table border=\"1\" class=\"dataframe\">\n",
       "  <thead>\n",
       "    <tr style=\"text-align: right;\">\n",
       "      <th></th>\n",
       "      <th>Marca</th>\n",
       "      <th>Cantidad_Empleados</th>\n",
       "      <th>País</th>\n",
       "      <th>Ciudad</th>\n",
       "      <th>Fundacion</th>\n",
       "    </tr>\n",
       "  </thead>\n",
       "  <tbody>\n",
       "    <tr>\n",
       "      <th>0</th>\n",
       "      <td>UnderGround</td>\n",
       "      <td>NaN</td>\n",
       "      <td>España</td>\n",
       "      <td>Las 3000</td>\n",
       "      <td>1996.0</td>\n",
       "    </tr>\n",
       "    <tr>\n",
       "      <th>1</th>\n",
       "      <td>Adidas</td>\n",
       "      <td>1000.0</td>\n",
       "      <td>Desconocido</td>\n",
       "      <td>Desconocido</td>\n",
       "      <td>0.0</td>\n",
       "    </tr>\n",
       "    <tr>\n",
       "      <th>2</th>\n",
       "      <td>Reebok</td>\n",
       "      <td>NaN</td>\n",
       "      <td>España</td>\n",
       "      <td>Marchena</td>\n",
       "      <td>1948.0</td>\n",
       "    </tr>\n",
       "    <tr>\n",
       "      <th>3</th>\n",
       "      <td>Jordan</td>\n",
       "      <td>6000.0</td>\n",
       "      <td>Desconocido</td>\n",
       "      <td>Desconocido</td>\n",
       "      <td>0.0</td>\n",
       "    </tr>\n",
       "    <tr>\n",
       "      <th>4</th>\n",
       "      <td>Puma</td>\n",
       "      <td>1000.0</td>\n",
       "      <td>Desconocido</td>\n",
       "      <td>Desconocido</td>\n",
       "      <td>0.0</td>\n",
       "    </tr>\n",
       "    <tr>\n",
       "      <th>5</th>\n",
       "      <td>Nike</td>\n",
       "      <td>2300.0</td>\n",
       "      <td>Desconocido</td>\n",
       "      <td>Desconocido</td>\n",
       "      <td>0.0</td>\n",
       "    </tr>\n",
       "  </tbody>\n",
       "</table>\n",
       "</div>"
      ],
      "text/plain": [
       "         Marca  Cantidad_Empleados         País       Ciudad  Fundacion\n",
       "0  UnderGround                 NaN       España     Las 3000     1996.0\n",
       "1       Adidas              1000.0  Desconocido  Desconocido        0.0\n",
       "2       Reebok                 NaN       España     Marchena     1948.0\n",
       "3       Jordan              6000.0  Desconocido  Desconocido        0.0\n",
       "4         Puma              1000.0  Desconocido  Desconocido        0.0\n",
       "5         Nike              2300.0  Desconocido  Desconocido        0.0"
      ]
     },
     "execution_count": 120,
     "metadata": {},
     "output_type": "execute_result"
    }
   ],
   "source": [
    "df_reset = df_newindex.reset_index()\n",
    "df_reset"
   ]
  },
  {
   "cell_type": "markdown",
   "metadata": {},
   "source": [
    "70. Reiniciar un índice numérico después de eliminar algunos registros con reset_index.\n"
   ]
  },
  {
   "cell_type": "code",
   "execution_count": 121,
   "metadata": {},
   "outputs": [
    {
     "data": {
      "text/html": [
       "<div>\n",
       "<style scoped>\n",
       "    .dataframe tbody tr th:only-of-type {\n",
       "        vertical-align: middle;\n",
       "    }\n",
       "\n",
       "    .dataframe tbody tr th {\n",
       "        vertical-align: top;\n",
       "    }\n",
       "\n",
       "    .dataframe thead th {\n",
       "        text-align: right;\n",
       "    }\n",
       "</style>\n",
       "<table border=\"1\" class=\"dataframe\">\n",
       "  <thead>\n",
       "    <tr style=\"text-align: right;\">\n",
       "      <th></th>\n",
       "      <th>Marca</th>\n",
       "      <th>Cantidad_Empleados</th>\n",
       "      <th>País</th>\n",
       "      <th>Ciudad</th>\n",
       "      <th>Fundacion</th>\n",
       "    </tr>\n",
       "  </thead>\n",
       "  <tbody>\n",
       "    <tr>\n",
       "      <th>0</th>\n",
       "      <td>UnderGround</td>\n",
       "      <td>NaN</td>\n",
       "      <td>España</td>\n",
       "      <td>Las 3000</td>\n",
       "      <td>1996.0</td>\n",
       "    </tr>\n",
       "    <tr>\n",
       "      <th>1</th>\n",
       "      <td>Adidas</td>\n",
       "      <td>1000.0</td>\n",
       "      <td>Desconocido</td>\n",
       "      <td>Desconocido</td>\n",
       "      <td>0.0</td>\n",
       "    </tr>\n",
       "    <tr>\n",
       "      <th>2</th>\n",
       "      <td>Reebok</td>\n",
       "      <td>NaN</td>\n",
       "      <td>España</td>\n",
       "      <td>Marchena</td>\n",
       "      <td>1948.0</td>\n",
       "    </tr>\n",
       "    <tr>\n",
       "      <th>3</th>\n",
       "      <td>Jordan</td>\n",
       "      <td>6000.0</td>\n",
       "      <td>Desconocido</td>\n",
       "      <td>Desconocido</td>\n",
       "      <td>0.0</td>\n",
       "    </tr>\n",
       "    <tr>\n",
       "      <th>4</th>\n",
       "      <td>Puma</td>\n",
       "      <td>1000.0</td>\n",
       "      <td>Desconocido</td>\n",
       "      <td>Desconocido</td>\n",
       "      <td>0.0</td>\n",
       "    </tr>\n",
       "    <tr>\n",
       "      <th>5</th>\n",
       "      <td>Nike</td>\n",
       "      <td>2300.0</td>\n",
       "      <td>Desconocido</td>\n",
       "      <td>Desconocido</td>\n",
       "      <td>0.0</td>\n",
       "    </tr>\n",
       "  </tbody>\n",
       "</table>\n",
       "</div>"
      ],
      "text/plain": [
       "         Marca  Cantidad_Empleados         País       Ciudad  Fundacion\n",
       "0  UnderGround                 NaN       España     Las 3000     1996.0\n",
       "1       Adidas              1000.0  Desconocido  Desconocido        0.0\n",
       "2       Reebok                 NaN       España     Marchena     1948.0\n",
       "3       Jordan              6000.0  Desconocido  Desconocido        0.0\n",
       "4         Puma              1000.0  Desconocido  Desconocido        0.0\n",
       "5         Nike              2300.0  Desconocido  Desconocido        0.0"
      ]
     },
     "execution_count": 121,
     "metadata": {},
     "output_type": "execute_result"
    }
   ],
   "source": [
    "df_reset_index = df_random.reset_index(drop=True)\n",
    "df_reset_index"
   ]
  },
  {
   "cell_type": "markdown",
   "metadata": {},
   "source": [
    "# Ordenación y clasificación\n"
   ]
  },
  {
   "cell_type": "markdown",
   "metadata": {},
   "source": [
    "71. Ordenar los valores de las columnas de un DataFrame con sort_values.\n"
   ]
  },
  {
   "cell_type": "code",
   "execution_count": 122,
   "metadata": {},
   "outputs": [
    {
     "data": {
      "text/html": [
       "<div>\n",
       "<style scoped>\n",
       "    .dataframe tbody tr th:only-of-type {\n",
       "        vertical-align: middle;\n",
       "    }\n",
       "\n",
       "    .dataframe tbody tr th {\n",
       "        vertical-align: top;\n",
       "    }\n",
       "\n",
       "    .dataframe thead th {\n",
       "        text-align: right;\n",
       "    }\n",
       "</style>\n",
       "<table border=\"1\" class=\"dataframe\">\n",
       "  <thead>\n",
       "    <tr style=\"text-align: right;\">\n",
       "      <th></th>\n",
       "      <th>Marca</th>\n",
       "      <th>Cantidad_Empleados</th>\n",
       "      <th>País</th>\n",
       "      <th>Ciudad</th>\n",
       "      <th>Fundacion</th>\n",
       "    </tr>\n",
       "  </thead>\n",
       "  <tbody>\n",
       "    <tr>\n",
       "      <th>3</th>\n",
       "      <td>Jordan</td>\n",
       "      <td>6000.0</td>\n",
       "      <td>Desconocido</td>\n",
       "      <td>Desconocido</td>\n",
       "      <td>0.0</td>\n",
       "    </tr>\n",
       "    <tr>\n",
       "      <th>5</th>\n",
       "      <td>Nike</td>\n",
       "      <td>2300.0</td>\n",
       "      <td>Desconocido</td>\n",
       "      <td>Desconocido</td>\n",
       "      <td>0.0</td>\n",
       "    </tr>\n",
       "    <tr>\n",
       "      <th>1</th>\n",
       "      <td>Adidas</td>\n",
       "      <td>1000.0</td>\n",
       "      <td>Desconocido</td>\n",
       "      <td>Desconocido</td>\n",
       "      <td>0.0</td>\n",
       "    </tr>\n",
       "    <tr>\n",
       "      <th>4</th>\n",
       "      <td>Puma</td>\n",
       "      <td>1000.0</td>\n",
       "      <td>Desconocido</td>\n",
       "      <td>Desconocido</td>\n",
       "      <td>0.0</td>\n",
       "    </tr>\n",
       "    <tr>\n",
       "      <th>0</th>\n",
       "      <td>UnderGround</td>\n",
       "      <td>NaN</td>\n",
       "      <td>España</td>\n",
       "      <td>Las 3000</td>\n",
       "      <td>1996.0</td>\n",
       "    </tr>\n",
       "    <tr>\n",
       "      <th>2</th>\n",
       "      <td>Reebok</td>\n",
       "      <td>NaN</td>\n",
       "      <td>España</td>\n",
       "      <td>Marchena</td>\n",
       "      <td>1948.0</td>\n",
       "    </tr>\n",
       "  </tbody>\n",
       "</table>\n",
       "</div>"
      ],
      "text/plain": [
       "         Marca  Cantidad_Empleados         País       Ciudad  Fundacion\n",
       "3       Jordan              6000.0  Desconocido  Desconocido        0.0\n",
       "5         Nike              2300.0  Desconocido  Desconocido        0.0\n",
       "1       Adidas              1000.0  Desconocido  Desconocido        0.0\n",
       "4         Puma              1000.0  Desconocido  Desconocido        0.0\n",
       "0  UnderGround                 NaN       España     Las 3000     1996.0\n",
       "2       Reebok                 NaN       España     Marchena     1948.0"
      ]
     },
     "execution_count": 122,
     "metadata": {},
     "output_type": "execute_result"
    }
   ],
   "source": [
    "df_values = df_random.sort_values(by='Cantidad_Empleados', ascending=False)\n",
    "df_values"
   ]
  },
  {
   "cell_type": "markdown",
   "metadata": {},
   "source": [
    "72. Ordenar los registros de un DataFrame por múltiples columnas.\n"
   ]
  },
  {
   "cell_type": "code",
   "execution_count": 123,
   "metadata": {},
   "outputs": [
    {
     "data": {
      "text/html": [
       "<div>\n",
       "<style scoped>\n",
       "    .dataframe tbody tr th:only-of-type {\n",
       "        vertical-align: middle;\n",
       "    }\n",
       "\n",
       "    .dataframe tbody tr th {\n",
       "        vertical-align: top;\n",
       "    }\n",
       "\n",
       "    .dataframe thead th {\n",
       "        text-align: right;\n",
       "    }\n",
       "</style>\n",
       "<table border=\"1\" class=\"dataframe\">\n",
       "  <thead>\n",
       "    <tr style=\"text-align: right;\">\n",
       "      <th></th>\n",
       "      <th>Marca</th>\n",
       "      <th>Cantidad_Empleados</th>\n",
       "      <th>País</th>\n",
       "      <th>Ciudad</th>\n",
       "      <th>Fundacion</th>\n",
       "    </tr>\n",
       "  </thead>\n",
       "  <tbody>\n",
       "    <tr>\n",
       "      <th>3</th>\n",
       "      <td>Jordan</td>\n",
       "      <td>6000.0</td>\n",
       "      <td>Desconocido</td>\n",
       "      <td>Desconocido</td>\n",
       "      <td>0.0</td>\n",
       "    </tr>\n",
       "    <tr>\n",
       "      <th>5</th>\n",
       "      <td>Nike</td>\n",
       "      <td>2300.0</td>\n",
       "      <td>Desconocido</td>\n",
       "      <td>Desconocido</td>\n",
       "      <td>0.0</td>\n",
       "    </tr>\n",
       "    <tr>\n",
       "      <th>1</th>\n",
       "      <td>Adidas</td>\n",
       "      <td>1000.0</td>\n",
       "      <td>Desconocido</td>\n",
       "      <td>Desconocido</td>\n",
       "      <td>0.0</td>\n",
       "    </tr>\n",
       "    <tr>\n",
       "      <th>4</th>\n",
       "      <td>Puma</td>\n",
       "      <td>1000.0</td>\n",
       "      <td>Desconocido</td>\n",
       "      <td>Desconocido</td>\n",
       "      <td>0.0</td>\n",
       "    </tr>\n",
       "    <tr>\n",
       "      <th>2</th>\n",
       "      <td>Reebok</td>\n",
       "      <td>NaN</td>\n",
       "      <td>España</td>\n",
       "      <td>Marchena</td>\n",
       "      <td>1948.0</td>\n",
       "    </tr>\n",
       "    <tr>\n",
       "      <th>0</th>\n",
       "      <td>UnderGround</td>\n",
       "      <td>NaN</td>\n",
       "      <td>España</td>\n",
       "      <td>Las 3000</td>\n",
       "      <td>1996.0</td>\n",
       "    </tr>\n",
       "  </tbody>\n",
       "</table>\n",
       "</div>"
      ],
      "text/plain": [
       "         Marca  Cantidad_Empleados         País       Ciudad  Fundacion\n",
       "3       Jordan              6000.0  Desconocido  Desconocido        0.0\n",
       "5         Nike              2300.0  Desconocido  Desconocido        0.0\n",
       "1       Adidas              1000.0  Desconocido  Desconocido        0.0\n",
       "4         Puma              1000.0  Desconocido  Desconocido        0.0\n",
       "2       Reebok                 NaN       España     Marchena     1948.0\n",
       "0  UnderGround                 NaN       España     Las 3000     1996.0"
      ]
     },
     "execution_count": 123,
     "metadata": {},
     "output_type": "execute_result"
    }
   ],
   "source": [
    "df_multiple = df_random.sort_values(by=['Cantidad_Empleados', 'Fundacion'], ascending=[False, True])\n",
    "df_multiple"
   ]
  },
  {
   "cell_type": "markdown",
   "metadata": {},
   "source": [
    "# Aplicación de funciones y agrupaciones\n"
   ]
  },
  {
   "cell_type": "markdown",
   "metadata": {},
   "source": [
    "73. Realizar consultas sobre los elementos de un objeto DataFrame con la función query.\n"
   ]
  },
  {
   "cell_type": "code",
   "execution_count": 124,
   "metadata": {},
   "outputs": [
    {
     "data": {
      "text/html": [
       "<div>\n",
       "<style scoped>\n",
       "    .dataframe tbody tr th:only-of-type {\n",
       "        vertical-align: middle;\n",
       "    }\n",
       "\n",
       "    .dataframe tbody tr th {\n",
       "        vertical-align: top;\n",
       "    }\n",
       "\n",
       "    .dataframe thead th {\n",
       "        text-align: right;\n",
       "    }\n",
       "</style>\n",
       "<table border=\"1\" class=\"dataframe\">\n",
       "  <thead>\n",
       "    <tr style=\"text-align: right;\">\n",
       "      <th></th>\n",
       "      <th>Marca</th>\n",
       "      <th>Cantidad_Empleados</th>\n",
       "      <th>País</th>\n",
       "      <th>Ciudad</th>\n",
       "      <th>Fundacion</th>\n",
       "    </tr>\n",
       "  </thead>\n",
       "  <tbody>\n",
       "    <tr>\n",
       "      <th>1</th>\n",
       "      <td>Adidas</td>\n",
       "      <td>1000.0</td>\n",
       "      <td>Desconocido</td>\n",
       "      <td>Desconocido</td>\n",
       "      <td>0.0</td>\n",
       "    </tr>\n",
       "    <tr>\n",
       "      <th>3</th>\n",
       "      <td>Jordan</td>\n",
       "      <td>6000.0</td>\n",
       "      <td>Desconocido</td>\n",
       "      <td>Desconocido</td>\n",
       "      <td>0.0</td>\n",
       "    </tr>\n",
       "    <tr>\n",
       "      <th>4</th>\n",
       "      <td>Puma</td>\n",
       "      <td>1000.0</td>\n",
       "      <td>Desconocido</td>\n",
       "      <td>Desconocido</td>\n",
       "      <td>0.0</td>\n",
       "    </tr>\n",
       "    <tr>\n",
       "      <th>5</th>\n",
       "      <td>Nike</td>\n",
       "      <td>2300.0</td>\n",
       "      <td>Desconocido</td>\n",
       "      <td>Desconocido</td>\n",
       "      <td>0.0</td>\n",
       "    </tr>\n",
       "  </tbody>\n",
       "</table>\n",
       "</div>"
      ],
      "text/plain": [
       "    Marca  Cantidad_Empleados         País       Ciudad  Fundacion\n",
       "1  Adidas              1000.0  Desconocido  Desconocido        0.0\n",
       "3  Jordan              6000.0  Desconocido  Desconocido        0.0\n",
       "4    Puma              1000.0  Desconocido  Desconocido        0.0\n",
       "5    Nike              2300.0  Desconocido  Desconocido        0.0"
      ]
     },
     "execution_count": 124,
     "metadata": {},
     "output_type": "execute_result"
    }
   ],
   "source": [
    "df_query = df_random.query('Cantidad_Empleados >= 1000')\n",
    "df_query"
   ]
  },
  {
   "cell_type": "markdown",
   "metadata": {},
   "source": [
    "74. Combinar dos DataFrame y dejar en cada columna el valor mínimo de la suma por columna.\n"
   ]
  },
  {
   "cell_type": "code",
   "execution_count": 125,
   "metadata": {},
   "outputs": [
    {
     "data": {
      "text/html": [
       "<div>\n",
       "<style scoped>\n",
       "    .dataframe tbody tr th:only-of-type {\n",
       "        vertical-align: middle;\n",
       "    }\n",
       "\n",
       "    .dataframe tbody tr th {\n",
       "        vertical-align: top;\n",
       "    }\n",
       "\n",
       "    .dataframe thead th {\n",
       "        text-align: right;\n",
       "    }\n",
       "</style>\n",
       "<table border=\"1\" class=\"dataframe\">\n",
       "  <thead>\n",
       "    <tr style=\"text-align: right;\">\n",
       "      <th></th>\n",
       "      <th>Cantidad_Empleados</th>\n",
       "      <th>Fundacion</th>\n",
       "    </tr>\n",
       "  </thead>\n",
       "  <tbody>\n",
       "    <tr>\n",
       "      <th>Empresa1</th>\n",
       "      <td>1000.0</td>\n",
       "      <td>1948.0</td>\n",
       "    </tr>\n",
       "    <tr>\n",
       "      <th>Empresa2</th>\n",
       "      <td>1000.0</td>\n",
       "      <td>1948.0</td>\n",
       "    </tr>\n",
       "    <tr>\n",
       "      <th>Empresa3</th>\n",
       "      <td>1000.0</td>\n",
       "      <td>1948.0</td>\n",
       "    </tr>\n",
       "    <tr>\n",
       "      <th>Empresa4</th>\n",
       "      <td>1000.0</td>\n",
       "      <td>1948.0</td>\n",
       "    </tr>\n",
       "    <tr>\n",
       "      <th>0</th>\n",
       "      <td>1000.0</td>\n",
       "      <td>1948.0</td>\n",
       "    </tr>\n",
       "    <tr>\n",
       "      <th>1</th>\n",
       "      <td>1000.0</td>\n",
       "      <td>1948.0</td>\n",
       "    </tr>\n",
       "    <tr>\n",
       "      <th>2</th>\n",
       "      <td>1000.0</td>\n",
       "      <td>1948.0</td>\n",
       "    </tr>\n",
       "    <tr>\n",
       "      <th>3</th>\n",
       "      <td>1000.0</td>\n",
       "      <td>1948.0</td>\n",
       "    </tr>\n",
       "    <tr>\n",
       "      <th>4</th>\n",
       "      <td>1000.0</td>\n",
       "      <td>1948.0</td>\n",
       "    </tr>\n",
       "  </tbody>\n",
       "</table>\n",
       "</div>"
      ],
      "text/plain": [
       "          Cantidad_Empleados  Fundacion\n",
       "Empresa1              1000.0     1948.0\n",
       "Empresa2              1000.0     1948.0\n",
       "Empresa3              1000.0     1948.0\n",
       "Empresa4              1000.0     1948.0\n",
       "0                     1000.0     1948.0\n",
       "1                     1000.0     1948.0\n",
       "2                     1000.0     1948.0\n",
       "3                     1000.0     1948.0\n",
       "4                     1000.0     1948.0"
      ]
     },
     "execution_count": 125,
     "metadata": {},
     "output_type": "execute_result"
    }
   ],
   "source": [
    "numeric_cols_renamed = df_renamed.select_dtypes(include='number')\n",
    "numeric_cols_nuevo = df_nuevo.select_dtypes(include='number')\n",
    "\n",
    "df_combined_min = numeric_cols_renamed.combine(numeric_cols_nuevo, lambda s1, s2: s1.add(s2, fill_value=0).min())\n",
    "df_combined_min"
   ]
  },
  {
   "cell_type": "markdown",
   "metadata": {},
   "source": [
    "75. Aplicar una función a todos los elementos de un DataFrame con la función apply.\n"
   ]
  },
  {
   "cell_type": "code",
   "execution_count": 126,
   "metadata": {},
   "outputs": [
    {
     "name": "stderr",
     "output_type": "stream",
     "text": [
      "/tmp/ipykernel_2206/3675769154.py:6: FutureWarning: DataFrame.applymap has been deprecated. Use DataFrame.map instead.\n",
      "  df_uppercase = df_random.applymap(to_uppercase)\n"
     ]
    },
    {
     "data": {
      "text/html": [
       "<div>\n",
       "<style scoped>\n",
       "    .dataframe tbody tr th:only-of-type {\n",
       "        vertical-align: middle;\n",
       "    }\n",
       "\n",
       "    .dataframe tbody tr th {\n",
       "        vertical-align: top;\n",
       "    }\n",
       "\n",
       "    .dataframe thead th {\n",
       "        text-align: right;\n",
       "    }\n",
       "</style>\n",
       "<table border=\"1\" class=\"dataframe\">\n",
       "  <thead>\n",
       "    <tr style=\"text-align: right;\">\n",
       "      <th></th>\n",
       "      <th>Marca</th>\n",
       "      <th>Cantidad_Empleados</th>\n",
       "      <th>País</th>\n",
       "      <th>Ciudad</th>\n",
       "      <th>Fundacion</th>\n",
       "    </tr>\n",
       "  </thead>\n",
       "  <tbody>\n",
       "    <tr>\n",
       "      <th>0</th>\n",
       "      <td>UNDERGROUND</td>\n",
       "      <td>NaN</td>\n",
       "      <td>ESPAÑA</td>\n",
       "      <td>LAS 3000</td>\n",
       "      <td>1996.0</td>\n",
       "    </tr>\n",
       "    <tr>\n",
       "      <th>1</th>\n",
       "      <td>ADIDAS</td>\n",
       "      <td>1000.0</td>\n",
       "      <td>DESCONOCIDO</td>\n",
       "      <td>DESCONOCIDO</td>\n",
       "      <td>0.0</td>\n",
       "    </tr>\n",
       "    <tr>\n",
       "      <th>2</th>\n",
       "      <td>REEBOK</td>\n",
       "      <td>NaN</td>\n",
       "      <td>ESPAÑA</td>\n",
       "      <td>MARCHENA</td>\n",
       "      <td>1948.0</td>\n",
       "    </tr>\n",
       "    <tr>\n",
       "      <th>3</th>\n",
       "      <td>JORDAN</td>\n",
       "      <td>6000.0</td>\n",
       "      <td>DESCONOCIDO</td>\n",
       "      <td>DESCONOCIDO</td>\n",
       "      <td>0.0</td>\n",
       "    </tr>\n",
       "    <tr>\n",
       "      <th>4</th>\n",
       "      <td>PUMA</td>\n",
       "      <td>1000.0</td>\n",
       "      <td>DESCONOCIDO</td>\n",
       "      <td>DESCONOCIDO</td>\n",
       "      <td>0.0</td>\n",
       "    </tr>\n",
       "    <tr>\n",
       "      <th>5</th>\n",
       "      <td>NIKE</td>\n",
       "      <td>2300.0</td>\n",
       "      <td>DESCONOCIDO</td>\n",
       "      <td>DESCONOCIDO</td>\n",
       "      <td>0.0</td>\n",
       "    </tr>\n",
       "  </tbody>\n",
       "</table>\n",
       "</div>"
      ],
      "text/plain": [
       "         Marca  Cantidad_Empleados         País       Ciudad  Fundacion\n",
       "0  UNDERGROUND                 NaN       ESPAÑA     LAS 3000     1996.0\n",
       "1       ADIDAS              1000.0  DESCONOCIDO  DESCONOCIDO        0.0\n",
       "2       REEBOK                 NaN       ESPAÑA     MARCHENA     1948.0\n",
       "3       JORDAN              6000.0  DESCONOCIDO  DESCONOCIDO        0.0\n",
       "4         PUMA              1000.0  DESCONOCIDO  DESCONOCIDO        0.0\n",
       "5         NIKE              2300.0  DESCONOCIDO  DESCONOCIDO        0.0"
      ]
     },
     "execution_count": 126,
     "metadata": {},
     "output_type": "execute_result"
    }
   ],
   "source": [
    "def to_uppercase(x):\n",
    "    if isinstance(x, str):\n",
    "        return x.upper()\n",
    "    return x\n",
    "\n",
    "df_uppercase = df_random.applymap(to_uppercase)\n",
    "df_uppercase\n",
    "\n",
    "#**"
   ]
  },
  {
   "cell_type": "markdown",
   "metadata": {},
   "source": [
    "76.Generar una representación de los elementos de un DataFrame con applymap.\n"
   ]
  },
  {
   "cell_type": "code",
   "execution_count": 127,
   "metadata": {},
   "outputs": [
    {
     "name": "stderr",
     "output_type": "stream",
     "text": [
      "/tmp/ipykernel_2206/3482271462.py:4: FutureWarning: DataFrame.applymap has been deprecated. Use DataFrame.map instead.\n",
      "  df_representation = df_random.applymap(represent_element)\n"
     ]
    },
    {
     "data": {
      "text/html": [
       "<div>\n",
       "<style scoped>\n",
       "    .dataframe tbody tr th:only-of-type {\n",
       "        vertical-align: middle;\n",
       "    }\n",
       "\n",
       "    .dataframe tbody tr th {\n",
       "        vertical-align: top;\n",
       "    }\n",
       "\n",
       "    .dataframe thead th {\n",
       "        text-align: right;\n",
       "    }\n",
       "</style>\n",
       "<table border=\"1\" class=\"dataframe\">\n",
       "  <thead>\n",
       "    <tr style=\"text-align: right;\">\n",
       "      <th></th>\n",
       "      <th>Marca</th>\n",
       "      <th>Cantidad_Empleados</th>\n",
       "      <th>País</th>\n",
       "      <th>Ciudad</th>\n",
       "      <th>Fundacion</th>\n",
       "    </tr>\n",
       "  </thead>\n",
       "  <tbody>\n",
       "    <tr>\n",
       "      <th>0</th>\n",
       "      <td>Value: UnderGround</td>\n",
       "      <td>Value: nan</td>\n",
       "      <td>Value: España</td>\n",
       "      <td>Value: Las 3000</td>\n",
       "      <td>Value: 1996.0</td>\n",
       "    </tr>\n",
       "    <tr>\n",
       "      <th>1</th>\n",
       "      <td>Value: Adidas</td>\n",
       "      <td>Value: 1000.0</td>\n",
       "      <td>Value: Desconocido</td>\n",
       "      <td>Value: Desconocido</td>\n",
       "      <td>Value: 0.0</td>\n",
       "    </tr>\n",
       "    <tr>\n",
       "      <th>2</th>\n",
       "      <td>Value: Reebok</td>\n",
       "      <td>Value: nan</td>\n",
       "      <td>Value: España</td>\n",
       "      <td>Value: Marchena</td>\n",
       "      <td>Value: 1948.0</td>\n",
       "    </tr>\n",
       "    <tr>\n",
       "      <th>3</th>\n",
       "      <td>Value: Jordan</td>\n",
       "      <td>Value: 6000.0</td>\n",
       "      <td>Value: Desconocido</td>\n",
       "      <td>Value: Desconocido</td>\n",
       "      <td>Value: 0.0</td>\n",
       "    </tr>\n",
       "    <tr>\n",
       "      <th>4</th>\n",
       "      <td>Value: Puma</td>\n",
       "      <td>Value: 1000.0</td>\n",
       "      <td>Value: Desconocido</td>\n",
       "      <td>Value: Desconocido</td>\n",
       "      <td>Value: 0.0</td>\n",
       "    </tr>\n",
       "    <tr>\n",
       "      <th>5</th>\n",
       "      <td>Value: Nike</td>\n",
       "      <td>Value: 2300.0</td>\n",
       "      <td>Value: Desconocido</td>\n",
       "      <td>Value: Desconocido</td>\n",
       "      <td>Value: 0.0</td>\n",
       "    </tr>\n",
       "  </tbody>\n",
       "</table>\n",
       "</div>"
      ],
      "text/plain": [
       "                Marca Cantidad_Empleados                País  \\\n",
       "0  Value: UnderGround         Value: nan       Value: España   \n",
       "1       Value: Adidas      Value: 1000.0  Value: Desconocido   \n",
       "2       Value: Reebok         Value: nan       Value: España   \n",
       "3       Value: Jordan      Value: 6000.0  Value: Desconocido   \n",
       "4         Value: Puma      Value: 1000.0  Value: Desconocido   \n",
       "5         Value: Nike      Value: 2300.0  Value: Desconocido   \n",
       "\n",
       "               Ciudad      Fundacion  \n",
       "0     Value: Las 3000  Value: 1996.0  \n",
       "1  Value: Desconocido     Value: 0.0  \n",
       "2     Value: Marchena  Value: 1948.0  \n",
       "3  Value: Desconocido     Value: 0.0  \n",
       "4  Value: Desconocido     Value: 0.0  \n",
       "5  Value: Desconocido     Value: 0.0  "
      ]
     },
     "execution_count": 127,
     "metadata": {},
     "output_type": "execute_result"
    }
   ],
   "source": [
    "def represent_element(x):\n",
    "    return f\"Value: {x}\"\n",
    "\n",
    "df_representation = df_random.applymap(represent_element)\n",
    "df_representation"
   ]
  },
  {
   "cell_type": "markdown",
   "metadata": {},
   "source": [
    "77. Reemplazar valores de una columna con la función map de un DataFrame.\n"
   ]
  },
  {
   "cell_type": "code",
   "execution_count": 128,
   "metadata": {},
   "outputs": [
    {
     "data": {
      "text/html": [
       "<div>\n",
       "<style scoped>\n",
       "    .dataframe tbody tr th:only-of-type {\n",
       "        vertical-align: middle;\n",
       "    }\n",
       "\n",
       "    .dataframe tbody tr th {\n",
       "        vertical-align: top;\n",
       "    }\n",
       "\n",
       "    .dataframe thead th {\n",
       "        text-align: right;\n",
       "    }\n",
       "</style>\n",
       "<table border=\"1\" class=\"dataframe\">\n",
       "  <thead>\n",
       "    <tr style=\"text-align: right;\">\n",
       "      <th></th>\n",
       "      <th>Marca</th>\n",
       "      <th>Cantidad_Empleados</th>\n",
       "      <th>País</th>\n",
       "      <th>Ciudad</th>\n",
       "      <th>Fundacion</th>\n",
       "    </tr>\n",
       "  </thead>\n",
       "  <tbody>\n",
       "    <tr>\n",
       "      <th>0</th>\n",
       "      <td>NaN</td>\n",
       "      <td>NaN</td>\n",
       "      <td>España</td>\n",
       "      <td>Las 3000</td>\n",
       "      <td>1996.0</td>\n",
       "    </tr>\n",
       "    <tr>\n",
       "      <th>1</th>\n",
       "      <td>Adidas AG</td>\n",
       "      <td>1000.0</td>\n",
       "      <td>Desconocido</td>\n",
       "      <td>Desconocido</td>\n",
       "      <td>0.0</td>\n",
       "    </tr>\n",
       "    <tr>\n",
       "      <th>2</th>\n",
       "      <td>NaN</td>\n",
       "      <td>NaN</td>\n",
       "      <td>España</td>\n",
       "      <td>Marchena</td>\n",
       "      <td>1948.0</td>\n",
       "    </tr>\n",
       "    <tr>\n",
       "      <th>3</th>\n",
       "      <td>Jordan Brand</td>\n",
       "      <td>6000.0</td>\n",
       "      <td>Desconocido</td>\n",
       "      <td>Desconocido</td>\n",
       "      <td>0.0</td>\n",
       "    </tr>\n",
       "    <tr>\n",
       "      <th>4</th>\n",
       "      <td>Puma SE</td>\n",
       "      <td>1000.0</td>\n",
       "      <td>Desconocido</td>\n",
       "      <td>Desconocido</td>\n",
       "      <td>0.0</td>\n",
       "    </tr>\n",
       "    <tr>\n",
       "      <th>5</th>\n",
       "      <td>Nike Inc.</td>\n",
       "      <td>2300.0</td>\n",
       "      <td>Desconocido</td>\n",
       "      <td>Desconocido</td>\n",
       "      <td>0.0</td>\n",
       "    </tr>\n",
       "  </tbody>\n",
       "</table>\n",
       "</div>"
      ],
      "text/plain": [
       "          Marca  Cantidad_Empleados         País       Ciudad  Fundacion\n",
       "0           NaN                 NaN       España     Las 3000     1996.0\n",
       "1     Adidas AG              1000.0  Desconocido  Desconocido        0.0\n",
       "2           NaN                 NaN       España     Marchena     1948.0\n",
       "3  Jordan Brand              6000.0  Desconocido  Desconocido        0.0\n",
       "4       Puma SE              1000.0  Desconocido  Desconocido        0.0\n",
       "5     Nike Inc.              2300.0  Desconocido  Desconocido        0.0"
      ]
     },
     "execution_count": 128,
     "metadata": {},
     "output_type": "execute_result"
    }
   ],
   "source": [
    "mapeo = {'Nike': 'Nike Inc.', 'Adidas': 'Adidas AG', 'Puma': 'Puma SE', 'Jordan': 'Jordan Brand'}\n",
    "\n",
    "df_random['Marca'] = df_random['Marca'].map(mapeo)\n",
    "df_random"
   ]
  },
  {
   "cell_type": "markdown",
   "metadata": {},
   "source": [
    "78.Usar groupby para agrupar datos por una columna específica y contar la cantidad de elementos.\n"
   ]
  },
  {
   "cell_type": "code",
   "execution_count": 129,
   "metadata": {},
   "outputs": [
    {
     "data": {
      "text/plain": [
       "Marca\n",
       "Adidas AG       1\n",
       "Jordan Brand    1\n",
       "Nike Inc.       1\n",
       "Puma SE         1\n",
       "dtype: int64"
      ]
     },
     "execution_count": 129,
     "metadata": {},
     "output_type": "execute_result"
    }
   ],
   "source": [
    "grouped_data = df_random.groupby('Marca').size()\n",
    "grouped_data"
   ]
  },
  {
   "cell_type": "markdown",
   "metadata": {},
   "source": [
    "79. Usar la función agg para realizar varias operaciones por un eje de un DataFrame.\n"
   ]
  },
  {
   "cell_type": "code",
   "execution_count": 130,
   "metadata": {},
   "outputs": [
    {
     "data": {
      "text/html": [
       "<div>\n",
       "<style scoped>\n",
       "    .dataframe tbody tr th:only-of-type {\n",
       "        vertical-align: middle;\n",
       "    }\n",
       "\n",
       "    .dataframe tbody tr th {\n",
       "        vertical-align: top;\n",
       "    }\n",
       "\n",
       "    .dataframe thead th {\n",
       "        text-align: right;\n",
       "    }\n",
       "</style>\n",
       "<table border=\"1\" class=\"dataframe\">\n",
       "  <thead>\n",
       "    <tr style=\"text-align: right;\">\n",
       "      <th></th>\n",
       "      <th>Cantidad_Empleados</th>\n",
       "      <th>Fundacion</th>\n",
       "    </tr>\n",
       "  </thead>\n",
       "  <tbody>\n",
       "    <tr>\n",
       "      <th>sum</th>\n",
       "      <td>10300.0</td>\n",
       "      <td>NaN</td>\n",
       "    </tr>\n",
       "    <tr>\n",
       "      <th>mean</th>\n",
       "      <td>2575.0</td>\n",
       "      <td>NaN</td>\n",
       "    </tr>\n",
       "    <tr>\n",
       "      <th>max</th>\n",
       "      <td>6000.0</td>\n",
       "      <td>1996.0</td>\n",
       "    </tr>\n",
       "    <tr>\n",
       "      <th>min</th>\n",
       "      <td>1000.0</td>\n",
       "      <td>0.0</td>\n",
       "    </tr>\n",
       "  </tbody>\n",
       "</table>\n",
       "</div>"
      ],
      "text/plain": [
       "      Cantidad_Empleados  Fundacion\n",
       "sum              10300.0        NaN\n",
       "mean              2575.0        NaN\n",
       "max               6000.0     1996.0\n",
       "min               1000.0        0.0"
      ]
     },
     "execution_count": 130,
     "metadata": {},
     "output_type": "execute_result"
    }
   ],
   "source": [
    "agg_operations = df_random.agg({\n",
    "    'Cantidad_Empleados': ['sum', 'mean', 'max', 'min'],\n",
    "    'Fundacion': ['max', 'min']\n",
    "})\n",
    "\n",
    "agg_operations"
   ]
  },
  {
   "cell_type": "markdown",
   "metadata": {},
   "source": [
    "80. Eliminar registros que no cumplan con una condición sobre una columna específica.\n"
   ]
  },
  {
   "cell_type": "code",
   "execution_count": 131,
   "metadata": {},
   "outputs": [
    {
     "data": {
      "text/html": [
       "<div>\n",
       "<style scoped>\n",
       "    .dataframe tbody tr th:only-of-type {\n",
       "        vertical-align: middle;\n",
       "    }\n",
       "\n",
       "    .dataframe tbody tr th {\n",
       "        vertical-align: top;\n",
       "    }\n",
       "\n",
       "    .dataframe thead th {\n",
       "        text-align: right;\n",
       "    }\n",
       "</style>\n",
       "<table border=\"1\" class=\"dataframe\">\n",
       "  <thead>\n",
       "    <tr style=\"text-align: right;\">\n",
       "      <th></th>\n",
       "      <th>Marca</th>\n",
       "      <th>Cantidad_Empleados</th>\n",
       "      <th>País</th>\n",
       "      <th>Ciudad</th>\n",
       "      <th>Fundacion</th>\n",
       "    </tr>\n",
       "  </thead>\n",
       "  <tbody>\n",
       "    <tr>\n",
       "      <th>3</th>\n",
       "      <td>Jordan Brand</td>\n",
       "      <td>6000.0</td>\n",
       "      <td>Desconocido</td>\n",
       "      <td>Desconocido</td>\n",
       "      <td>0.0</td>\n",
       "    </tr>\n",
       "    <tr>\n",
       "      <th>5</th>\n",
       "      <td>Nike Inc.</td>\n",
       "      <td>2300.0</td>\n",
       "      <td>Desconocido</td>\n",
       "      <td>Desconocido</td>\n",
       "      <td>0.0</td>\n",
       "    </tr>\n",
       "  </tbody>\n",
       "</table>\n",
       "</div>"
      ],
      "text/plain": [
       "          Marca  Cantidad_Empleados         País       Ciudad  Fundacion\n",
       "3  Jordan Brand              6000.0  Desconocido  Desconocido        0.0\n",
       "5     Nike Inc.              2300.0  Desconocido  Desconocido        0.0"
      ]
     },
     "execution_count": 131,
     "metadata": {},
     "output_type": "execute_result"
    }
   ],
   "source": [
    "df_filtered = df_random[df_random['Cantidad_Empleados'] >= 2000]\n",
    "df_filtered"
   ]
  },
  {
   "cell_type": "markdown",
   "metadata": {},
   "source": [
    "81. Agrupar un conjunto de datos y luego calcular su promedio con groupby y mean.\n"
   ]
  },
  {
   "cell_type": "code",
   "execution_count": 132,
   "metadata": {},
   "outputs": [
    {
     "data": {
      "text/html": [
       "<div>\n",
       "<style scoped>\n",
       "    .dataframe tbody tr th:only-of-type {\n",
       "        vertical-align: middle;\n",
       "    }\n",
       "\n",
       "    .dataframe tbody tr th {\n",
       "        vertical-align: top;\n",
       "    }\n",
       "\n",
       "    .dataframe thead th {\n",
       "        text-align: right;\n",
       "    }\n",
       "</style>\n",
       "<table border=\"1\" class=\"dataframe\">\n",
       "  <thead>\n",
       "    <tr style=\"text-align: right;\">\n",
       "      <th></th>\n",
       "      <th>Cantidad_Empleados</th>\n",
       "      <th>Fundacion</th>\n",
       "    </tr>\n",
       "    <tr>\n",
       "      <th>Marca</th>\n",
       "      <th></th>\n",
       "      <th></th>\n",
       "    </tr>\n",
       "  </thead>\n",
       "  <tbody>\n",
       "    <tr>\n",
       "      <th>Adidas AG</th>\n",
       "      <td>1000.0</td>\n",
       "      <td>0.0</td>\n",
       "    </tr>\n",
       "    <tr>\n",
       "      <th>Jordan Brand</th>\n",
       "      <td>6000.0</td>\n",
       "      <td>0.0</td>\n",
       "    </tr>\n",
       "    <tr>\n",
       "      <th>Nike Inc.</th>\n",
       "      <td>2300.0</td>\n",
       "      <td>0.0</td>\n",
       "    </tr>\n",
       "    <tr>\n",
       "      <th>Puma SE</th>\n",
       "      <td>1000.0</td>\n",
       "      <td>0.0</td>\n",
       "    </tr>\n",
       "  </tbody>\n",
       "</table>\n",
       "</div>"
      ],
      "text/plain": [
       "              Cantidad_Empleados  Fundacion\n",
       "Marca                                      \n",
       "Adidas AG                 1000.0        0.0\n",
       "Jordan Brand              6000.0        0.0\n",
       "Nike Inc.                 2300.0        0.0\n",
       "Puma SE                   1000.0        0.0"
      ]
     },
     "execution_count": 132,
     "metadata": {},
     "output_type": "execute_result"
    }
   ],
   "source": [
    "df_grouped_mean = df_random.groupby('Marca').mean(numeric_only=True)\n",
    "df_grouped_mean"
   ]
  },
  {
   "cell_type": "markdown",
   "metadata": {},
   "source": [
    "82. Usar las funciones all y any sobre un objeto DataFrame.\n"
   ]
  },
  {
   "cell_type": "code",
   "execution_count": 133,
   "metadata": {},
   "outputs": [
    {
     "name": "stdout",
     "output_type": "stream",
     "text": [
      "Todos los valores en Cantidad_Empleados son mayores que 1000: False\n",
      "Algún valor en Cantidad_Empleados es mayor que 1000: True\n"
     ]
    }
   ],
   "source": [
    "todos_mayores_1000 = df_random['Cantidad_Empleados'].gt(1000).all()\n",
    "print(\"Todos los valores en Cantidad_Empleados son mayores que 1000:\", todos_mayores_1000)\n",
    "\n",
    "alguno_mayor_1000 = df_random['Cantidad_Empleados'].gt(1000).any()\n",
    "print(\"Algún valor en Cantidad_Empleados es mayor que 1000:\", alguno_mayor_1000)\n"
   ]
  },
  {
   "cell_type": "markdown",
   "metadata": {},
   "source": [
    "83. Calcular el elemento mayor por cada fila y columna con la función max.\n"
   ]
  },
  {
   "cell_type": "code",
   "execution_count": 134,
   "metadata": {},
   "outputs": [
    {
     "name": "stdout",
     "output_type": "stream",
     "text": [
      "Máximo por columna:\n",
      " Cantidad_Empleados    6000.0\n",
      "Fundacion             1996.0\n",
      "dtype: float64\n",
      "Máximo por fila:\n",
      " 0    1996.0\n",
      "1    1000.0\n",
      "2    1948.0\n",
      "3    6000.0\n",
      "4    1000.0\n",
      "5    2300.0\n",
      "dtype: float64\n"
     ]
    }
   ],
   "source": [
    "numeric_cols = df_random.select_dtypes(include=[np.number])\n",
    "\n",
    "max_per_column = numeric_cols.max()\n",
    "\n",
    "max_per_row = numeric_cols.max(axis=1)\n",
    "\n",
    "print(\"Máximo por columna:\\n\", max_per_column)\n",
    "print(\"Máximo por fila:\\n\", max_per_row)\n"
   ]
  },
  {
   "cell_type": "markdown",
   "metadata": {},
   "source": [
    "84. Calcular el promedio y la mediana por cada fila y columna con mean y median.\n"
   ]
  },
  {
   "cell_type": "code",
   "execution_count": 135,
   "metadata": {},
   "outputs": [
    {
     "name": "stdout",
     "output_type": "stream",
     "text": [
      "Promedio por columna:\n",
      " Cantidad_Empleados    2575.000000\n",
      "Fundacion              657.333333\n",
      "dtype: float64\n",
      "Mediana por columna:\n",
      " Cantidad_Empleados    1650.0\n",
      "Fundacion                0.0\n",
      "dtype: float64\n",
      "Promedio por fila:\n",
      " 0    1996.0\n",
      "1     500.0\n",
      "2    1948.0\n",
      "3    3000.0\n",
      "4     500.0\n",
      "5    1150.0\n",
      "dtype: float64\n",
      "Mediana por fila:\n",
      " 0    1996.0\n",
      "1     500.0\n",
      "2    1948.0\n",
      "3    3000.0\n",
      "4     500.0\n",
      "5    1150.0\n",
      "dtype: float64\n"
     ]
    }
   ],
   "source": [
    "mean_per_column = df_random.mean(numeric_only=True)\n",
    "print(\"Promedio por columna:\\n\", mean_per_column)\n",
    "\n",
    "median_per_column = df_random.median(numeric_only=True)\n",
    "print(\"Mediana por columna:\\n\", median_per_column)\n",
    "\n",
    "mean_per_row = df_random.mean(axis=1, numeric_only=True)\n",
    "print(\"Promedio por fila:\\n\", mean_per_row)\n",
    "\n",
    "median_per_row = df_random.median(axis=1, numeric_only=True)\n",
    "print(\"Mediana por fila:\\n\", median_per_row)"
   ]
  },
  {
   "cell_type": "markdown",
   "metadata": {},
   "source": [
    "85. Calcular el elemento menor por cada fila y columna con la función min.\n"
   ]
  },
  {
   "cell_type": "code",
   "execution_count": null,
   "metadata": {},
   "outputs": [
    {
     "name": "stdout",
     "output_type": "stream",
     "text": [
      "Mínimo por columna:\n",
      " Fundacion    1948\n",
      "dtype: int64\n",
      "Mínimo por fila:\n",
      " 0    1964\n",
      "1    1949\n",
      "2    1948\n",
      "3    1984\n",
      "4    1996\n",
      "dtype: int64\n"
     ]
    }
   ],
   "source": [
    "min_per_column = df_nuevo.min(numeric_only=True)\n",
    "min_per_row = df_nuevo.min(axis=1, numeric_only=True)\n",
    "\n",
    "print(\"Mínimo por columna:\\n\", min_per_column)\n",
    "print(\"Mínimo por fila:\\n\", min_per_row)"
   ]
  },
  {
   "cell_type": "code",
   "execution_count": 140,
   "metadata": {},
   "outputs": [
    {
     "data": {
      "text/html": [
       "<div>\n",
       "<style scoped>\n",
       "    .dataframe tbody tr th:only-of-type {\n",
       "        vertical-align: middle;\n",
       "    }\n",
       "\n",
       "    .dataframe tbody tr th {\n",
       "        vertical-align: top;\n",
       "    }\n",
       "\n",
       "    .dataframe thead th {\n",
       "        text-align: right;\n",
       "    }\n",
       "</style>\n",
       "<table border=\"1\" class=\"dataframe\">\n",
       "  <thead>\n",
       "    <tr style=\"text-align: right;\">\n",
       "      <th></th>\n",
       "      <th>Marca</th>\n",
       "      <th>País</th>\n",
       "      <th>Ciudad</th>\n",
       "      <th>Fundacion</th>\n",
       "    </tr>\n",
       "  </thead>\n",
       "  <tbody>\n",
       "    <tr>\n",
       "      <th>0</th>\n",
       "      <td>Nike</td>\n",
       "      <td>España</td>\n",
       "      <td>Los Palacios</td>\n",
       "      <td>1964</td>\n",
       "    </tr>\n",
       "    <tr>\n",
       "      <th>1</th>\n",
       "      <td>Adidas</td>\n",
       "      <td>España</td>\n",
       "      <td>Lora del rio</td>\n",
       "      <td>1949</td>\n",
       "    </tr>\n",
       "    <tr>\n",
       "      <th>2</th>\n",
       "      <td>NewBalance</td>\n",
       "      <td>España</td>\n",
       "      <td>Marchena</td>\n",
       "      <td>1948</td>\n",
       "    </tr>\n",
       "    <tr>\n",
       "      <th>3</th>\n",
       "      <td>Jordan</td>\n",
       "      <td>España</td>\n",
       "      <td>Tenerife</td>\n",
       "      <td>1984</td>\n",
       "    </tr>\n",
       "    <tr>\n",
       "      <th>4</th>\n",
       "      <td>UnderGround</td>\n",
       "      <td>España</td>\n",
       "      <td>Las 3000</td>\n",
       "      <td>1996</td>\n",
       "    </tr>\n",
       "  </tbody>\n",
       "</table>\n",
       "</div>"
      ],
      "text/plain": [
       "         Marca    País        Ciudad  Fundacion\n",
       "0         Nike  España  Los Palacios       1964\n",
       "1       Adidas  España  Lora del rio       1949\n",
       "2   NewBalance  España      Marchena       1948\n",
       "3       Jordan  España      Tenerife       1984\n",
       "4  UnderGround  España      Las 3000       1996"
      ]
     },
     "execution_count": 140,
     "metadata": {},
     "output_type": "execute_result"
    }
   ],
   "source": [
    "df_nuevo"
   ]
  },
  {
   "cell_type": "markdown",
   "metadata": {},
   "source": [
    "86. Redondear valores reales con la función DataFrame.round.\n"
   ]
  },
  {
   "cell_type": "code",
   "execution_count": null,
   "metadata": {},
   "outputs": [
    {
     "data": {
      "text/html": [
       "<div>\n",
       "<style scoped>\n",
       "    .dataframe tbody tr th:only-of-type {\n",
       "        vertical-align: middle;\n",
       "    }\n",
       "\n",
       "    .dataframe tbody tr th {\n",
       "        vertical-align: top;\n",
       "    }\n",
       "\n",
       "    .dataframe thead th {\n",
       "        text-align: right;\n",
       "    }\n",
       "</style>\n",
       "<table border=\"1\" class=\"dataframe\">\n",
       "  <thead>\n",
       "    <tr style=\"text-align: right;\">\n",
       "      <th></th>\n",
       "      <th>A</th>\n",
       "      <th>B</th>\n",
       "    </tr>\n",
       "  </thead>\n",
       "  <tbody>\n",
       "    <tr>\n",
       "      <th>0</th>\n",
       "      <td>1.12</td>\n",
       "      <td>5.54</td>\n",
       "    </tr>\n",
       "    <tr>\n",
       "      <th>1</th>\n",
       "      <td>2.68</td>\n",
       "      <td>6.88</td>\n",
       "    </tr>\n",
       "    <tr>\n",
       "      <th>2</th>\n",
       "      <td>3.14</td>\n",
       "      <td>7.12</td>\n",
       "    </tr>\n",
       "    <tr>\n",
       "      <th>3</th>\n",
       "      <td>4.99</td>\n",
       "      <td>8.99</td>\n",
       "    </tr>\n",
       "  </tbody>\n",
       "</table>\n",
       "</div>"
      ],
      "text/plain": [
       "      A     B\n",
       "0  1.12  5.54\n",
       "1  2.68  6.88\n",
       "2  3.14  7.12\n",
       "3  4.99  8.99"
      ]
     },
     "execution_count": 148,
     "metadata": {},
     "output_type": "execute_result"
    }
   ],
   "source": [
    "df_redondear = pd.DataFrame({\n",
    "    'A': [1.12345, 2.67891, 3.14159, 4.98765],\n",
    "    'B': [5.54321, 6.87654, 7.12345, 8.98765]\n",
    "})\n",
    "\n",
    "df_redondear = df_redondear.round(2)\n",
    "df_redondear"
   ]
  },
  {
   "cell_type": "markdown",
   "metadata": {},
   "source": [
    "87. Sumar los valores de una columna de un DataFrame con sum.\n"
   ]
  },
  {
   "cell_type": "code",
   "execution_count": 150,
   "metadata": {},
   "outputs": [
    {
     "name": "stdout",
     "output_type": "stream",
     "text": [
      "Suma de la columna B: 28.53\n"
     ]
    }
   ],
   "source": [
    "suma_cantidad_empleados = df_redondear['B'].sum()\n",
    "print(\"Suma de la columna B:\", suma_cantidad_empleados)"
   ]
  },
  {
   "cell_type": "markdown",
   "metadata": {},
   "source": [
    "88. Calcular el promedio de los valores de una columna de un DataFrame.\n"
   ]
  },
  {
   "cell_type": "code",
   "execution_count": 151,
   "metadata": {},
   "outputs": [
    {
     "name": "stdout",
     "output_type": "stream",
     "text": [
      "Promedio de la columna B: 7.1325\n"
     ]
    }
   ],
   "source": [
    "promedio_columna_B = df_redondear['B'].mean()\n",
    "print(\"Promedio de la columna B:\", promedio_columna_B)"
   ]
  },
  {
   "cell_type": "markdown",
   "metadata": {},
   "source": [
    "89. Calcular el módulo sobre cada elemento de un objeto DataFrame numérico (una matriz).\n"
   ]
  },
  {
   "cell_type": "code",
   "execution_count": 152,
   "metadata": {},
   "outputs": [
    {
     "data": {
      "text/html": [
       "<div>\n",
       "<style scoped>\n",
       "    .dataframe tbody tr th:only-of-type {\n",
       "        vertical-align: middle;\n",
       "    }\n",
       "\n",
       "    .dataframe tbody tr th {\n",
       "        vertical-align: top;\n",
       "    }\n",
       "\n",
       "    .dataframe thead th {\n",
       "        text-align: right;\n",
       "    }\n",
       "</style>\n",
       "<table border=\"1\" class=\"dataframe\">\n",
       "  <thead>\n",
       "    <tr style=\"text-align: right;\">\n",
       "      <th></th>\n",
       "      <th>A</th>\n",
       "      <th>B</th>\n",
       "    </tr>\n",
       "  </thead>\n",
       "  <tbody>\n",
       "    <tr>\n",
       "      <th>0</th>\n",
       "      <td>1.12</td>\n",
       "      <td>1.54</td>\n",
       "    </tr>\n",
       "    <tr>\n",
       "      <th>1</th>\n",
       "      <td>0.68</td>\n",
       "      <td>0.88</td>\n",
       "    </tr>\n",
       "    <tr>\n",
       "      <th>2</th>\n",
       "      <td>1.14</td>\n",
       "      <td>1.12</td>\n",
       "    </tr>\n",
       "    <tr>\n",
       "      <th>3</th>\n",
       "      <td>0.99</td>\n",
       "      <td>0.99</td>\n",
       "    </tr>\n",
       "  </tbody>\n",
       "</table>\n",
       "</div>"
      ],
      "text/plain": [
       "      A     B\n",
       "0  1.12  1.54\n",
       "1  0.68  0.88\n",
       "2  1.14  1.12\n",
       "3  0.99  0.99"
      ]
     },
     "execution_count": 152,
     "metadata": {},
     "output_type": "execute_result"
    }
   ],
   "source": [
    "df_modulo = df_redondear.mod(2)\n",
    "df_modulo"
   ]
  },
  {
   "cell_type": "markdown",
   "metadata": {},
   "source": [
    "90. Calcular el producto punto entre dos objetos DataFrame con la función dot.\n"
   ]
  },
  {
   "cell_type": "code",
   "execution_count": null,
   "metadata": {},
   "outputs": [
    {
     "data": {
      "text/html": [
       "<div>\n",
       "<style scoped>\n",
       "    .dataframe tbody tr th:only-of-type {\n",
       "        vertical-align: middle;\n",
       "    }\n",
       "\n",
       "    .dataframe tbody tr th {\n",
       "        vertical-align: top;\n",
       "    }\n",
       "\n",
       "    .dataframe thead th {\n",
       "        text-align: right;\n",
       "    }\n",
       "</style>\n",
       "<table border=\"1\" class=\"dataframe\">\n",
       "  <thead>\n",
       "    <tr style=\"text-align: right;\">\n",
       "      <th></th>\n",
       "      <th>0</th>\n",
       "      <th>1</th>\n",
       "      <th>2</th>\n",
       "    </tr>\n",
       "  </thead>\n",
       "  <tbody>\n",
       "    <tr>\n",
       "      <th>0</th>\n",
       "      <td>120</td>\n",
       "      <td>132</td>\n",
       "      <td>445</td>\n",
       "    </tr>\n",
       "    <tr>\n",
       "      <th>1</th>\n",
       "      <td>147</td>\n",
       "      <td>162</td>\n",
       "      <td>530</td>\n",
       "    </tr>\n",
       "    <tr>\n",
       "      <th>2</th>\n",
       "      <td>174</td>\n",
       "      <td>192</td>\n",
       "      <td>615</td>\n",
       "    </tr>\n",
       "  </tbody>\n",
       "</table>\n",
       "</div>"
      ],
      "text/plain": [
       "     0    1    2\n",
       "0  120  132  445\n",
       "1  147  162  530\n",
       "2  174  192  615"
      ]
     },
     "execution_count": 160,
     "metadata": {},
     "output_type": "execute_result"
    }
   ],
   "source": [
    "df1 = pd.DataFrame({\n",
    "    'A': [1, 2, 3],\n",
    "    'B': [4, 5, 6],\n",
    "    'C': [7, 8, 9]\n",
    "})\n",
    "\n",
    "df2 = pd.DataFrame({\n",
    "    'A': [7, 8, 15],\n",
    "    'B': [9, 10, 20],\n",
    "    'C': [11, 12, 50]\n",
    "})\n",
    "\n",
    "producto_punto = df1.dot(df2.T)\n",
    "producto_punto"
   ]
  },
  {
   "cell_type": "markdown",
   "metadata": {},
   "source": [
    "91. Calcular la transpuesta de un objeto DataFrame con transpose o T.\n"
   ]
  },
  {
   "cell_type": "code",
   "execution_count": null,
   "metadata": {},
   "outputs": [
    {
     "data": {
      "text/html": [
       "<div>\n",
       "<style scoped>\n",
       "    .dataframe tbody tr th:only-of-type {\n",
       "        vertical-align: middle;\n",
       "    }\n",
       "\n",
       "    .dataframe tbody tr th {\n",
       "        vertical-align: top;\n",
       "    }\n",
       "\n",
       "    .dataframe thead th {\n",
       "        text-align: right;\n",
       "    }\n",
       "</style>\n",
       "<table border=\"1\" class=\"dataframe\">\n",
       "  <thead>\n",
       "    <tr style=\"text-align: right;\">\n",
       "      <th></th>\n",
       "      <th>0</th>\n",
       "      <th>1</th>\n",
       "      <th>2</th>\n",
       "      <th>3</th>\n",
       "    </tr>\n",
       "  </thead>\n",
       "  <tbody>\n",
       "    <tr>\n",
       "      <th>A</th>\n",
       "      <td>1.12</td>\n",
       "      <td>2.68</td>\n",
       "      <td>3.14</td>\n",
       "      <td>4.99</td>\n",
       "    </tr>\n",
       "    <tr>\n",
       "      <th>B</th>\n",
       "      <td>5.54</td>\n",
       "      <td>6.88</td>\n",
       "      <td>7.12</td>\n",
       "      <td>8.99</td>\n",
       "    </tr>\n",
       "  </tbody>\n",
       "</table>\n",
       "</div>"
      ],
      "text/plain": [
       "      0     1     2     3\n",
       "A  1.12  2.68  3.14  4.99\n",
       "B  5.54  6.88  7.12  8.99"
      ]
     },
     "execution_count": 162,
     "metadata": {},
     "output_type": "execute_result"
    }
   ],
   "source": [
    "df_transposed = df_redondear.transpose()\n",
    "df_transposed"
   ]
  },
  {
   "cell_type": "markdown",
   "metadata": {},
   "source": [
    "92. Usar operadores relacionales para comparar elementos de objetos DataFrame.\n"
   ]
  },
  {
   "cell_type": "code",
   "execution_count": 164,
   "metadata": {
    "vscode": {
     "languageId": "javascript"
    }
   },
   "outputs": [
    {
     "name": "stdout",
     "output_type": "stream",
     "text": [
      "Comparación mayor que 20:\n",
      "        A      B\n",
      "0  False  False\n",
      "1  False  False\n",
      "2   True   True\n",
      "3   True   True\n",
      "4   True   True\n",
      "Comparación igual a 30:\n",
      "        A      B\n",
      "0  False  False\n",
      "1  False  False\n",
      "2   True  False\n",
      "3  False  False\n",
      "4  False  False\n"
     ]
    }
   ],
   "source": [
    "data = {\n",
    "    'A': [10, 20, 30, 40, 50],\n",
    "    'B': [5, 15, 25, 35, 45]\n",
    "}\n",
    "dfej92 = pd.DataFrame(data)\n",
    "\n",
    "comparacion_mayor = dfej92 > 20\n",
    "comparacion_igual = dfej92 == 30\n",
    "\n",
    "print(\"Comparación mayor que 20:\\n\", comparacion_mayor)\n",
    "print(\"Comparación igual a 30:\\n\", comparacion_igual)"
   ]
  },
  {
   "cell_type": "markdown",
   "metadata": {},
   "source": [
    "93. Verificar con equals si dos objetos DataFrame contienen los mismos elementos.\n"
   ]
  },
  {
   "cell_type": "code",
   "execution_count": 165,
   "metadata": {
    "vscode": {
     "languageId": "javascript"
    }
   },
   "outputs": [
    {
     "data": {
      "text/plain": [
       "False"
      ]
     },
     "execution_count": 165,
     "metadata": {},
     "output_type": "execute_result"
    }
   ],
   "source": [
    "df1.equals(df2)"
   ]
  }
 ],
 "metadata": {
  "kernelspec": {
   "display_name": "base",
   "language": "python",
   "name": "python3"
  },
  "language_info": {
   "codemirror_mode": {
    "name": "ipython",
    "version": 3
   },
   "file_extension": ".py",
   "mimetype": "text/x-python",
   "name": "python",
   "nbconvert_exporter": "python",
   "pygments_lexer": "ipython3",
   "version": "3.12.4"
  }
 },
 "nbformat": 4,
 "nbformat_minor": 2
}
